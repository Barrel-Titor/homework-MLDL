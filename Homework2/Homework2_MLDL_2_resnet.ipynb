{
  "nbformat": 4,
  "nbformat_minor": 0,
  "metadata": {
    "colab": {
      "name": "Homework2-MLDL.ipynb",
      "provenance": [],
      "collapsed_sections": [],
      "toc_visible": true
    },
    "kernelspec": {
      "name": "python3",
      "display_name": "Python 3"
    },
    "accelerator": "GPU",
    "widgets": {
      "application/vnd.jupyter.widget-state+json": {
        "3eed14353fc543cc969695c26c91a609": {
          "model_module": "@jupyter-widgets/controls",
          "model_name": "HBoxModel",
          "state": {
            "_view_name": "HBoxView",
            "_dom_classes": [],
            "_model_name": "HBoxModel",
            "_view_module": "@jupyter-widgets/controls",
            "_model_module_version": "1.5.0",
            "_view_count": null,
            "_view_module_version": "1.5.0",
            "box_style": "",
            "layout": "IPY_MODEL_f3bbb5cb4f764c84a1f2549fc6c5f2fb",
            "_model_module": "@jupyter-widgets/controls",
            "children": [
              "IPY_MODEL_22621f906cf94aa1b76f43df91d6b346",
              "IPY_MODEL_66bd2da7669d4d67b2060c83b8f2584b"
            ]
          }
        },
        "f3bbb5cb4f764c84a1f2549fc6c5f2fb": {
          "model_module": "@jupyter-widgets/base",
          "model_name": "LayoutModel",
          "state": {
            "_view_name": "LayoutView",
            "grid_template_rows": null,
            "right": null,
            "justify_content": null,
            "_view_module": "@jupyter-widgets/base",
            "overflow": null,
            "_model_module_version": "1.2.0",
            "_view_count": null,
            "flex_flow": null,
            "width": null,
            "min_width": null,
            "border": null,
            "align_items": null,
            "bottom": null,
            "_model_module": "@jupyter-widgets/base",
            "top": null,
            "grid_column": null,
            "overflow_y": null,
            "overflow_x": null,
            "grid_auto_flow": null,
            "grid_area": null,
            "grid_template_columns": null,
            "flex": null,
            "_model_name": "LayoutModel",
            "justify_items": null,
            "grid_row": null,
            "max_height": null,
            "align_content": null,
            "visibility": null,
            "align_self": null,
            "height": null,
            "min_height": null,
            "padding": null,
            "grid_auto_rows": null,
            "grid_gap": null,
            "max_width": null,
            "order": null,
            "_view_module_version": "1.2.0",
            "grid_template_areas": null,
            "object_position": null,
            "object_fit": null,
            "grid_auto_columns": null,
            "margin": null,
            "display": null,
            "left": null
          }
        },
        "22621f906cf94aa1b76f43df91d6b346": {
          "model_module": "@jupyter-widgets/controls",
          "model_name": "FloatProgressModel",
          "state": {
            "_view_name": "ProgressView",
            "style": "IPY_MODEL_7497671943cb41cb9304199bed6e7fc3",
            "_dom_classes": [],
            "description": "100%",
            "_model_name": "FloatProgressModel",
            "bar_style": "success",
            "max": 244418560,
            "_view_module": "@jupyter-widgets/controls",
            "_model_module_version": "1.5.0",
            "value": 244418560,
            "_view_count": null,
            "_view_module_version": "1.5.0",
            "orientation": "horizontal",
            "min": 0,
            "description_tooltip": null,
            "_model_module": "@jupyter-widgets/controls",
            "layout": "IPY_MODEL_0087eea07d834608b8acd920c93ce4eb"
          }
        },
        "66bd2da7669d4d67b2060c83b8f2584b": {
          "model_module": "@jupyter-widgets/controls",
          "model_name": "HTMLModel",
          "state": {
            "_view_name": "HTMLView",
            "style": "IPY_MODEL_11045dd12df6433994c4779dc952905f",
            "_dom_classes": [],
            "description": "",
            "_model_name": "HTMLModel",
            "placeholder": "​",
            "_view_module": "@jupyter-widgets/controls",
            "_model_module_version": "1.5.0",
            "value": " 233M/233M [16:08&lt;00:00, 252kB/s]",
            "_view_count": null,
            "_view_module_version": "1.5.0",
            "description_tooltip": null,
            "_model_module": "@jupyter-widgets/controls",
            "layout": "IPY_MODEL_117be925975342b284e9559c866661c6"
          }
        },
        "7497671943cb41cb9304199bed6e7fc3": {
          "model_module": "@jupyter-widgets/controls",
          "model_name": "ProgressStyleModel",
          "state": {
            "_view_name": "StyleView",
            "_model_name": "ProgressStyleModel",
            "description_width": "initial",
            "_view_module": "@jupyter-widgets/base",
            "_model_module_version": "1.5.0",
            "_view_count": null,
            "_view_module_version": "1.2.0",
            "bar_color": null,
            "_model_module": "@jupyter-widgets/controls"
          }
        },
        "0087eea07d834608b8acd920c93ce4eb": {
          "model_module": "@jupyter-widgets/base",
          "model_name": "LayoutModel",
          "state": {
            "_view_name": "LayoutView",
            "grid_template_rows": null,
            "right": null,
            "justify_content": null,
            "_view_module": "@jupyter-widgets/base",
            "overflow": null,
            "_model_module_version": "1.2.0",
            "_view_count": null,
            "flex_flow": null,
            "width": null,
            "min_width": null,
            "border": null,
            "align_items": null,
            "bottom": null,
            "_model_module": "@jupyter-widgets/base",
            "top": null,
            "grid_column": null,
            "overflow_y": null,
            "overflow_x": null,
            "grid_auto_flow": null,
            "grid_area": null,
            "grid_template_columns": null,
            "flex": null,
            "_model_name": "LayoutModel",
            "justify_items": null,
            "grid_row": null,
            "max_height": null,
            "align_content": null,
            "visibility": null,
            "align_self": null,
            "height": null,
            "min_height": null,
            "padding": null,
            "grid_auto_rows": null,
            "grid_gap": null,
            "max_width": null,
            "order": null,
            "_view_module_version": "1.2.0",
            "grid_template_areas": null,
            "object_position": null,
            "object_fit": null,
            "grid_auto_columns": null,
            "margin": null,
            "display": null,
            "left": null
          }
        },
        "11045dd12df6433994c4779dc952905f": {
          "model_module": "@jupyter-widgets/controls",
          "model_name": "DescriptionStyleModel",
          "state": {
            "_view_name": "StyleView",
            "_model_name": "DescriptionStyleModel",
            "description_width": "",
            "_view_module": "@jupyter-widgets/base",
            "_model_module_version": "1.5.0",
            "_view_count": null,
            "_view_module_version": "1.2.0",
            "_model_module": "@jupyter-widgets/controls"
          }
        },
        "117be925975342b284e9559c866661c6": {
          "model_module": "@jupyter-widgets/base",
          "model_name": "LayoutModel",
          "state": {
            "_view_name": "LayoutView",
            "grid_template_rows": null,
            "right": null,
            "justify_content": null,
            "_view_module": "@jupyter-widgets/base",
            "overflow": null,
            "_model_module_version": "1.2.0",
            "_view_count": null,
            "flex_flow": null,
            "width": null,
            "min_width": null,
            "border": null,
            "align_items": null,
            "bottom": null,
            "_model_module": "@jupyter-widgets/base",
            "top": null,
            "grid_column": null,
            "overflow_y": null,
            "overflow_x": null,
            "grid_auto_flow": null,
            "grid_area": null,
            "grid_template_columns": null,
            "flex": null,
            "_model_name": "LayoutModel",
            "justify_items": null,
            "grid_row": null,
            "max_height": null,
            "align_content": null,
            "visibility": null,
            "align_self": null,
            "height": null,
            "min_height": null,
            "padding": null,
            "grid_auto_rows": null,
            "grid_gap": null,
            "max_width": null,
            "order": null,
            "_view_module_version": "1.2.0",
            "grid_template_areas": null,
            "object_position": null,
            "object_fit": null,
            "grid_auto_columns": null,
            "margin": null,
            "display": null,
            "left": null
          }
        },
        "df82f0846e5749d5b728065ffc5e6c30": {
          "model_module": "@jupyter-widgets/controls",
          "model_name": "HBoxModel",
          "state": {
            "_view_name": "HBoxView",
            "_dom_classes": [],
            "_model_name": "HBoxModel",
            "_view_module": "@jupyter-widgets/controls",
            "_model_module_version": "1.5.0",
            "_view_count": null,
            "_view_module_version": "1.5.0",
            "box_style": "",
            "layout": "IPY_MODEL_1f381177dd304d5eb30bbd50db323a43",
            "_model_module": "@jupyter-widgets/controls",
            "children": [
              "IPY_MODEL_4d8c2ef0132a48c0a0c5fa2867d671ab",
              "IPY_MODEL_21213e2f232441d5859cc6f46700dae6"
            ]
          }
        },
        "1f381177dd304d5eb30bbd50db323a43": {
          "model_module": "@jupyter-widgets/base",
          "model_name": "LayoutModel",
          "state": {
            "_view_name": "LayoutView",
            "grid_template_rows": null,
            "right": null,
            "justify_content": null,
            "_view_module": "@jupyter-widgets/base",
            "overflow": null,
            "_model_module_version": "1.2.0",
            "_view_count": null,
            "flex_flow": null,
            "width": null,
            "min_width": null,
            "border": null,
            "align_items": null,
            "bottom": null,
            "_model_module": "@jupyter-widgets/base",
            "top": null,
            "grid_column": null,
            "overflow_y": null,
            "overflow_x": null,
            "grid_auto_flow": null,
            "grid_area": null,
            "grid_template_columns": null,
            "flex": null,
            "_model_name": "LayoutModel",
            "justify_items": null,
            "grid_row": null,
            "max_height": null,
            "align_content": null,
            "visibility": null,
            "align_self": null,
            "height": null,
            "min_height": null,
            "padding": null,
            "grid_auto_rows": null,
            "grid_gap": null,
            "max_width": null,
            "order": null,
            "_view_module_version": "1.2.0",
            "grid_template_areas": null,
            "object_position": null,
            "object_fit": null,
            "grid_auto_columns": null,
            "margin": null,
            "display": null,
            "left": null
          }
        },
        "4d8c2ef0132a48c0a0c5fa2867d671ab": {
          "model_module": "@jupyter-widgets/controls",
          "model_name": "FloatProgressModel",
          "state": {
            "_view_name": "ProgressView",
            "style": "IPY_MODEL_1493f23fc40f46ad8e00a92c83fadd90",
            "_dom_classes": [],
            "description": "100%",
            "_model_name": "FloatProgressModel",
            "bar_style": "success",
            "max": 46827520,
            "_view_module": "@jupyter-widgets/controls",
            "_model_module_version": "1.5.0",
            "value": 46827520,
            "_view_count": null,
            "_view_module_version": "1.5.0",
            "orientation": "horizontal",
            "min": 0,
            "description_tooltip": null,
            "_model_module": "@jupyter-widgets/controls",
            "layout": "IPY_MODEL_8a68950773db44c9883d3494e8234a58"
          }
        },
        "21213e2f232441d5859cc6f46700dae6": {
          "model_module": "@jupyter-widgets/controls",
          "model_name": "HTMLModel",
          "state": {
            "_view_name": "HTMLView",
            "style": "IPY_MODEL_070933d34c98426c941b96828d9e3880",
            "_dom_classes": [],
            "description": "",
            "_model_name": "HTMLModel",
            "placeholder": "​",
            "_view_module": "@jupyter-widgets/controls",
            "_model_module_version": "1.5.0",
            "value": " 44.7M/44.7M [04:18&lt;00:00, 181kB/s]",
            "_view_count": null,
            "_view_module_version": "1.5.0",
            "description_tooltip": null,
            "_model_module": "@jupyter-widgets/controls",
            "layout": "IPY_MODEL_6771023d01b549059ba12fd79c274f66"
          }
        },
        "1493f23fc40f46ad8e00a92c83fadd90": {
          "model_module": "@jupyter-widgets/controls",
          "model_name": "ProgressStyleModel",
          "state": {
            "_view_name": "StyleView",
            "_model_name": "ProgressStyleModel",
            "description_width": "initial",
            "_view_module": "@jupyter-widgets/base",
            "_model_module_version": "1.5.0",
            "_view_count": null,
            "_view_module_version": "1.2.0",
            "bar_color": null,
            "_model_module": "@jupyter-widgets/controls"
          }
        },
        "8a68950773db44c9883d3494e8234a58": {
          "model_module": "@jupyter-widgets/base",
          "model_name": "LayoutModel",
          "state": {
            "_view_name": "LayoutView",
            "grid_template_rows": null,
            "right": null,
            "justify_content": null,
            "_view_module": "@jupyter-widgets/base",
            "overflow": null,
            "_model_module_version": "1.2.0",
            "_view_count": null,
            "flex_flow": null,
            "width": null,
            "min_width": null,
            "border": null,
            "align_items": null,
            "bottom": null,
            "_model_module": "@jupyter-widgets/base",
            "top": null,
            "grid_column": null,
            "overflow_y": null,
            "overflow_x": null,
            "grid_auto_flow": null,
            "grid_area": null,
            "grid_template_columns": null,
            "flex": null,
            "_model_name": "LayoutModel",
            "justify_items": null,
            "grid_row": null,
            "max_height": null,
            "align_content": null,
            "visibility": null,
            "align_self": null,
            "height": null,
            "min_height": null,
            "padding": null,
            "grid_auto_rows": null,
            "grid_gap": null,
            "max_width": null,
            "order": null,
            "_view_module_version": "1.2.0",
            "grid_template_areas": null,
            "object_position": null,
            "object_fit": null,
            "grid_auto_columns": null,
            "margin": null,
            "display": null,
            "left": null
          }
        },
        "070933d34c98426c941b96828d9e3880": {
          "model_module": "@jupyter-widgets/controls",
          "model_name": "DescriptionStyleModel",
          "state": {
            "_view_name": "StyleView",
            "_model_name": "DescriptionStyleModel",
            "description_width": "",
            "_view_module": "@jupyter-widgets/base",
            "_model_module_version": "1.5.0",
            "_view_count": null,
            "_view_module_version": "1.2.0",
            "_model_module": "@jupyter-widgets/controls"
          }
        },
        "6771023d01b549059ba12fd79c274f66": {
          "model_module": "@jupyter-widgets/base",
          "model_name": "LayoutModel",
          "state": {
            "_view_name": "LayoutView",
            "grid_template_rows": null,
            "right": null,
            "justify_content": null,
            "_view_module": "@jupyter-widgets/base",
            "overflow": null,
            "_model_module_version": "1.2.0",
            "_view_count": null,
            "flex_flow": null,
            "width": null,
            "min_width": null,
            "border": null,
            "align_items": null,
            "bottom": null,
            "_model_module": "@jupyter-widgets/base",
            "top": null,
            "grid_column": null,
            "overflow_y": null,
            "overflow_x": null,
            "grid_auto_flow": null,
            "grid_area": null,
            "grid_template_columns": null,
            "flex": null,
            "_model_name": "LayoutModel",
            "justify_items": null,
            "grid_row": null,
            "max_height": null,
            "align_content": null,
            "visibility": null,
            "align_self": null,
            "height": null,
            "min_height": null,
            "padding": null,
            "grid_auto_rows": null,
            "grid_gap": null,
            "max_width": null,
            "order": null,
            "_view_module_version": "1.2.0",
            "grid_template_areas": null,
            "object_position": null,
            "object_fit": null,
            "grid_auto_columns": null,
            "margin": null,
            "display": null,
            "left": null
          }
        }
      }
    }
  },
  "cells": [
    {
      "cell_type": "markdown",
      "metadata": {
        "id": "LMA0i3mOHse_",
        "colab_type": "text"
      },
      "source": [
        "# Given by the template \n",
        "https://colab.research.google.com/drive/1495rzqiMxfqwqBjaanDwDGN7eOS4oXRX "
      ]
    },
    {
      "cell_type": "markdown",
      "metadata": {
        "id": "c9QcGnGPdX2C",
        "colab_type": "text"
      },
      "source": [
        "\n",
        "**Install requirements**"
      ]
    },
    {
      "cell_type": "code",
      "metadata": {
        "id": "k9O3aM3Tb28q",
        "colab_type": "code",
        "colab": {}
      },
      "source": [
        "# !pip3 install 'torch==1.3.1'\n",
        "# !pip3 install 'torchvision==0.5.0'\n",
        "# !pip3 install 'Pillow-SIMD'\n",
        "# !pip3 install 'tqdm'"
      ],
      "execution_count": 0,
      "outputs": []
    },
    {
      "cell_type": "markdown",
      "metadata": {
        "id": "fo942LMOdlh4",
        "colab_type": "text"
      },
      "source": [
        "**Import libraries**"
      ]
    },
    {
      "cell_type": "code",
      "metadata": {
        "id": "DokFOdD1dJEl",
        "colab_type": "code",
        "colab": {}
      },
      "source": [
        "import os\n",
        "import logging\n",
        "\n",
        "import torch\n",
        "import torch.nn as nn\n",
        "import torch.optim as optim\n",
        "from torch.utils.data import Subset, DataLoader\n",
        "from torch.backends import cudnn\n",
        "\n",
        "import torchvision\n",
        "from torchvision import transforms\n",
        "from torchvision.models import alexnet\n",
        "\n",
        "from PIL import Image\n",
        "from tqdm import tqdm"
      ],
      "execution_count": 0,
      "outputs": []
    },
    {
      "cell_type": "markdown",
      "metadata": {
        "id": "OIDLJuIXK_vh",
        "colab_type": "text"
      },
      "source": [
        "**Set Arguments**"
      ]
    },
    {
      "cell_type": "code",
      "metadata": {
        "id": "d5PkYfqfK_SA",
        "colab_type": "code",
        "colab": {}
      },
      "source": [
        "DEVICE = 'cuda' # 'cuda' or 'cpu'\n",
        "\n",
        "NUM_CLASSES = 102 # 101 + 1: There is an extra Background class that should be removed \n",
        "\n",
        "BATCH_SIZE = 256     # Higher batch sizes allows for larger learning rates. An empirical heuristic suggests that, when changing\n",
        "                     # the batch size, learning rate should change by the same factor to have comparable results\n",
        "\n",
        "LR = 1e-3            # The initial Learning Rate\n",
        "MOMENTUM = 0.9       # Hyperparameter for SGD, keep this at 0.9 when using SGD\n",
        "WEIGHT_DECAY = 5e-5  # Regularization, you can keep this at the default\n",
        "\n",
        "NUM_EPOCHS = 30      # Total number of training epochs (iterations over dataset)\n",
        "STEP_SIZE = 20       # How many epochs before decreasing learning rate (if using a step-down policy)\n",
        "GAMMA = 0.1          # Multiplicative factor for learning rate step-down\n",
        "\n",
        "LOG_FREQUENCY = 10"
      ],
      "execution_count": 0,
      "outputs": []
    },
    {
      "cell_type": "markdown",
      "metadata": {
        "id": "9gwii0TBHvzh",
        "colab_type": "text"
      },
      "source": [
        "**Define Data Preprocessing**"
      ]
    },
    {
      "cell_type": "code",
      "metadata": {
        "id": "QUDdw4j2H0Mc",
        "colab_type": "code",
        "colab": {}
      },
      "source": [
        "# Define transforms for training phase\n",
        "train_transform = transforms.Compose([transforms.Resize(256),      # Resizes short size of the PIL image to 256\n",
        "                                      transforms.CenterCrop(224),  # Crops a central square patch of the image\n",
        "                                                                   # 224 because torchvision's AlexNet needs a 224x224 input!\n",
        "                                                                   # Remember this when applying different transformations, otherwise you get an error\n",
        "                                      transforms.ToTensor(), # Turn PIL Image to torch.Tensor\n",
        "                                      transforms.Normalize((0.5, 0.5, 0.5), (0.5, 0.5, 0.5)) # Normalizes tensor with mean and standard deviation\n",
        "])\n",
        "# Define transforms for the evaluation phase\n",
        "eval_transform = transforms.Compose([transforms.Resize(256),\n",
        "                                      transforms.CenterCrop(224),\n",
        "                                      transforms.ToTensor(),\n",
        "                                      transforms.Normalize((0.5, 0.5, 0.5), (0.5, 0.5, 0.5))                                    \n",
        "])"
      ],
      "execution_count": 0,
      "outputs": []
    },
    {
      "cell_type": "markdown",
      "metadata": {
        "id": "2qYIHPzYLY7i",
        "colab_type": "text"
      },
      "source": [
        "**Prepare Dataset**"
      ]
    },
    {
      "cell_type": "code",
      "metadata": {
        "id": "owiSvZUmiXnm",
        "colab_type": "code",
        "colab": {}
      },
      "source": [
        "# Clone github repository with data\n",
        "if not os.path.isdir('./Caltech101'):\n",
        "#   !git clone https://github.com/MachineLearning2020/Homework2-Caltech101.git\n",
        "    !git clone https://github.com/Barrel-Titor/Homework2-Caltech101.git\n",
        "    !mv 'Homework2-Caltech101' 'Caltech101'\n",
        "\n",
        "DATA_DIR = 'Caltech101/101_ObjectCategories'"
      ],
      "execution_count": 0,
      "outputs": []
    },
    {
      "cell_type": "code",
      "metadata": {
        "id": "QfVq_uDHLbsR",
        "colab_type": "code",
        "outputId": "d5fe630f-796a-4fdd-bf8d-acfc4b96a360",
        "colab": {
          "base_uri": "https://localhost:8080/",
          "height": 71
        }
      },
      "source": [
        "from Caltech101.caltech_dataset import Caltech\n",
        "\n",
        "# Prepare Pytorch train/test Datasets\n",
        "train_val_dataset = Caltech(DATA_DIR, split='train',  transform=train_transform)\n",
        "test_dataset = Caltech(DATA_DIR, split='test', transform=eval_transform)\n",
        "\n",
        "train_indexes = list(range(0, len(train_val_dataset), 2))   # split the indices for your train split\n",
        "val_indexes = list(range(1, len(train_val_dataset), 2))     # split the indices for your val split\n",
        "\n",
        "train_dataset = Subset(train_val_dataset, train_indexes)\n",
        "val_dataset = Subset(train_val_dataset, val_indexes)\n",
        "\n",
        "# Check dataset sizes\n",
        "print('Train Dataset: {}'.format(len(train_dataset)))\n",
        "print('Valid Dataset: {}'.format(len(val_dataset)))\n",
        "print('Test Dataset: {}'.format(len(test_dataset)))"
      ],
      "execution_count": 0,
      "outputs": [
        {
          "output_type": "stream",
          "text": [
            "Train Dataset: 2892\n",
            "Valid Dataset: 2892\n",
            "Test Dataset: 2893\n"
          ],
          "name": "stdout"
        }
      ]
    },
    {
      "cell_type": "markdown",
      "metadata": {
        "id": "FYEDQ7Z21ldN",
        "colab_type": "text"
      },
      "source": [
        "**Prepare Dataloaders**"
      ]
    },
    {
      "cell_type": "code",
      "metadata": {
        "id": "VriRw8SI1nle",
        "colab_type": "code",
        "colab": {}
      },
      "source": [
        "# Dataloaders iterate over pytorch datasets and transparently provide useful functions (e.g. parallelization and shuffling)\n",
        "train_dataloader = DataLoader(train_dataset, batch_size=BATCH_SIZE, shuffle=True, num_workers=4, drop_last=True)\n",
        "val_dataloader = DataLoader(val_dataset, batch_size=BATCH_SIZE, shuffle=False, num_workers=4)\n",
        "test_dataloader = DataLoader(test_dataset, batch_size=BATCH_SIZE, shuffle=False, num_workers=4)"
      ],
      "execution_count": 0,
      "outputs": []
    },
    {
      "cell_type": "markdown",
      "metadata": {
        "id": "gbZ1t5Qs2z4j",
        "colab_type": "text"
      },
      "source": [
        "**Prepare Network**"
      ]
    },
    {
      "cell_type": "code",
      "metadata": {
        "id": "exHUjtXa22DN",
        "colab_type": "code",
        "colab": {}
      },
      "source": [
        "net = alexnet() # Loading AlexNet model\n",
        "\n",
        "# AlexNet has 1000 output neurons, corresponding to the 1000 ImageNet's classes\n",
        "# We need 101 outputs for Caltech-101\n",
        "net.classifier[6] = nn.Linear(4096, NUM_CLASSES) # nn.Linear in pytorch is a fully connected layer\n",
        "                                                 # The convolutional layer is nn.Conv2d\n",
        "\n",
        "# We just changed the last layer of AlexNet with a new fully connected layer with 101 outputs\n",
        "# It is strongly suggested to study torchvision.models.alexnet source code"
      ],
      "execution_count": 0,
      "outputs": []
    },
    {
      "cell_type": "code",
      "metadata": {
        "id": "ScPgrlNynhw7",
        "colab_type": "code",
        "outputId": "aff8b56d-04de-44bf-a40a-b3154f390a3b",
        "colab": {
          "base_uri": "https://localhost:8080/",
          "height": 503
        }
      },
      "source": [
        "net"
      ],
      "execution_count": 0,
      "outputs": [
        {
          "output_type": "execute_result",
          "data": {
            "text/plain": [
              "AlexNet(\n",
              "  (features): Sequential(\n",
              "    (0): Conv2d(3, 64, kernel_size=(11, 11), stride=(4, 4), padding=(2, 2))\n",
              "    (1): ReLU(inplace=True)\n",
              "    (2): MaxPool2d(kernel_size=3, stride=2, padding=0, dilation=1, ceil_mode=False)\n",
              "    (3): Conv2d(64, 192, kernel_size=(5, 5), stride=(1, 1), padding=(2, 2))\n",
              "    (4): ReLU(inplace=True)\n",
              "    (5): MaxPool2d(kernel_size=3, stride=2, padding=0, dilation=1, ceil_mode=False)\n",
              "    (6): Conv2d(192, 384, kernel_size=(3, 3), stride=(1, 1), padding=(1, 1))\n",
              "    (7): ReLU(inplace=True)\n",
              "    (8): Conv2d(384, 256, kernel_size=(3, 3), stride=(1, 1), padding=(1, 1))\n",
              "    (9): ReLU(inplace=True)\n",
              "    (10): Conv2d(256, 256, kernel_size=(3, 3), stride=(1, 1), padding=(1, 1))\n",
              "    (11): ReLU(inplace=True)\n",
              "    (12): MaxPool2d(kernel_size=3, stride=2, padding=0, dilation=1, ceil_mode=False)\n",
              "  )\n",
              "  (avgpool): AdaptiveAvgPool2d(output_size=(6, 6))\n",
              "  (classifier): Sequential(\n",
              "    (0): Dropout(p=0.5, inplace=False)\n",
              "    (1): Linear(in_features=9216, out_features=4096, bias=True)\n",
              "    (2): ReLU(inplace=True)\n",
              "    (3): Dropout(p=0.5, inplace=False)\n",
              "    (4): Linear(in_features=4096, out_features=4096, bias=True)\n",
              "    (5): ReLU(inplace=True)\n",
              "    (6): Linear(in_features=4096, out_features=102, bias=True)\n",
              "  )\n",
              ")"
            ]
          },
          "metadata": {
            "tags": []
          },
          "execution_count": 10
        }
      ]
    },
    {
      "cell_type": "markdown",
      "metadata": {
        "id": "KEyL3H_R4qCf",
        "colab_type": "text"
      },
      "source": [
        "**Prepare Training**"
      ]
    },
    {
      "cell_type": "code",
      "metadata": {
        "id": "9sjq00G94tSc",
        "colab_type": "code",
        "colab": {}
      },
      "source": [
        "# Define loss function\n",
        "criterion = nn.CrossEntropyLoss() # for classification, we use Cross Entropy\n",
        "\n",
        "# Choose parameters to optimize\n",
        "# To access a different set of parameters, you have to access submodules of AlexNet\n",
        "# (nn.Module objects, like AlexNet, implement the Composite Pattern)\n",
        "# e.g.: parameters of the fully connected layers: net.classifier.parameters()\n",
        "# e.g.: parameters of the convolutional layers: look at alexnet's source code ;) \n",
        "parameters_to_optimize = net.parameters() # In this case we optimize over all the parameters of AlexNet\n",
        "\n",
        "# Define optimizer\n",
        "# An optimizer updates the weights based on loss\n",
        "# We use SGD with momentum\n",
        "optimizer = optim.SGD(parameters_to_optimize, lr=LR, momentum=MOMENTUM, weight_decay=WEIGHT_DECAY)\n",
        "\n",
        "# Define scheduler\n",
        "# A scheduler dynamically changes learning rate\n",
        "# The most common schedule is the step(-down), which multiplies learning rate by gamma every STEP_SIZE epochs\n",
        "scheduler = optim.lr_scheduler.StepLR(optimizer, step_size=STEP_SIZE, gamma=GAMMA)"
      ],
      "execution_count": 0,
      "outputs": []
    },
    {
      "cell_type": "markdown",
      "metadata": {
        "id": "AxYUli9d9uYQ",
        "colab_type": "text"
      },
      "source": [
        "**Train and Validation**"
      ]
    },
    {
      "cell_type": "markdown",
      "metadata": {
        "id": "qq6_YOzP6zVq",
        "colab_type": "text"
      },
      "source": [
        "| Current hyperparameters | Value |\n",
        "| --- | --- |\n",
        "| Initial learning rate | 0.001 |\n",
        "| Decaying policy | StepLR |\n",
        "| Decaying step size | 20 epochs |\n",
        "| Decaying factor | 0.1 |\n",
        "| Optimiser | SGD |\n",
        "| Epochs | 30 |\n",
        "\n"
      ]
    },
    {
      "cell_type": "code",
      "metadata": {
        "id": "5c5AuN_RER-y",
        "colab_type": "code",
        "colab": {}
      },
      "source": [
        "from copy import deepcopy\n",
        "\n",
        "loss_hist = []\n",
        "acc_hist = []\n",
        "\n",
        "# By default, everything is loaded to cpu\n",
        "net = net.to(DEVICE) # this will bring the network to GPU if DEVICE is cuda\n",
        "cudnn.benchmark     # Calling this optimizes runtime\n",
        "\n",
        "current_step = 0"
      ],
      "execution_count": 0,
      "outputs": []
    },
    {
      "cell_type": "code",
      "metadata": {
        "id": "ZcoQ5fD49yT_",
        "colab_type": "code",
        "outputId": "8e656725-5058-41b9-9a13-8a93df2c2850",
        "colab": {
          "base_uri": "https://localhost:8080/",
          "height": 1000
        }
      },
      "source": [
        "# Start iterating over the epochs\n",
        "for epoch in range(NUM_EPOCHS):\n",
        "    print('Starting epoch {}/{}, LR = {}'.format(epoch+1, NUM_EPOCHS, scheduler.get_last_lr()))\n",
        "\n",
        "    # Train part\n",
        "    net.train() # Sets module in training mode\n",
        "\n",
        "    # Iterate over the dataset\n",
        "    for images, labels in train_dataloader:\n",
        "        # Bring data over the device of choice\n",
        "        images = images.to(DEVICE)\n",
        "        labels = labels.to(DEVICE)\n",
        "\n",
        "        # PyTorch, by default, accumulates gradients after each backward pass\n",
        "        # We need to manually set the gradients to zero before starting a new iteration\n",
        "        optimizer.zero_grad() # Zero-ing the gradients\n",
        "\n",
        "        # Forward pass to the network\n",
        "        outputs = net(images)\n",
        "\n",
        "        # Compute loss based on output and ground truth\n",
        "        loss = criterion(outputs, labels)\n",
        "\n",
        "        # Log loss\n",
        "        if current_step % LOG_FREQUENCY == 0:\n",
        "            print('Step {}, Loss {}'.format(current_step, loss.item()))\n",
        "\n",
        "        # Compute gradients for each layer and update weights\n",
        "        loss.backward()  # backward pass: computes gradients\n",
        "        optimizer.step() # update weights based on accumulated gradients\n",
        "\n",
        "        current_step += 1\n",
        "\n",
        "    # Step the scheduler\n",
        "    scheduler.step() \n",
        "\n",
        "    # Use the best model for validation\n",
        "    if not loss_hist or loss.item() < min(loss_hist):\n",
        "        best_net = deepcopy(net)\n",
        "\n",
        "    # Record loss after each epoch\n",
        "\n",
        "    # Validation part\n",
        "    best_net.train(False) # Set Network to evaluation mode\n",
        "\n",
        "    running_corrects = 0\n",
        "    with torch.no_grad():\n",
        "        for images, labels in val_dataloader:\n",
        "            images = images.to(DEVICE)\n",
        "            labels = labels.to(DEVICE)\n",
        "\n",
        "            # Forward Pass\n",
        "            outputs = best_net(images)\n",
        "\n",
        "            # Get predictions\n",
        "            _, preds = torch.max(outputs.data, 1)\n",
        "            \n",
        "            # Update Corrects\n",
        "            running_corrects += torch.sum(preds == labels.data).data.item()\n",
        "\n",
        "    # Calculate Accuracy\n",
        "    accuracy = running_corrects / float(len(val_dataset))\n",
        "    print('Accuracy {}\\n'.format(accuracy))\n",
        "\n",
        "    # Record loss and accuracy after each epoch\n",
        "    loss_hist.append(loss.item())\n",
        "    acc_hist.append(accuracy)"
      ],
      "execution_count": 0,
      "outputs": [
        {
          "output_type": "stream",
          "text": [
            "Starting epoch 1/30, LR = [0.001]\n",
            "Step 0, Loss 4.514472484588623\n",
            "Step 10, Loss 4.51784086227417\n",
            "Accuracy 0.09197786998616875\n",
            "\n",
            "Starting epoch 2/30, LR = [0.001]\n",
            "Step 20, Loss 4.451831817626953\n",
            "Accuracy 0.09197786998616875\n",
            "\n",
            "Starting epoch 3/30, LR = [0.001]\n",
            "Step 30, Loss 4.3598456382751465\n",
            "Accuracy 0.09197786998616875\n",
            "\n",
            "Starting epoch 4/30, LR = [0.001]\n",
            "Step 40, Loss 4.310239315032959\n",
            "Accuracy 0.09197786998616875\n",
            "\n",
            "Starting epoch 5/30, LR = [0.001]\n",
            "Step 50, Loss 4.355845928192139\n",
            "Accuracy 0.09301521438450899\n",
            "\n",
            "Starting epoch 6/30, LR = [0.001]\n",
            "Step 60, Loss 4.299665927886963\n",
            "Accuracy 0.09612724757952974\n",
            "\n",
            "Starting epoch 7/30, LR = [0.001]\n",
            "Step 70, Loss 4.188819885253906\n",
            "Accuracy 0.09439834024896265\n",
            "\n",
            "Starting epoch 8/30, LR = [0.001]\n",
            "Step 80, Loss 4.319115161895752\n",
            "Accuracy 0.09647302904564316\n",
            "\n",
            "Starting epoch 9/30, LR = [0.001]\n",
            "Step 90, Loss 4.173344612121582\n",
            "Accuracy 0.09716459197786999\n",
            "\n",
            "Starting epoch 10/30, LR = [0.001]\n",
            "Step 100, Loss 4.158774375915527\n",
            "Accuracy 0.09336099585062241\n",
            "\n",
            "Starting epoch 11/30, LR = [0.001]\n",
            "Step 110, Loss 4.21061372756958\n",
            "Step 120, Loss 4.109436988830566\n",
            "Accuracy 0.10027662517289074\n",
            "\n",
            "Starting epoch 12/30, LR = [0.001]\n",
            "Step 130, Loss 4.190305709838867\n",
            "Accuracy 0.10442600276625173\n",
            "\n",
            "Starting epoch 13/30, LR = [0.001]\n",
            "Step 140, Loss 4.097229480743408\n",
            "Accuracy 0.10131396957123098\n",
            "\n",
            "Starting epoch 14/30, LR = [0.001]\n",
            "Step 150, Loss 4.140021324157715\n",
            "Accuracy 0.10269709543568464\n",
            "\n",
            "Starting epoch 15/30, LR = [0.001]\n",
            "Step 160, Loss 4.128957748413086\n",
            "Accuracy 0.10304287690179806\n",
            "\n",
            "Starting epoch 16/30, LR = [0.001]\n",
            "Step 170, Loss 4.192359924316406\n",
            "Accuracy 0.10546334716459198\n",
            "\n",
            "Starting epoch 17/30, LR = [0.001]\n",
            "Step 180, Loss 4.228342056274414\n",
            "Accuracy 0.10027662517289074\n",
            "\n",
            "Starting epoch 18/30, LR = [0.001]\n",
            "Step 190, Loss 4.150777339935303\n",
            "Accuracy 0.10235131396957123\n",
            "\n",
            "Starting epoch 19/30, LR = [0.001]\n",
            "Step 200, Loss 4.3314409255981445\n",
            "Accuracy 0.0995850622406639\n",
            "\n",
            "Starting epoch 20/30, LR = [0.001]\n",
            "Step 210, Loss 4.241194725036621\n",
            "Accuracy 0.09889349930843706\n",
            "\n",
            "Starting epoch 21/30, LR = [0.0001]\n",
            "Step 220, Loss 3.995678663253784\n",
            "Step 230, Loss 4.144279479980469\n",
            "Accuracy 0.10442600276625173\n",
            "\n",
            "Starting epoch 22/30, LR = [0.0001]\n",
            "Step 240, Loss 4.160940170288086\n",
            "Accuracy 0.0995850622406639\n",
            "\n",
            "Starting epoch 23/30, LR = [0.0001]\n",
            "Step 250, Loss 3.974120616912842\n",
            "Accuracy 0.1459197786998617\n",
            "\n",
            "Starting epoch 24/30, LR = [0.0001]\n",
            "Step 260, Loss 4.107965469360352\n",
            "Accuracy 0.14488243430152145\n",
            "\n",
            "Starting epoch 25/30, LR = [0.0001]\n",
            "Step 270, Loss 4.1475677490234375\n",
            "Accuracy 0.1479944674965422\n",
            "\n",
            "Starting epoch 26/30, LR = [0.0001]\n",
            "Step 280, Loss 4.122002124786377\n",
            "Accuracy 0.14488243430152145\n",
            "\n",
            "Starting epoch 27/30, LR = [0.0001]\n",
            "Step 290, Loss 4.0949273109436035\n",
            "Accuracy 0.1479944674965422\n",
            "\n",
            "Starting epoch 28/30, LR = [0.0001]\n",
            "Step 300, Loss 4.1885881423950195\n",
            "Accuracy 0.15179806362378975\n",
            "\n",
            "Starting epoch 29/30, LR = [0.0001]\n",
            "Step 310, Loss 4.139151573181152\n",
            "Accuracy 0.1479944674965422\n",
            "\n",
            "Starting epoch 30/30, LR = [0.0001]\n",
            "Step 320, Loss 4.134931564331055\n",
            "Accuracy 0.15110650069156292\n",
            "\n"
          ],
          "name": "stdout"
        }
      ]
    },
    {
      "cell_type": "code",
      "metadata": {
        "id": "2XJxa8iQF9FF",
        "colab_type": "code",
        "colab": {}
      },
      "source": [
        "import matplotlib.pyplot as plt"
      ],
      "execution_count": 0,
      "outputs": []
    },
    {
      "cell_type": "code",
      "metadata": {
        "id": "RReDRPiiGgCh",
        "colab_type": "code",
        "outputId": "ba431a3d-8bea-4db5-9427-7fd7822cc33f",
        "colab": {
          "base_uri": "https://localhost:8080/",
          "height": 573
        }
      },
      "source": [
        "plt.plot(loss_hist)\n",
        "plt.title('Loss VS Epochs')\n",
        "plt.xlabel('epoch')\n",
        "plt.ylabel('loss')\n",
        "plt.show()\n",
        "\n",
        "plt.plot(acc_hist)\n",
        "plt.title('Accuracy VS Epochs')\n",
        "plt.xlabel('epoch')\n",
        "plt.ylabel('accuracy')\n",
        "plt.show()"
      ],
      "execution_count": 0,
      "outputs": [
        {
          "output_type": "display_data",
          "data": {
            "image/png": "[encoded data removed]",
            "text/plain": [
              "<Figure size 432x288 with 1 Axes>"
            ]
          },
          "metadata": {
            "tags": [],
            "needs_background": "light"
          }
        },
        {
          "output_type": "display_data",
          "data": {
            "image/png": "[encoded data removed]",
            "text/plain": [
              "<Figure size 432x288 with 1 Axes>"
            ]
          },
          "metadata": {
            "tags": [],
            "needs_background": "light"
          }
        }
      ]
    },
    {
      "cell_type": "markdown",
      "metadata": {
        "id": "jxekmR745ySe",
        "colab_type": "text"
      },
      "source": [
        "**Test**"
      ]
    },
    {
      "cell_type": "code",
      "metadata": {
        "id": "fSHcUqLB5yWO",
        "colab_type": "code",
        "outputId": "21784194-23b7-44a3-f215-2ac7e23d043f",
        "colab": {
          "base_uri": "https://localhost:8080/",
          "height": 53
        }
      },
      "source": [
        "best_net = best_net.to(DEVICE) # this will bring the network to GPU if DEVICE is cuda\n",
        "best_net.train(False) # Set Network to evaluation mode\n",
        "\n",
        "running_corrects = 0\n",
        "for images, labels in tqdm(test_dataloader):\n",
        "  images = images.to(DEVICE)\n",
        "  labels = labels.to(DEVICE)\n",
        "\n",
        "  # Forward Pass\n",
        "  outputs = best_net(images)\n",
        "\n",
        "  # Get predictions\n",
        "  _, preds = torch.max(outputs.data, 1)\n",
        "\n",
        "  # Update Corrects\n",
        "  running_corrects += torch.sum(preds == labels.data).data.item()\n",
        "\n",
        "# Calculate Accuracy\n",
        "accuracy = running_corrects / float(len(test_dataset))\n",
        "\n",
        "print('Test Accuracy: {}'.format(accuracy))"
      ],
      "execution_count": 0,
      "outputs": [
        {
          "output_type": "stream",
          "text": [
            "100%|██████████| 12/12 [00:12<00:00,  1.01s/it]"
          ],
          "name": "stderr"
        },
        {
          "output_type": "stream",
          "text": [
            "Test Accuracy: 0.15485655029381265\n"
          ],
          "name": "stdout"
        },
        {
          "output_type": "stream",
          "text": [
            "\n"
          ],
          "name": "stderr"
        }
      ]
    },
    {
      "cell_type": "markdown",
      "metadata": {
        "id": "3MOR7X5oH_-j",
        "colab_type": "text"
      },
      "source": [
        "# Experiment with different sets of hyperparameters"
      ]
    },
    {
      "cell_type": "markdown",
      "metadata": {
        "id": "NgwykGKYZkJA",
        "colab_type": "text"
      },
      "source": [
        "### Hyperparameter set 1"
      ]
    },
    {
      "cell_type": "markdown",
      "metadata": {
        "id": "oXin3iTnZr2j",
        "colab_type": "text"
      },
      "source": [
        "| Current hyperparameters | Value |\n",
        "| --- | --- |\n",
        "| Initial learning rate | 0.1 |\n",
        "| Decaying policy | StepLR |\n",
        "| Decaying step size | 20 epochs |\n",
        "| Decaying factor | 0.1 |\n",
        "| Optimiser | SGD |\n",
        "| Epochs | 30 |"
      ]
    },
    {
      "cell_type": "code",
      "metadata": {
        "id": "esbm-z6lH8Dp",
        "colab_type": "code",
        "colab": {}
      },
      "source": [
        "LR = 1e-1            # The initial Learning Rate\n",
        "MOMENTUM = 0.9       # Hyperparameter for SGD, keep this at 0.9 when using SGD\n",
        "WEIGHT_DECAY = 5e-5  # Regularization, you can keep this at the default\n",
        "\n",
        "NUM_EPOCHS = 30      # Total number of training epochs (iterations over dataset)\n",
        "STEP_SIZE = 20       # How many epochs before decreasing learning rate (if using a step-down policy)\n",
        "GAMMA = 0.1          # Multiplicative factor for learning rate step-down\n",
        "\n",
        "LOG_FREQUENCY = 10"
      ],
      "execution_count": 0,
      "outputs": []
    },
    {
      "cell_type": "markdown",
      "metadata": {
        "colab_type": "text",
        "id": "sE7paTWDfFk-"
      },
      "source": [
        "**Prepare Network**"
      ]
    },
    {
      "cell_type": "code",
      "metadata": {
        "colab_type": "code",
        "id": "Cm_jSRbofFk_",
        "colab": {}
      },
      "source": [
        "net = alexnet() # Loading AlexNet model\n",
        "\n",
        "# AlexNet has 1000 output neurons, corresponding to the 1000 ImageNet's classes\n",
        "# We need 101 outputs for Caltech-101\n",
        "net.classifier[6] = nn.Linear(4096, NUM_CLASSES) # nn.Linear in pytorch is a fully connected layer\n",
        "                                                 # The convolutional layer is nn.Conv2d\n",
        "\n",
        "# We just changed the last layer of AlexNet with a new fully connected layer with 101 outputs\n",
        "# It is strongly suggested to study torchvision.models.alexnet source code"
      ],
      "execution_count": 0,
      "outputs": []
    },
    {
      "cell_type": "markdown",
      "metadata": {
        "colab_type": "text",
        "id": "5f1hz3r3fFlC"
      },
      "source": [
        "**Prepare Training**"
      ]
    },
    {
      "cell_type": "code",
      "metadata": {
        "colab_type": "code",
        "id": "HbOaAjYlfFlD",
        "colab": {}
      },
      "source": [
        "# Define loss function\n",
        "criterion = nn.CrossEntropyLoss() # for classification, we use Cross Entropy\n",
        "\n",
        "# Choose parameters to optimize\n",
        "# To access a different set of parameters, you have to access submodules of AlexNet\n",
        "# (nn.Module objects, like AlexNet, implement the Composite Pattern)\n",
        "# e.g.: parameters of the fully connected layers: net.classifier.parameters()\n",
        "# e.g.: parameters of the convolutional layers: look at alexnet's source code ;) \n",
        "parameters_to_optimize = net.parameters() # In this case we optimize over all the parameters of AlexNet\n",
        "\n",
        "# Define optimizer\n",
        "# An optimizer updates the weights based on loss\n",
        "# We use SGD with momentum\n",
        "optimizer = optim.SGD(parameters_to_optimize, lr=LR, momentum=MOMENTUM, weight_decay=WEIGHT_DECAY)\n",
        "\n",
        "# Define scheduler\n",
        "# A scheduler dynamically changes learning rate\n",
        "# The most common schedule is the step(-down), which multiplies learning rate by gamma every STEP_SIZE epochs\n",
        "scheduler = optim.lr_scheduler.StepLR(optimizer, step_size=STEP_SIZE, gamma=GAMMA)"
      ],
      "execution_count": 0,
      "outputs": []
    },
    {
      "cell_type": "code",
      "metadata": {
        "colab_type": "code",
        "id": "5426g1pcfFlF",
        "colab": {}
      },
      "source": [
        "from copy import deepcopy\n",
        "\n",
        "loss_hist = []\n",
        "acc_hist = []\n",
        "\n",
        "# By default, everything is loaded to cpu\n",
        "net = net.to(DEVICE) # this will bring the network to GPU if DEVICE is cuda\n",
        "cudnn.benchmark     # Calling this optimizes runtime\n",
        "\n",
        "current_step = 0"
      ],
      "execution_count": 0,
      "outputs": []
    },
    {
      "cell_type": "code",
      "metadata": {
        "colab_type": "code",
        "outputId": "64eca9ce-5168-4180-c168-529617e5c843",
        "id": "mQr6yqmHfFlH",
        "colab": {
          "base_uri": "https://localhost:8080/",
          "height": 1000
        }
      },
      "source": [
        "# Start iterating over the epochs\n",
        "for epoch in range(NUM_EPOCHS):\n",
        "    print('Starting epoch {}/{}, LR = {}'.format(epoch+1, NUM_EPOCHS, scheduler.get_last_lr()))\n",
        "\n",
        "    # Train part\n",
        "    net.train() # Sets module in training mode\n",
        "\n",
        "    # Iterate over the dataset\n",
        "    for images, labels in train_dataloader:\n",
        "        # Bring data over the device of choice\n",
        "        images = images.to(DEVICE)\n",
        "        labels = labels.to(DEVICE)\n",
        "\n",
        "        # PyTorch, by default, accumulates gradients after each backward pass\n",
        "        # We need to manually set the gradients to zero before starting a new iteration\n",
        "        optimizer.zero_grad() # Zero-ing the gradients\n",
        "\n",
        "        # Forward pass to the network\n",
        "        outputs = net(images)\n",
        "\n",
        "        # Compute loss based on output and ground truth\n",
        "        loss = criterion(outputs, labels)\n",
        "\n",
        "        # Log loss\n",
        "        if current_step % LOG_FREQUENCY == 0:\n",
        "            print('Step {}, Loss {}'.format(current_step, loss.item()))\n",
        "\n",
        "        # Compute gradients for each layer and update weights\n",
        "        loss.backward()  # backward pass: computes gradients\n",
        "        # torch.nn.utils.clip_grad_norm_(parameters_to_optimize, 0.5) # prevent gradient explosion\n",
        "        optimizer.step() # update weights based on accumulated gradients\n",
        "\n",
        "        current_step += 1\n",
        "\n",
        "    # Step the scheduler\n",
        "    scheduler.step() \n",
        "\n",
        "    # Use the best model for validation\n",
        "    if not loss_hist or loss.item() < min(loss_hist):\n",
        "        best_net = deepcopy(net)\n",
        "\n",
        "    # Record loss after each epoch\n",
        "\n",
        "    # Validation part\n",
        "    best_net.train(False) # Set Network to evaluation mode\n",
        "\n",
        "    running_corrects = 0\n",
        "    with torch.no_grad():\n",
        "        for images, labels in val_dataloader:\n",
        "            images = images.to(DEVICE)\n",
        "            labels = labels.to(DEVICE)\n",
        "\n",
        "            # Forward Pass\n",
        "            outputs = best_net(images)\n",
        "\n",
        "            # Get predictions\n",
        "            _, preds = torch.max(outputs.data, 1)\n",
        "            \n",
        "            # Update Corrects\n",
        "            running_corrects += torch.sum(preds == labels.data).data.item()\n",
        "\n",
        "    # Calculate Accuracy\n",
        "    accuracy = running_corrects / float(len(val_dataset))\n",
        "    print('Accuracy {}\\n'.format(accuracy))\n",
        "\n",
        "    # Record loss and accuracy after each epoch\n",
        "    loss_hist.append(loss.item())\n",
        "    acc_hist.append(accuracy)"
      ],
      "execution_count": 0,
      "outputs": [
        {
          "output_type": "stream",
          "text": [
            "Starting epoch 1/30, LR = [0.1]\n",
            "Step 0, Loss 4.624452590942383\n",
            "Step 10, Loss 4.465866565704346\n",
            "Accuracy 0.09197786998616875\n",
            "\n",
            "Starting epoch 2/30, LR = [0.1]\n",
            "Step 20, Loss 4.425328254699707\n",
            "Accuracy 0.09232365145228216\n",
            "\n",
            "Starting epoch 3/30, LR = [0.1]\n",
            "Step 30, Loss 4.268335819244385\n",
            "Accuracy 0.09197786998616875\n",
            "\n",
            "Starting epoch 4/30, LR = [0.1]\n",
            "Step 40, Loss 4.085280418395996\n",
            "Accuracy 0.09232365145228216\n",
            "\n",
            "Starting epoch 5/30, LR = [0.1]\n",
            "Step 50, Loss 4.136882305145264\n",
            "Accuracy 0.09232365145228216\n",
            "\n",
            "Starting epoch 6/30, LR = [0.1]\n",
            "Step 60, Loss 4.123317241668701\n",
            "Accuracy 0.09232365145228216\n",
            "\n",
            "Starting epoch 7/30, LR = [0.1]\n",
            "Step 70, Loss 4.169169902801514\n",
            "Accuracy 0.16701244813278007\n",
            "\n",
            "Starting epoch 8/30, LR = [0.1]\n",
            "Step 80, Loss 3.807194471359253\n",
            "Accuracy 0.16701244813278007\n",
            "\n",
            "Starting epoch 9/30, LR = [0.1]\n",
            "Step 90, Loss 3.985321521759033\n",
            "Accuracy 0.16701244813278007\n",
            "\n",
            "Starting epoch 10/30, LR = [0.1]\n",
            "Step 100, Loss 4.368847370147705\n",
            "Accuracy 0.16701244813278007\n",
            "\n",
            "Starting epoch 11/30, LR = [0.1]\n",
            "Step 110, Loss 4.202473163604736\n",
            "Step 120, Loss 4.039583206176758\n",
            "Accuracy 0.16701244813278007\n",
            "\n",
            "Starting epoch 12/30, LR = [0.1]\n",
            "Step 130, Loss 4.091739177703857\n",
            "Accuracy 0.16701244813278007\n",
            "\n",
            "Starting epoch 13/30, LR = [0.1]\n",
            "Step 140, Loss 3.716832160949707\n",
            "Accuracy 0.21300138312586445\n",
            "\n",
            "Starting epoch 14/30, LR = [0.1]\n",
            "Step 150, Loss 3.700843334197998\n",
            "Accuracy 0.21300138312586445\n",
            "\n",
            "Starting epoch 15/30, LR = [0.1]\n",
            "Step 160, Loss 4.171535491943359\n",
            "Accuracy 0.21300138312586445\n",
            "\n",
            "Starting epoch 16/30, LR = [0.1]\n",
            "Step 170, Loss 3.9825422763824463\n",
            "Accuracy 0.21300138312586445\n",
            "\n",
            "Starting epoch 17/30, LR = [0.1]\n",
            "Step 180, Loss 3.7954118251800537\n",
            "Accuracy 0.21300138312586445\n",
            "\n",
            "Starting epoch 18/30, LR = [0.1]\n",
            "Step 190, Loss 3.7672345638275146\n",
            "Accuracy 0.2517289073305671\n",
            "\n",
            "Starting epoch 19/30, LR = [0.1]\n",
            "Step 200, Loss 3.373216152191162\n",
            "Accuracy 0.2517289073305671\n",
            "\n",
            "Starting epoch 20/30, LR = [0.1]\n",
            "Step 210, Loss 3.2636868953704834\n",
            "Accuracy 0.2517289073305671\n",
            "\n",
            "Starting epoch 21/30, LR = [0.010000000000000002]\n",
            "Step 220, Loss 3.334961414337158\n",
            "Step 230, Loss 3.092862367630005\n",
            "Accuracy 0.2883817427385892\n",
            "\n",
            "Starting epoch 22/30, LR = [0.010000000000000002]\n",
            "Step 240, Loss 3.076399803161621\n",
            "Accuracy 0.31500691562932226\n",
            "\n",
            "Starting epoch 23/30, LR = [0.010000000000000002]\n",
            "Step 250, Loss 2.8354310989379883\n",
            "Accuracy 0.31500691562932226\n",
            "\n",
            "Starting epoch 24/30, LR = [0.010000000000000002]\n",
            "Step 260, Loss 2.7190701961517334\n",
            "Accuracy 0.33713692946058094\n",
            "\n",
            "Starting epoch 25/30, LR = [0.010000000000000002]\n",
            "Step 270, Loss 2.7456462383270264\n",
            "Accuracy 0.33990318118948826\n",
            "\n",
            "Starting epoch 26/30, LR = [0.010000000000000002]\n",
            "Step 280, Loss 2.469254732131958\n",
            "Accuracy 0.33990318118948826\n",
            "\n",
            "Starting epoch 27/30, LR = [0.010000000000000002]\n",
            "Step 290, Loss 2.3728301525115967\n",
            "Accuracy 0.3647994467496542\n",
            "\n",
            "Starting epoch 28/30, LR = [0.010000000000000002]\n",
            "Step 300, Loss 2.1777515411376953\n",
            "Accuracy 0.3751728907330567\n",
            "\n",
            "Starting epoch 29/30, LR = [0.010000000000000002]\n",
            "Step 310, Loss 2.1038098335266113\n",
            "Accuracy 0.3751728907330567\n",
            "\n",
            "Starting epoch 30/30, LR = [0.010000000000000002]\n",
            "Step 320, Loss 2.1590654850006104\n",
            "Accuracy 0.3793222683264177\n",
            "\n"
          ],
          "name": "stdout"
        }
      ]
    },
    {
      "cell_type": "code",
      "metadata": {
        "id": "6aaGZ75sE1sI",
        "colab_type": "code",
        "colab": {}
      },
      "source": [
        "import matplotlib.pyplot as plt"
      ],
      "execution_count": 0,
      "outputs": []
    },
    {
      "cell_type": "code",
      "metadata": {
        "colab_type": "code",
        "outputId": "b029d1d1-0c8a-4458-94eb-1de4edd0e413",
        "id": "TtYQFTjef9rd",
        "colab": {
          "base_uri": "https://localhost:8080/",
          "height": 573
        }
      },
      "source": [
        "plt.plot(loss_hist)\n",
        "plt.title('Loss VS Epochs')\n",
        "plt.xlabel('epoch')\n",
        "plt.ylabel('loss')\n",
        "plt.show()\n",
        "\n",
        "plt.plot(acc_hist)\n",
        "plt.title('Accuracy VS Epochs')\n",
        "plt.xlabel('epoch')\n",
        "plt.ylabel('accuracy')\n",
        "plt.show()"
      ],
      "execution_count": 0,
      "outputs": [
        {
          "output_type": "display_data",
          "data": {
            "image/png": "[encoded data removed]",
            "text/plain": [
              "<Figure size 432x288 with 1 Axes>"
            ]
          },
          "metadata": {
            "tags": [],
            "needs_background": "light"
          }
        },
        {
          "output_type": "display_data",
          "data": {
            "image/png": "[encoded data removed]",
            "text/plain": [
              "<Figure size 432x288 with 1 Axes>"
            ]
          },
          "metadata": {
            "tags": [],
            "needs_background": "light"
          }
        }
      ]
    },
    {
      "cell_type": "markdown",
      "metadata": {
        "colab_type": "text",
        "id": "nPIq4UPQfT28"
      },
      "source": [
        "**Test**"
      ]
    },
    {
      "cell_type": "code",
      "metadata": {
        "colab_type": "code",
        "outputId": "f70ee70e-ffc9-401a-badc-66e5af45e2db",
        "id": "EzXANkEsfT29",
        "colab": {
          "base_uri": "https://localhost:8080/",
          "height": 53
        }
      },
      "source": [
        "best_net = best_net.to(DEVICE) # this will bring the network to GPU if DEVICE is cuda\n",
        "best_net.train(False) # Set Network to evaluation mode\n",
        "\n",
        "running_corrects = 0\n",
        "for images, labels in tqdm(test_dataloader):\n",
        "  images = images.to(DEVICE)\n",
        "  labels = labels.to(DEVICE)\n",
        "\n",
        "  # Forward Pass\n",
        "  outputs = best_net(images)\n",
        "\n",
        "  # Get predictions\n",
        "  _, preds = torch.max(outputs.data, 1)\n",
        "\n",
        "  # Update Corrects\n",
        "  running_corrects += torch.sum(preds == labels.data).data.item()\n",
        "\n",
        "# Calculate Accuracy\n",
        "accuracy = running_corrects / float(len(test_dataset))\n",
        "\n",
        "print('Test Accuracy: {}'.format(accuracy))"
      ],
      "execution_count": 0,
      "outputs": [
        {
          "output_type": "stream",
          "text": [
            "100%|██████████| 12/12 [00:11<00:00,  1.07it/s]"
          ],
          "name": "stderr"
        },
        {
          "output_type": "stream",
          "text": [
            "Test Accuracy: 0.39094365710335294\n"
          ],
          "name": "stdout"
        },
        {
          "output_type": "stream",
          "text": [
            "\n"
          ],
          "name": "stderr"
        }
      ]
    },
    {
      "cell_type": "markdown",
      "metadata": {
        "colab_type": "text",
        "id": "0x7wnNxHgdCW"
      },
      "source": [
        "## Hyperparameter set 2"
      ]
    },
    {
      "cell_type": "markdown",
      "metadata": {
        "colab_type": "text",
        "id": "PolUVG30gdCb"
      },
      "source": [
        "| Current hyperparameters | Value |\n",
        "| --- | --- |\n",
        "| Initial learning rate | 0.1 |\n",
        "| Decaying policy | StepLR |\n",
        "| Decaying step size | 10 epochs |\n",
        "| Decaying factor | 0.3 |\n",
        "| Optimiser | SGD |\n",
        "| Epochs | 30 |"
      ]
    },
    {
      "cell_type": "code",
      "metadata": {
        "colab_type": "code",
        "id": "HpuKrwLPgdCd",
        "colab": {}
      },
      "source": [
        "LR = 0.1             # The initial Learning Rate\n",
        "MOMENTUM = 0.9       # Hyperparameter for SGD, keep this at 0.9 when using SGD\n",
        "WEIGHT_DECAY = 5e-5  # Regularization, you can keep this at the default\n",
        "\n",
        "NUM_EPOCHS = 30      # Total number of training epochs (iterations over dataset)\n",
        "STEP_SIZE = 10       # How many epochs before decreasing learning rate (if using a step-down policy)\n",
        "GAMMA = 0.3          # Multiplicative factor for learning rate step-down\n",
        "\n",
        "LOG_FREQUENCY = 10"
      ],
      "execution_count": 0,
      "outputs": []
    },
    {
      "cell_type": "markdown",
      "metadata": {
        "colab_type": "text",
        "id": "ATvo2l0WgdCh"
      },
      "source": [
        "**Prepare Network**"
      ]
    },
    {
      "cell_type": "code",
      "metadata": {
        "colab_type": "code",
        "id": "83a81QvTgdCh",
        "colab": {}
      },
      "source": [
        "net = alexnet() # Loading AlexNet model\n",
        "\n",
        "# AlexNet has 1000 output neurons, corresponding to the 1000 ImageNet's classes\n",
        "# We need 101 outputs for Caltech-101\n",
        "net.classifier[6] = nn.Linear(4096, NUM_CLASSES) # nn.Linear in pytorch is a fully connected layer\n",
        "                                                 # The convolutional layer is nn.Conv2d\n",
        "\n",
        "# We just changed the last layer of AlexNet with a new fully connected layer with 101 outputs\n",
        "# It is strongly suggested to study torchvision.models.alexnet source code"
      ],
      "execution_count": 0,
      "outputs": []
    },
    {
      "cell_type": "markdown",
      "metadata": {
        "colab_type": "text",
        "id": "-xyVNGUUgdCl"
      },
      "source": [
        "**Prepare Training**"
      ]
    },
    {
      "cell_type": "code",
      "metadata": {
        "colab_type": "code",
        "id": "3ratibtRgdCm",
        "colab": {}
      },
      "source": [
        "# Define loss function\n",
        "criterion = nn.CrossEntropyLoss() # for classification, we use Cross Entropy\n",
        "\n",
        "# Choose parameters to optimize\n",
        "# To access a different set of parameters, you have to access submodules of AlexNet\n",
        "# (nn.Module objects, like AlexNet, implement the Composite Pattern)\n",
        "# e.g.: parameters of the fully connected layers: net.classifier.parameters()\n",
        "# e.g.: parameters of the convolutional layers: look at alexnet's source code ;) \n",
        "parameters_to_optimize = net.parameters() # In this case we optimize over all the parameters of AlexNet\n",
        "\n",
        "# Define optimizer\n",
        "# An optimizer updates the weights based on loss\n",
        "# We use SGD with momentum\n",
        "optimizer = optim.SGD(parameters_to_optimize, lr=LR, momentum=MOMENTUM, weight_decay=WEIGHT_DECAY)\n",
        "\n",
        "# Define scheduler\n",
        "# A scheduler dynamically changes learning rate\n",
        "# The most common schedule is the step(-down), which multiplies learning rate by gamma every STEP_SIZE epochs\n",
        "scheduler = optim.lr_scheduler.StepLR(optimizer, step_size=STEP_SIZE, gamma=GAMMA)"
      ],
      "execution_count": 0,
      "outputs": []
    },
    {
      "cell_type": "code",
      "metadata": {
        "colab_type": "code",
        "id": "3Ua1OieUgdCq",
        "colab": {}
      },
      "source": [
        "from copy import deepcopy\n",
        "\n",
        "loss_hist = []\n",
        "acc_hist = []\n",
        "\n",
        "# By default, everything is loaded to cpu\n",
        "net = net.to(DEVICE) # this will bring the network to GPU if DEVICE is cuda\n",
        "cudnn.benchmark     # Calling this optimizes runtime\n",
        "\n",
        "current_step = 0"
      ],
      "execution_count": 0,
      "outputs": []
    },
    {
      "cell_type": "code",
      "metadata": {
        "colab_type": "code",
        "outputId": "5c7cbb2c-76b6-468f-ac38-22582e8f6cf4",
        "id": "Etoe4bCcgdCt",
        "colab": {
          "base_uri": "https://localhost:8080/",
          "height": 1000
        }
      },
      "source": [
        "# Start iterating over the epochs\n",
        "for epoch in range(NUM_EPOCHS):\n",
        "    print('Starting epoch {}/{}, LR = {}'.format(\n",
        "        epoch+1, NUM_EPOCHS, optimizer.param_groups[0]['lr']))\n",
        "\n",
        "    # Train part\n",
        "    net.train() # Sets module in training mode\n",
        "\n",
        "    # Iterate over the dataset\n",
        "    for images, labels in train_dataloader:\n",
        "        # Bring data over the device of choice\n",
        "        images = images.to(DEVICE)\n",
        "        labels = labels.to(DEVICE)\n",
        "\n",
        "        # PyTorch, by default, accumulates gradients after each backward pass\n",
        "        # We need to manually set the gradients to zero before starting a new iteration\n",
        "        optimizer.zero_grad() # Zero-ing the gradients\n",
        "\n",
        "        # Forward pass to the network\n",
        "        outputs = net(images)\n",
        "\n",
        "        # Compute loss based on output and ground truth\n",
        "        loss = criterion(outputs, labels)\n",
        "\n",
        "        # Log loss\n",
        "        if current_step % LOG_FREQUENCY == 0:\n",
        "            print('Step {}, Loss {}'.format(current_step, loss.item()))\n",
        "\n",
        "        # Compute gradients for each layer and update weights\n",
        "        loss.backward()  # backward pass: computes gradients\n",
        "        optimizer.step() # update weights based on accumulated gradients\n",
        "\n",
        "        current_step += 1\n",
        "\n",
        "    # Step the scheduler\n",
        "    scheduler.step() \n",
        "\n",
        "    # Use the best model for validation\n",
        "    if not loss_hist or loss.item() < min(loss_hist):\n",
        "        best_net = deepcopy(net)\n",
        "\n",
        "    # Record loss after each epoch\n",
        "\n",
        "    # Validation part\n",
        "    best_net.train(False) # Set Network to evaluation mode\n",
        "\n",
        "    running_corrects = 0\n",
        "    with torch.no_grad():\n",
        "        for images, labels in val_dataloader:\n",
        "            images = images.to(DEVICE)\n",
        "            labels = labels.to(DEVICE)\n",
        "\n",
        "            # Forward Pass\n",
        "            outputs = best_net(images)\n",
        "\n",
        "            # Get predictions\n",
        "            _, preds = torch.max(outputs.data, 1)\n",
        "            \n",
        "            # Update Corrects\n",
        "            running_corrects += torch.sum(preds == labels.data).data.item()\n",
        "\n",
        "    # Calculate Accuracy\n",
        "    accuracy = running_corrects / float(len(val_dataset))\n",
        "    print('Accuracy {}\\n'.format(accuracy))\n",
        "\n",
        "    # Record loss and accuracy after each epoch\n",
        "    loss_hist.append(loss.item())\n",
        "    acc_hist.append(accuracy)"
      ],
      "execution_count": 0,
      "outputs": [
        {
          "output_type": "stream",
          "text": [
            "Starting epoch 1/30, LR = 0.1\n",
            "Step 0, Loss 4.626758098602295\n",
            "Step 10, Loss 4.489613056182861\n",
            "Accuracy 0.09197786998616875\n",
            "\n",
            "Starting epoch 2/30, LR = 0.1\n",
            "Step 20, Loss 4.47728157043457\n",
            "Accuracy 0.09232365145228216\n",
            "\n",
            "Starting epoch 3/30, LR = 0.1\n",
            "Step 30, Loss 4.366040229797363\n",
            "Accuracy 0.09232365145228216\n",
            "\n",
            "Starting epoch 4/30, LR = 0.1\n",
            "Step 40, Loss 4.136793613433838\n",
            "Accuracy 0.09232365145228216\n",
            "\n",
            "Starting epoch 5/30, LR = 0.1\n",
            "Step 50, Loss 4.1496782302856445\n",
            "Accuracy 0.09232365145228216\n",
            "\n",
            "Starting epoch 6/30, LR = 0.1\n",
            "Step 60, Loss 3.923895835876465\n",
            "Accuracy 0.17946058091286307\n",
            "\n",
            "Starting epoch 7/30, LR = 0.1\n",
            "Step 70, Loss 4.11142635345459\n",
            "Accuracy 0.17946058091286307\n",
            "\n",
            "Starting epoch 8/30, LR = 0.1\n",
            "Step 80, Loss 4.246984004974365\n",
            "Accuracy 0.17946058091286307\n",
            "\n",
            "Starting epoch 9/30, LR = 0.1\n",
            "Step 90, Loss 4.18563175201416\n",
            "Accuracy 0.17946058091286307\n",
            "\n",
            "Starting epoch 10/30, LR = 0.1\n",
            "Step 100, Loss 4.118852138519287\n",
            "Accuracy 0.17946058091286307\n",
            "\n",
            "Starting epoch 11/30, LR = 0.03\n",
            "Step 110, Loss 4.231114387512207\n",
            "Step 120, Loss 4.130837440490723\n",
            "Accuracy 0.17946058091286307\n",
            "\n",
            "Starting epoch 12/30, LR = 0.03\n",
            "Step 130, Loss 3.8893213272094727\n",
            "Accuracy 0.19052558782849238\n",
            "\n",
            "Starting epoch 13/30, LR = 0.03\n",
            "Step 140, Loss 4.095027923583984\n",
            "Accuracy 0.19571230982019364\n",
            "\n",
            "Starting epoch 14/30, LR = 0.03\n",
            "Step 150, Loss 3.964977979660034\n",
            "Accuracy 0.20159059474412172\n",
            "\n",
            "Starting epoch 15/30, LR = 0.03\n",
            "Step 160, Loss 3.9029181003570557\n",
            "Accuracy 0.20262793914246197\n",
            "\n",
            "Starting epoch 16/30, LR = 0.03\n",
            "Step 170, Loss 3.8612661361694336\n",
            "Accuracy 0.2053941908713693\n",
            "\n",
            "Starting epoch 17/30, LR = 0.03\n",
            "Step 180, Loss 3.799712896347046\n",
            "Accuracy 0.21161825726141079\n",
            "\n",
            "Starting epoch 18/30, LR = 0.03\n",
            "Step 190, Loss 3.826436996459961\n",
            "Accuracy 0.21161825726141079\n",
            "\n",
            "Starting epoch 19/30, LR = 0.03\n",
            "Step 200, Loss 3.435218334197998\n",
            "Accuracy 0.22337482710926695\n",
            "\n",
            "Starting epoch 20/30, LR = 0.03\n",
            "Step 210, Loss 3.54567813873291\n",
            "Accuracy 0.22337482710926695\n",
            "\n",
            "Starting epoch 21/30, LR = 0.009\n",
            "Step 220, Loss 3.677186965942383\n",
            "Step 230, Loss 3.6177401542663574\n",
            "Accuracy 0.21991701244813278\n",
            "\n",
            "Starting epoch 22/30, LR = 0.009\n",
            "Step 240, Loss 3.680948495864868\n",
            "Accuracy 0.21991701244813278\n",
            "\n",
            "Starting epoch 23/30, LR = 0.009\n",
            "Step 250, Loss 3.4521002769470215\n",
            "Accuracy 0.21991701244813278\n",
            "\n",
            "Starting epoch 24/30, LR = 0.009\n",
            "Step 260, Loss 3.2988486289978027\n",
            "Accuracy 0.2389349930843707\n",
            "\n",
            "Starting epoch 25/30, LR = 0.009\n",
            "Step 270, Loss 3.4009220600128174\n",
            "Accuracy 0.24515905947441216\n",
            "\n",
            "Starting epoch 26/30, LR = 0.009\n",
            "Step 280, Loss 3.393264055252075\n",
            "Accuracy 0.24550484094052558\n",
            "\n",
            "Starting epoch 27/30, LR = 0.009\n",
            "Step 290, Loss 3.3692452907562256\n",
            "Accuracy 0.24515905947441216\n",
            "\n",
            "Starting epoch 28/30, LR = 0.009\n",
            "Step 300, Loss 3.1959869861602783\n",
            "Accuracy 0.24515905947441216\n",
            "\n",
            "Starting epoch 29/30, LR = 0.009\n",
            "Step 310, Loss 3.212736129760742\n",
            "Accuracy 0.26141078838174275\n",
            "\n",
            "Starting epoch 30/30, LR = 0.009\n",
            "Step 320, Loss 3.0523948669433594\n",
            "Accuracy 0.26141078838174275\n",
            "\n"
          ],
          "name": "stdout"
        }
      ]
    },
    {
      "cell_type": "code",
      "metadata": {
        "id": "JVgGLjNjbSmp",
        "colab_type": "code",
        "colab": {}
      },
      "source": [
        "import matplotlib.pyplot as plt"
      ],
      "execution_count": 0,
      "outputs": []
    },
    {
      "cell_type": "code",
      "metadata": {
        "colab_type": "code",
        "outputId": "9b040597-c6ba-4532-f73c-3b69719eebbb",
        "id": "HBAdsiwzgdCx",
        "colab": {
          "base_uri": "https://localhost:8080/",
          "height": 573
        }
      },
      "source": [
        "plt.plot(loss_hist)\n",
        "plt.title('Loss VS Epochs')\n",
        "plt.xlabel('epoch')\n",
        "plt.ylabel('loss')\n",
        "plt.show()\n",
        "\n",
        "plt.plot(acc_hist)\n",
        "plt.title('Accuracy VS Epochs')\n",
        "plt.xlabel('epoch')\n",
        "plt.ylabel('accuracy')\n",
        "plt.show()"
      ],
      "execution_count": 0,
      "outputs": [
        {
          "output_type": "display_data",
          "data": {
            "image/png": "[encoded data removed]",
            "text/plain": [
              "<Figure size 432x288 with 1 Axes>"
            ]
          },
          "metadata": {
            "tags": [],
            "needs_background": "light"
          }
        },
        {
          "output_type": "display_data",
          "data": {
            "image/png": "[encoded data removed]",
            "text/plain": [
              "<Figure size 432x288 with 1 Axes>"
            ]
          },
          "metadata": {
            "tags": [],
            "needs_background": "light"
          }
        }
      ]
    },
    {
      "cell_type": "markdown",
      "metadata": {
        "colab_type": "text",
        "id": "jEv_9igHgdCz"
      },
      "source": [
        "**Test**"
      ]
    },
    {
      "cell_type": "code",
      "metadata": {
        "colab_type": "code",
        "id": "ixjCkcv5gdCz",
        "outputId": "674c0673-0d9f-4f31-b4ed-52ccbaa8e58b",
        "colab": {
          "base_uri": "https://localhost:8080/",
          "height": 53
        }
      },
      "source": [
        "best_net = best_net.to(DEVICE) # this will bring the network to GPU if DEVICE is cuda\n",
        "best_net.train(False) # Set Network to evaluation mode\n",
        "\n",
        "running_corrects = 0\n",
        "for images, labels in tqdm(test_dataloader):\n",
        "  images = images.to(DEVICE)\n",
        "  labels = labels.to(DEVICE)\n",
        "\n",
        "  # Forward Pass\n",
        "  outputs = best_net(images)\n",
        "\n",
        "  # Get predictions\n",
        "  _, preds = torch.max(outputs.data, 1)\n",
        "\n",
        "  # Update Corrects\n",
        "  running_corrects += torch.sum(preds == labels.data).data.item()\n",
        "\n",
        "# Calculate Accuracy\n",
        "accuracy = running_corrects / float(len(test_dataset))\n",
        "\n",
        "print('Test Accuracy: {}'.format(accuracy))"
      ],
      "execution_count": 0,
      "outputs": [
        {
          "output_type": "stream",
          "text": [
            "100%|██████████| 12/12 [00:11<00:00,  1.05it/s]"
          ],
          "name": "stderr"
        },
        {
          "output_type": "stream",
          "text": [
            "Test Accuracy: 0.27134462495679224\n"
          ],
          "name": "stdout"
        },
        {
          "output_type": "stream",
          "text": [
            "\n"
          ],
          "name": "stderr"
        }
      ]
    },
    {
      "cell_type": "markdown",
      "metadata": {
        "id": "J2hnXDORbnmo",
        "colab_type": "text"
      },
      "source": [
        "# Transfer learning and Data Augmentation"
      ]
    },
    {
      "cell_type": "markdown",
      "metadata": {
        "colab_type": "text",
        "id": "Wa8Q3ta_vegt"
      },
      "source": [
        "**Set Arguments**"
      ]
    },
    {
      "cell_type": "code",
      "metadata": {
        "colab_type": "code",
        "id": "YwAvZtbEvegu",
        "colab": {}
      },
      "source": [
        "DEVICE = 'cuda' # 'cuda' or 'cpu'\n",
        "\n",
        "NUM_CLASSES = 102 # 101 + 1: There is an extra Background class that should be removed \n",
        "\n",
        "BATCH_SIZE = 256     # Higher batch sizes allows for larger learning rates. An empirical heuristic suggests that, when changing\n",
        "                     # the batch size, learning rate should change by the same factor to have comparable results\n",
        "\n",
        "LOG_FREQUENCY = 10"
      ],
      "execution_count": 0,
      "outputs": []
    },
    {
      "cell_type": "markdown",
      "metadata": {
        "colab_type": "text",
        "id": "DgXC41FBq2TN"
      },
      "source": [
        "**Define Data Preprocessing**"
      ]
    },
    {
      "cell_type": "code",
      "metadata": {
        "id": "GhV2nL2ibiCU",
        "colab_type": "code",
        "colab": {}
      },
      "source": [
        "train_transform = transforms.Compose([transforms.Resize(256),      # Resizes short size of the PIL image to 256\n",
        "                                      transforms.RandomCrop(224),  # Data Augmentation\n",
        "                                      transforms.RandomHorizontalFlip(),    # Data Augmentation\n",
        "                                      transforms.ColorJitter(),    # Data Augmentation\n",
        "                                      transforms.ToTensor(),       # Turn PIL Image to torch.Tensor\n",
        "                                      transforms.Normalize([0.485, 0.456, 0.406], [0.229, 0.224, 0.225]) # Normalizes with mean and standard deviation of ImageNet\n",
        "])\n",
        "\n",
        "eval_transform = transforms.Compose([transforms.Resize(256),      # Resizes short size of the PIL image to 256\n",
        "                                      transforms.CenterCrop(224),  # Crops a central square patch of the image\n",
        "                                                                   # 224 because torchvision's AlexNet needs a 224x224 input!\n",
        "                                                                   # Remember this when applying different transformations, otherwise you get an error\n",
        "                                      transforms.ToTensor(),       # Turn PIL Image to torch.Tensor\n",
        "                                      transforms.Normalize([0.485, 0.456, 0.406], [0.229, 0.224, 0.225]) # Normalizes with mean and standard deviation of ImageNet\n",
        "])"
      ],
      "execution_count": 0,
      "outputs": []
    },
    {
      "cell_type": "markdown",
      "metadata": {
        "colab_type": "text",
        "id": "T8NnOM6mvda5"
      },
      "source": [
        "**Prepare Dataset**"
      ]
    },
    {
      "cell_type": "code",
      "metadata": {
        "colab_type": "code",
        "id": "FiVyLR5frTu9",
        "colab": {
          "base_uri": "https://localhost:8080/",
          "height": 161
        },
        "outputId": "77bff28f-c05d-4302-bd0e-32da348f9253"
      },
      "source": [
        "# Clone github repository with data\n",
        "if not os.path.isdir('./Caltech101'):\n",
        "#   !git clone https://github.com/MachineLearning2020/Homework2-Caltech101.git\n",
        "    !git clone https://github.com/Barrel-Titor/Homework2-Caltech101.git\n",
        "    !mv 'Homework2-Caltech101' 'Caltech101'\n",
        "\n",
        "DATA_DIR = 'Caltech101/101_ObjectCategories'"
      ],
      "execution_count": 3,
      "outputs": [
        {
          "output_type": "stream",
          "text": [
            "Cloning into 'Homework2-Caltech101'...\n",
            "remote: Enumerating objects: 9, done.\u001b[K\n",
            "remote: Counting objects: 100% (9/9), done.\u001b[K\n",
            "remote: Compressing objects: 100% (7/7), done.\u001b[K\n",
            "remote: Total 9265 (delta 4), reused 7 (delta 2), pack-reused 9256\u001b[K\n",
            "Receiving objects: 100% (9265/9265), 129.48 MiB | 28.36 MiB/s, done.\n",
            "Resolving deltas: 100% (8/8), done.\n",
            "Checking out files: 100% (9149/9149), done.\n"
          ],
          "name": "stdout"
        }
      ]
    },
    {
      "cell_type": "code",
      "metadata": {
        "colab_type": "code",
        "outputId": "102e2ce7-9e4e-4431-b8aa-2a85b2a5c679",
        "id": "O6f55c9Ovda5",
        "colab": {
          "base_uri": "https://localhost:8080/",
          "height": 71
        }
      },
      "source": [
        "from Caltech101.caltech_dataset import Caltech\n",
        "\n",
        "# Prepare Pytorch train/test Datasets\n",
        "train_val_dataset = Caltech(DATA_DIR, split='train',  transform=train_transform)\n",
        "test_dataset = Caltech(DATA_DIR, split='test', transform=eval_transform)\n",
        "\n",
        "train_indexes = list(range(0, len(train_val_dataset), 2))   # split the indices for your train split\n",
        "val_indexes = list(range(1, len(train_val_dataset), 2))     # split the indices for your val split\n",
        "\n",
        "train_dataset = Subset(train_val_dataset, train_indexes)\n",
        "val_dataset = Subset(train_val_dataset, val_indexes)\n",
        "\n",
        "# Check dataset sizes\n",
        "print('Train Dataset: {}'.format(len(train_dataset)))\n",
        "print('Valid Dataset: {}'.format(len(val_dataset)))\n",
        "print('Test Dataset: {}'.format(len(test_dataset)))"
      ],
      "execution_count": 4,
      "outputs": [
        {
          "output_type": "stream",
          "text": [
            "Train Dataset: 2892\n",
            "Valid Dataset: 2892\n",
            "Test Dataset: 2893\n"
          ],
          "name": "stdout"
        }
      ]
    },
    {
      "cell_type": "markdown",
      "metadata": {
        "colab_type": "text",
        "id": "r7MDO2f5vda9"
      },
      "source": [
        "**Prepare Dataloaders**"
      ]
    },
    {
      "cell_type": "code",
      "metadata": {
        "colab_type": "code",
        "id": "BeBLPDFpvda9",
        "colab": {}
      },
      "source": [
        "# Dataloaders iterate over pytorch datasets and transparently provide useful functions (e.g. parallelization and shuffling)\n",
        "train_dataloader = DataLoader(train_dataset, batch_size=BATCH_SIZE, shuffle=True, num_workers=4, drop_last=True)\n",
        "val_dataloader = DataLoader(val_dataset, batch_size=BATCH_SIZE, shuffle=False, num_workers=4)\n",
        "test_dataloader = DataLoader(test_dataset, batch_size=BATCH_SIZE, shuffle=False, num_workers=4)"
      ],
      "execution_count": 0,
      "outputs": []
    },
    {
      "cell_type": "markdown",
      "metadata": {
        "colab_type": "text",
        "id": "OMWSPyeISY_J"
      },
      "source": [
        "### Hyperparameter set 1"
      ]
    },
    {
      "cell_type": "markdown",
      "metadata": {
        "colab_type": "text",
        "id": "l1h6qDGYrjbb"
      },
      "source": [
        "| Current hyperparameters | Value |\n",
        "| --- | --- |\n",
        "| Initial learning rate | 0.001 |\n",
        "| Decaying policy | StepLR |\n",
        "| Decaying step size | 10 epochs |\n",
        "| Decaying factor | 0.1 |\n",
        "| Optimiser | SGD |\n",
        "| Epochs | 30 |\n",
        "\n"
      ]
    },
    {
      "cell_type": "markdown",
      "metadata": {
        "colab_type": "text",
        "id": "Fra3ahOMvZCz"
      },
      "source": [
        "**Set Arguments**"
      ]
    },
    {
      "cell_type": "code",
      "metadata": {
        "colab_type": "code",
        "id": "ITRKNpD0vZC0",
        "colab": {}
      },
      "source": [
        "LR = 1e-3            # The initial Learning Rate\n",
        "MOMENTUM = 0.9       # Hyperparameter for SGD, keep this at 0.9 when using SGD\n",
        "WEIGHT_DECAY = 5e-5  # Regularization, you can keep this at the default\n",
        "\n",
        "NUM_EPOCHS = 30      # Total number of training epochs (iterations over dataset)\n",
        "STEP_SIZE = 10       # How many epochs before decreasing learning rate (if using a step-down policy)\n",
        "GAMMA = 0.1          # Multiplicative factor for learning rate step-down"
      ],
      "execution_count": 0,
      "outputs": []
    },
    {
      "cell_type": "markdown",
      "metadata": {
        "colab_type": "text",
        "id": "vTt8uEjrvda_"
      },
      "source": [
        "**Prepare Network**"
      ]
    },
    {
      "cell_type": "code",
      "metadata": {
        "id": "BYfKQVYtsfds",
        "colab_type": "code",
        "colab": {}
      },
      "source": [
        "# Loading AlexNet model\n",
        "net = alexnet(pretrained=True) "
      ],
      "execution_count": 0,
      "outputs": []
    },
    {
      "cell_type": "code",
      "metadata": {
        "colab_type": "code",
        "id": "yleoRHJovda_",
        "colab": {}
      },
      "source": [
        "# AlexNet has 1000 output neurons, corresponding to the 1000 ImageNet's classes\n",
        "# We need 101 outputs for Caltech-101\n",
        "net.classifier[6] = nn.Linear(4096, NUM_CLASSES) # nn.Linear in pytorch is a fully connected layer\n",
        "                                                 # The convolutional layer is nn.Conv2d\n",
        "\n",
        "# We just changed the last layer of AlexNet with a new fully connected layer with 101 outputs\n",
        "# It is strongly suggested to study torchvision.models.alexnet source code"
      ],
      "execution_count": 0,
      "outputs": []
    },
    {
      "cell_type": "code",
      "metadata": {
        "id": "uCbitUJZN7W0",
        "colab_type": "code",
        "outputId": "28a5e19c-6c38-4d0b-e645-a524e7c451a5",
        "colab": {
          "base_uri": "https://localhost:8080/",
          "height": 503
        }
      },
      "source": [
        "net"
      ],
      "execution_count": 0,
      "outputs": [
        {
          "output_type": "execute_result",
          "data": {
            "text/plain": [
              "AlexNet(\n",
              "  (features): Sequential(\n",
              "    (0): Conv2d(3, 64, kernel_size=(11, 11), stride=(4, 4), padding=(2, 2))\n",
              "    (1): ReLU(inplace=True)\n",
              "    (2): MaxPool2d(kernel_size=3, stride=2, padding=0, dilation=1, ceil_mode=False)\n",
              "    (3): Conv2d(64, 192, kernel_size=(5, 5), stride=(1, 1), padding=(2, 2))\n",
              "    (4): ReLU(inplace=True)\n",
              "    (5): MaxPool2d(kernel_size=3, stride=2, padding=0, dilation=1, ceil_mode=False)\n",
              "    (6): Conv2d(192, 384, kernel_size=(3, 3), stride=(1, 1), padding=(1, 1))\n",
              "    (7): ReLU(inplace=True)\n",
              "    (8): Conv2d(384, 256, kernel_size=(3, 3), stride=(1, 1), padding=(1, 1))\n",
              "    (9): ReLU(inplace=True)\n",
              "    (10): Conv2d(256, 256, kernel_size=(3, 3), stride=(1, 1), padding=(1, 1))\n",
              "    (11): ReLU(inplace=True)\n",
              "    (12): MaxPool2d(kernel_size=3, stride=2, padding=0, dilation=1, ceil_mode=False)\n",
              "  )\n",
              "  (avgpool): AdaptiveAvgPool2d(output_size=(6, 6))\n",
              "  (classifier): Sequential(\n",
              "    (0): Dropout(p=0.5, inplace=False)\n",
              "    (1): Linear(in_features=9216, out_features=4096, bias=True)\n",
              "    (2): ReLU(inplace=True)\n",
              "    (3): Dropout(p=0.5, inplace=False)\n",
              "    (4): Linear(in_features=4096, out_features=4096, bias=True)\n",
              "    (5): ReLU(inplace=True)\n",
              "    (6): Linear(in_features=4096, out_features=102, bias=True)\n",
              "  )\n",
              ")"
            ]
          },
          "metadata": {
            "tags": []
          },
          "execution_count": 15
        }
      ]
    },
    {
      "cell_type": "markdown",
      "metadata": {
        "colab_type": "text",
        "id": "0M4n26MxrjbV"
      },
      "source": [
        "**Prepare Training**"
      ]
    },
    {
      "cell_type": "code",
      "metadata": {
        "colab_type": "code",
        "id": "BwT6z_HCrjbX",
        "colab": {}
      },
      "source": [
        "# Define loss function\n",
        "criterion = nn.CrossEntropyLoss() # for classification, we use Cross Entropy\n",
        "\n",
        "# Choose parameters to optimize\n",
        "# To access a different set of parameters, you have to access submodules of AlexNet\n",
        "# (nn.Module objects, like AlexNet, implement the Composite Pattern)\n",
        "# e.g.: parameters of the fully connected layers: net.classifier.parameters()\n",
        "# e.g.: parameters of the convolutional layers: look at alexnet's source code ;) \n",
        "parameters_to_optimize = net.parameters() # In this case we optimize over all the parameters of AlexNet\n",
        "\n",
        "# Define optimizer\n",
        "# An optimizer updates the weights based on loss\n",
        "# We use SGD with momentum\n",
        "optimizer = optim.SGD(parameters_to_optimize, lr=LR, momentum=MOMENTUM, weight_decay=WEIGHT_DECAY)\n",
        "\n",
        "# Define scheduler\n",
        "# A scheduler dynamically changes learning rate\n",
        "# The most common schedule is the step(-down), which multiplies learning rate by gamma every STEP_SIZE epochs\n",
        "scheduler = optim.lr_scheduler.StepLR(optimizer, step_size=STEP_SIZE, gamma=GAMMA)"
      ],
      "execution_count": 0,
      "outputs": []
    },
    {
      "cell_type": "markdown",
      "metadata": {
        "colab_type": "text",
        "id": "WnaK3A7Xrjba"
      },
      "source": [
        "**Train and Validation**"
      ]
    },
    {
      "cell_type": "code",
      "metadata": {
        "colab_type": "code",
        "id": "T__IC0m8rjbb",
        "colab": {}
      },
      "source": [
        "from copy import deepcopy\n",
        "\n",
        "loss_hist = []\n",
        "acc_hist = []\n",
        "\n",
        "# By default, everything is loaded to cpu\n",
        "net = net.to(DEVICE) # this will bring the network to GPU if DEVICE is cuda\n",
        "cudnn.benchmark     # Calling this optimizes runtime\n",
        "\n",
        "current_step = 0"
      ],
      "execution_count": 0,
      "outputs": []
    },
    {
      "cell_type": "code",
      "metadata": {
        "colab_type": "code",
        "outputId": "952830a0-8f87-4820-b464-5b2f3dfc168d",
        "id": "HuwVrmH6rjbd",
        "colab": {
          "base_uri": "https://localhost:8080/",
          "height": 1000
        }
      },
      "source": [
        "# Start iterating over the epochs\n",
        "for epoch in range(NUM_EPOCHS):\n",
        "    print('Starting epoch {}/{}, LR = {}'.format(epoch+1, NUM_EPOCHS, scheduler.get_last_lr()))\n",
        "\n",
        "    # Train part\n",
        "    net.train() # Sets module in training mode\n",
        "\n",
        "    # Iterate over the dataset\n",
        "    for images, labels in train_dataloader:\n",
        "        # Bring data over the device of choice\n",
        "        images = images.to(DEVICE)\n",
        "        labels = labels.to(DEVICE)\n",
        "\n",
        "        # PyTorch, by default, accumulates gradients after each backward pass\n",
        "        # We need to manually set the gradients to zero before starting a new iteration\n",
        "        optimizer.zero_grad() # Zero-ing the gradients\n",
        "\n",
        "        # Forward pass to the network\n",
        "        outputs = net(images)\n",
        "\n",
        "        # Compute loss based on output and ground truth\n",
        "        loss = criterion(outputs, labels)\n",
        "\n",
        "        # Log loss\n",
        "        if current_step % LOG_FREQUENCY == 0:\n",
        "            print('Step {}, Loss {}'.format(current_step, loss.item()))\n",
        "\n",
        "        # Compute gradients for each layer and update weights\n",
        "        loss.backward()  # backward pass: computes gradients\n",
        "        optimizer.step() # update weights based on accumulated gradients\n",
        "\n",
        "        current_step += 1\n",
        "\n",
        "    # Step the scheduler\n",
        "    scheduler.step() \n",
        "\n",
        "    # Use the best model for validation\n",
        "    if not loss_hist or loss.item() < min(loss_hist):\n",
        "        best_net = deepcopy(net)\n",
        "\n",
        "    # Record loss after each epoch\n",
        "\n",
        "    # Validation part\n",
        "    best_net.train(False) # Set Network to evaluation mode\n",
        "\n",
        "    running_corrects = 0\n",
        "    with torch.no_grad():\n",
        "        for images, labels in val_dataloader:\n",
        "            images = images.to(DEVICE)\n",
        "            labels = labels.to(DEVICE)\n",
        "\n",
        "            # Forward Pass\n",
        "            outputs = best_net(images)\n",
        "\n",
        "            # Get predictions\n",
        "            _, preds = torch.max(outputs.data, 1)\n",
        "            \n",
        "            # Update Corrects\n",
        "            running_corrects += torch.sum(preds == labels.data).data.item()\n",
        "\n",
        "    # Calculate Accuracy\n",
        "    accuracy = running_corrects / float(len(val_dataset))\n",
        "    print('Accuracy {}\\n'.format(accuracy))\n",
        "\n",
        "    # Record loss and accuracy after each epoch\n",
        "    loss_hist.append(loss.item())\n",
        "    acc_hist.append(accuracy)"
      ],
      "execution_count": 0,
      "outputs": [
        {
          "output_type": "stream",
          "text": [
            "Starting epoch 1/30, LR = [0.001]\n",
            "Step 0, Loss 4.983925819396973\n",
            "Step 10, Loss 3.253845691680908\n",
            "Accuracy 0.2869986168741355\n",
            "\n",
            "Starting epoch 2/30, LR = [0.001]\n",
            "Step 20, Loss 2.838451862335205\n",
            "Accuracy 0.4512448132780083\n",
            "\n",
            "Starting epoch 3/30, LR = [0.001]\n",
            "Step 30, Loss 2.124786615371704\n",
            "Accuracy 0.5622406639004149\n",
            "\n",
            "Starting epoch 4/30, LR = [0.001]\n",
            "Step 40, Loss 1.4385613203048706\n",
            "Accuracy 0.6614799446749654\n",
            "\n",
            "Starting epoch 5/30, LR = [0.001]\n",
            "Step 50, Loss 0.9223219752311707\n",
            "Accuracy 0.7444674965421854\n",
            "\n",
            "Starting epoch 6/30, LR = [0.001]\n",
            "Step 60, Loss 0.7460620999336243\n",
            "Accuracy 0.7690179806362379\n",
            "\n",
            "Starting epoch 7/30, LR = [0.001]\n",
            "Step 70, Loss 0.5016437768936157\n",
            "Accuracy 0.7852697095435685\n",
            "\n",
            "Starting epoch 8/30, LR = [0.001]\n",
            "Step 80, Loss 0.573759138584137\n",
            "Accuracy 0.8046334716459198\n",
            "\n",
            "Starting epoch 9/30, LR = [0.001]\n",
            "Step 90, Loss 0.39922985434532166\n",
            "Accuracy 0.8084370677731674\n",
            "\n",
            "Starting epoch 10/30, LR = [0.001]\n",
            "Step 100, Loss 0.355316162109375\n",
            "Accuracy 0.8029045643153527\n",
            "\n",
            "Starting epoch 11/30, LR = [0.0001]\n",
            "Step 110, Loss 0.3603885769844055\n",
            "Step 120, Loss 0.2540067732334137\n",
            "Accuracy 0.8067081604426003\n",
            "\n",
            "Starting epoch 12/30, LR = [0.0001]\n",
            "Step 130, Loss 0.2609853744506836\n",
            "Accuracy 0.809820193637621\n",
            "\n",
            "Starting epoch 13/30, LR = [0.0001]\n",
            "Step 140, Loss 0.23108923435211182\n",
            "Accuracy 0.8163900414937759\n",
            "\n",
            "Starting epoch 14/30, LR = [0.0001]\n",
            "Step 150, Loss 0.21353547275066376\n",
            "Accuracy 0.8184647302904564\n",
            "\n",
            "Starting epoch 15/30, LR = [0.0001]\n",
            "Step 160, Loss 0.2118622064590454\n",
            "Accuracy 0.813969571230982\n",
            "\n",
            "Starting epoch 16/30, LR = [0.0001]\n",
            "Step 170, Loss 0.23490069806575775\n",
            "Accuracy 0.8198478561549101\n",
            "\n",
            "Starting epoch 17/30, LR = [0.0001]\n",
            "Step 180, Loss 0.26812151074409485\n",
            "Accuracy 0.813969571230982\n",
            "\n",
            "Starting epoch 18/30, LR = [0.0001]\n",
            "Step 190, Loss 0.20599901676177979\n",
            "Accuracy 0.8125864453665284\n",
            "\n",
            "Starting epoch 19/30, LR = [0.0001]\n",
            "Step 200, Loss 0.1735369712114334\n",
            "Accuracy 0.8132780082987552\n",
            "\n",
            "Starting epoch 20/30, LR = [0.0001]\n",
            "Step 210, Loss 0.2350187599658966\n",
            "Accuracy 0.8188105117565698\n",
            "\n",
            "Starting epoch 21/30, LR = [1e-05]\n",
            "Step 220, Loss 0.3244004249572754\n",
            "Step 230, Loss 0.23026221990585327\n",
            "Accuracy 0.8188105117565698\n",
            "\n",
            "Starting epoch 22/30, LR = [1e-05]\n",
            "Step 240, Loss 0.2102244347333908\n",
            "Accuracy 0.813969571230982\n",
            "\n",
            "Starting epoch 23/30, LR = [1e-05]\n",
            "Step 250, Loss 0.23263779282569885\n",
            "Accuracy 0.8174273858921162\n",
            "\n",
            "Starting epoch 24/30, LR = [1e-05]\n",
            "Step 260, Loss 0.1632312685251236\n",
            "Accuracy 0.8156984785615491\n",
            "\n",
            "Starting epoch 25/30, LR = [1e-05]\n",
            "Step 270, Loss 0.1983594298362732\n",
            "Accuracy 0.8184647302904564\n",
            "\n",
            "Starting epoch 26/30, LR = [1e-05]\n",
            "Step 280, Loss 0.27111756801605225\n",
            "Accuracy 0.8236514522821576\n",
            "\n",
            "Starting epoch 27/30, LR = [1e-05]\n",
            "Step 290, Loss 0.13803407549858093\n",
            "Accuracy 0.8143153526970954\n",
            "\n",
            "Starting epoch 28/30, LR = [1e-05]\n",
            "Step 300, Loss 0.2487158626317978\n",
            "Accuracy 0.8167358229598893\n",
            "\n",
            "Starting epoch 29/30, LR = [1e-05]\n",
            "Step 310, Loss 0.1951482892036438\n",
            "Accuracy 0.8136237897648686\n",
            "\n",
            "Starting epoch 30/30, LR = [1e-05]\n",
            "Step 320, Loss 0.15634195506572723\n",
            "Accuracy 0.8184647302904564\n",
            "\n"
          ],
          "name": "stdout"
        }
      ]
    },
    {
      "cell_type": "code",
      "metadata": {
        "colab_type": "code",
        "id": "v2zyIh4Trjbg",
        "colab": {}
      },
      "source": [
        "import matplotlib.pyplot as plt"
      ],
      "execution_count": 0,
      "outputs": []
    },
    {
      "cell_type": "code",
      "metadata": {
        "colab_type": "code",
        "outputId": "b4b9e3e6-3624-4b99-fe99-39f6abd156b8",
        "id": "1IOgFaTerjbi",
        "colab": {
          "base_uri": "https://localhost:8080/",
          "height": 573
        }
      },
      "source": [
        "plt.plot(loss_hist)\n",
        "plt.title('Loss VS Epochs')\n",
        "plt.xlabel('epoch')\n",
        "plt.ylabel('loss')\n",
        "plt.show()\n",
        "\n",
        "plt.plot(acc_hist)\n",
        "plt.title('Accuracy VS Epochs')\n",
        "plt.xlabel('epoch')\n",
        "plt.ylabel('accuracy')\n",
        "plt.show()"
      ],
      "execution_count": 0,
      "outputs": [
        {
          "output_type": "display_data",
          "data": {
            "image/png": "[encoded data removed]",
            "text/plain": [
              "<Figure size 432x288 with 1 Axes>"
            ]
          },
          "metadata": {
            "tags": [],
            "needs_background": "light"
          }
        },
        {
          "output_type": "display_data",
          "data": {
            "image/png": "[encoded data removed]",
            "text/plain": [
              "<Figure size 432x288 with 1 Axes>"
            ]
          },
          "metadata": {
            "tags": [],
            "needs_background": "light"
          }
        }
      ]
    },
    {
      "cell_type": "markdown",
      "metadata": {
        "colab_type": "text",
        "id": "w7Yp5t0qrjbk"
      },
      "source": [
        "**Test**"
      ]
    },
    {
      "cell_type": "code",
      "metadata": {
        "colab_type": "code",
        "outputId": "8c44500a-2b94-44e5-c773-3880383ac833",
        "id": "g-jvELJyrjbk",
        "colab": {
          "base_uri": "https://localhost:8080/",
          "height": 53
        }
      },
      "source": [
        "best_net = best_net.to(DEVICE) # this will bring the network to GPU if DEVICE is cuda\n",
        "best_net.train(False) # Set Network to evaluation mode\n",
        "\n",
        "running_corrects = 0\n",
        "for images, labels in tqdm(test_dataloader):\n",
        "  images = images.to(DEVICE)\n",
        "  labels = labels.to(DEVICE)\n",
        "\n",
        "  # Forward Pass\n",
        "  outputs = best_net(images)\n",
        "\n",
        "  # Get predictions\n",
        "  _, preds = torch.max(outputs.data, 1)\n",
        "\n",
        "  # Update Corrects\n",
        "  running_corrects += torch.sum(preds == labels.data).data.item()\n",
        "\n",
        "# Calculate Accuracy\n",
        "accuracy = running_corrects / float(len(test_dataset))\n",
        "\n",
        "print('Test Accuracy: {}'.format(accuracy))"
      ],
      "execution_count": 0,
      "outputs": [
        {
          "output_type": "stream",
          "text": [
            "100%|██████████| 12/12 [00:13<00:00,  1.08s/it]"
          ],
          "name": "stderr"
        },
        {
          "output_type": "stream",
          "text": [
            "Test Accuracy: 0.8212927756653993\n"
          ],
          "name": "stdout"
        },
        {
          "output_type": "stream",
          "text": [
            "\n"
          ],
          "name": "stderr"
        }
      ]
    },
    {
      "cell_type": "markdown",
      "metadata": {
        "colab_type": "text",
        "id": "hyQp86tTS2Z0"
      },
      "source": [
        "## Hyperparameter set 2"
      ]
    },
    {
      "cell_type": "markdown",
      "metadata": {
        "colab_type": "text",
        "id": "YKDJk2LtS2Z1"
      },
      "source": [
        "| Current hyperparameters | Value |\n",
        "| --- | --- |\n",
        "| Initial learning rate | 0.001 |\n",
        "| Decaying policy | StepLR |\n",
        "| Decaying step size | 5 epochs |\n",
        "| Decaying factor | 0.1 |\n",
        "| Optimiser | SGD |\n",
        "| Epochs | 30 |\n",
        "\n"
      ]
    },
    {
      "cell_type": "markdown",
      "metadata": {
        "colab_type": "text",
        "id": "OJK8uMhqS2Z2"
      },
      "source": [
        "**Set Arguments**"
      ]
    },
    {
      "cell_type": "code",
      "metadata": {
        "colab_type": "code",
        "id": "57bHqF3zS2Z2",
        "colab": {}
      },
      "source": [
        "LR = 1e-3            # The initial Learning Rate\n",
        "MOMENTUM = 0.9       # Hyperparameter for SGD, keep this at 0.9 when using SGD\n",
        "WEIGHT_DECAY = 5e-5  # Regularization, you can keep this at the default\n",
        "\n",
        "NUM_EPOCHS = 30      # Total number of training epochs (iterations over dataset)\n",
        "STEP_SIZE = 5        # How many epochs before decreasing learning rate (if using a step-down policy)\n",
        "GAMMA = 0.1          # Multiplicative factor for learning rate step-down"
      ],
      "execution_count": 0,
      "outputs": []
    },
    {
      "cell_type": "markdown",
      "metadata": {
        "colab_type": "text",
        "id": "lvmze81LS2Z5"
      },
      "source": [
        "**Prepare Network**"
      ]
    },
    {
      "cell_type": "code",
      "metadata": {
        "colab_type": "code",
        "id": "ViKKX_YIS2Z6",
        "colab": {}
      },
      "source": [
        "# Loading AlexNet model\n",
        "net = alexnet(pretrained=True) "
      ],
      "execution_count": 0,
      "outputs": []
    },
    {
      "cell_type": "code",
      "metadata": {
        "colab_type": "code",
        "id": "A0x-gJnUS2Z-",
        "colab": {}
      },
      "source": [
        "# AlexNet has 1000 output neurons, corresponding to the 1000 ImageNet's classes\n",
        "# We need 101 outputs for Caltech-101\n",
        "net.classifier[6] = nn.Linear(4096, NUM_CLASSES) # nn.Linear in pytorch is a fully connected layer\n",
        "                                                 # The convolutional layer is nn.Conv2d\n",
        "\n",
        "# We just changed the last layer of AlexNet with a new fully connected layer with 101 outputs\n",
        "# It is strongly suggested to study torchvision.models.alexnet source code"
      ],
      "execution_count": 0,
      "outputs": []
    },
    {
      "cell_type": "markdown",
      "metadata": {
        "colab_type": "text",
        "id": "2k6l1-PUS2aB"
      },
      "source": [
        "**Prepare Training**"
      ]
    },
    {
      "cell_type": "code",
      "metadata": {
        "colab_type": "code",
        "id": "yWfZ2SeKS2aB",
        "colab": {}
      },
      "source": [
        "# Define loss function\n",
        "criterion = nn.CrossEntropyLoss() # for classification, we use Cross Entropy\n",
        "\n",
        "# Choose parameters to optimize\n",
        "# To access a different set of parameters, you have to access submodules of AlexNet\n",
        "# (nn.Module objects, like AlexNet, implement the Composite Pattern)\n",
        "# e.g.: parameters of the fully connected layers: net.classifier.parameters()\n",
        "# e.g.: parameters of the convolutional layers: look at alexnet's source code ;) \n",
        "parameters_to_optimize = net.parameters() # In this case we optimize over all the parameters of AlexNet\n",
        "\n",
        "# Define optimizer\n",
        "# An optimizer updates the weights based on loss\n",
        "# We use SGD with momentum\n",
        "optimizer = optim.SGD(parameters_to_optimize, lr=LR, momentum=MOMENTUM, weight_decay=WEIGHT_DECAY)\n",
        "\n",
        "# Define scheduler\n",
        "# A scheduler dynamically changes learning rate\n",
        "# The most common schedule is the step(-down), which multiplies learning rate by gamma every STEP_SIZE epochs\n",
        "scheduler = optim.lr_scheduler.StepLR(optimizer, step_size=STEP_SIZE, gamma=GAMMA)"
      ],
      "execution_count": 0,
      "outputs": []
    },
    {
      "cell_type": "markdown",
      "metadata": {
        "colab_type": "text",
        "id": "sPPRS1N8S2aE"
      },
      "source": [
        "**Train and Validation**"
      ]
    },
    {
      "cell_type": "code",
      "metadata": {
        "colab_type": "code",
        "id": "jcbBH32RS2aE",
        "colab": {}
      },
      "source": [
        "from copy import deepcopy\n",
        "\n",
        "loss_hist = []\n",
        "acc_hist = []\n",
        "\n",
        "# By default, everything is loaded to cpu\n",
        "net = net.to(DEVICE) # this will bring the network to GPU if DEVICE is cuda\n",
        "cudnn.benchmark     # Calling this optimizes runtime\n",
        "\n",
        "current_step = 0"
      ],
      "execution_count": 0,
      "outputs": []
    },
    {
      "cell_type": "code",
      "metadata": {
        "colab_type": "code",
        "outputId": "7dbb332d-2f4b-4765-a496-473cada99098",
        "id": "P-BrrpqAS2aH",
        "colab": {
          "base_uri": "https://localhost:8080/",
          "height": 1000
        }
      },
      "source": [
        "# Start iterating over the epochs\n",
        "for epoch in range(NUM_EPOCHS):\n",
        "    print('Starting epoch {}/{}, LR = {}'.format(epoch+1, NUM_EPOCHS, scheduler.get_last_lr()))\n",
        "\n",
        "    # Train part\n",
        "    net.train() # Sets module in training mode\n",
        "\n",
        "    # Iterate over the dataset\n",
        "    for images, labels in train_dataloader:\n",
        "        # Bring data over the device of choice\n",
        "        images = images.to(DEVICE)\n",
        "        labels = labels.to(DEVICE)\n",
        "\n",
        "        # PyTorch, by default, accumulates gradients after each backward pass\n",
        "        # We need to manually set the gradients to zero before starting a new iteration\n",
        "        optimizer.zero_grad() # Zero-ing the gradients\n",
        "\n",
        "        # Forward pass to the network\n",
        "        outputs = net(images)\n",
        "\n",
        "        # Compute loss based on output and ground truth\n",
        "        loss = criterion(outputs, labels)\n",
        "\n",
        "        # Log loss\n",
        "        if current_step % LOG_FREQUENCY == 0:\n",
        "            print('Step {}, Loss {}'.format(current_step, loss.item()))\n",
        "\n",
        "        # Compute gradients for each layer and update weights\n",
        "        loss.backward()  # backward pass: computes gradients\n",
        "        optimizer.step() # update weights based on accumulated gradients\n",
        "\n",
        "        current_step += 1\n",
        "\n",
        "    # Step the scheduler\n",
        "    scheduler.step() \n",
        "\n",
        "    # Use the best model for validation\n",
        "    if not loss_hist or loss.item() < min(loss_hist):\n",
        "        best_net = deepcopy(net)\n",
        "\n",
        "    # Record loss after each epoch\n",
        "\n",
        "    # Validation part\n",
        "    best_net.train(False) # Set Network to evaluation mode\n",
        "\n",
        "    running_corrects = 0\n",
        "    with torch.no_grad():\n",
        "        for images, labels in val_dataloader:\n",
        "            images = images.to(DEVICE)\n",
        "            labels = labels.to(DEVICE)\n",
        "\n",
        "            # Forward Pass\n",
        "            outputs = best_net(images)\n",
        "\n",
        "            # Get predictions\n",
        "            _, preds = torch.max(outputs.data, 1)\n",
        "            \n",
        "            # Update Corrects\n",
        "            running_corrects += torch.sum(preds == labels.data).data.item()\n",
        "\n",
        "    # Calculate Accuracy\n",
        "    accuracy = running_corrects / float(len(val_dataset))\n",
        "    print('Accuracy {}\\n'.format(accuracy))\n",
        "\n",
        "    # Record loss and accuracy after each epoch\n",
        "    loss_hist.append(loss.item())\n",
        "    acc_hist.append(accuracy)"
      ],
      "execution_count": 0,
      "outputs": [
        {
          "output_type": "stream",
          "text": [
            "Starting epoch 1/30, LR = [0.001]\n",
            "Step 0, Loss 4.836269378662109\n",
            "Step 10, Loss 3.4196667671203613\n",
            "Accuracy 0.2821576763485477\n",
            "\n",
            "Starting epoch 2/30, LR = [0.001]\n",
            "Step 20, Loss 2.642625093460083\n",
            "Accuracy 0.45470262793914246\n",
            "\n",
            "Starting epoch 3/30, LR = [0.001]\n",
            "Step 30, Loss 1.9410220384597778\n",
            "Accuracy 0.5743430152143845\n",
            "\n",
            "Starting epoch 4/30, LR = [0.001]\n",
            "Step 40, Loss 1.4295628070831299\n",
            "Accuracy 0.6822268326417704\n",
            "\n",
            "Starting epoch 5/30, LR = [0.001]\n",
            "Step 50, Loss 0.9842467904090881\n",
            "Accuracy 0.73582295988935\n",
            "\n",
            "Starting epoch 6/30, LR = [0.0001]\n",
            "Step 60, Loss 0.82724928855896\n",
            "Accuracy 0.7385892116182573\n",
            "\n",
            "Starting epoch 7/30, LR = [0.0001]\n",
            "Step 70, Loss 0.7325082421302795\n",
            "Accuracy 0.7455048409405256\n",
            "\n",
            "Starting epoch 8/30, LR = [0.0001]\n",
            "Step 80, Loss 0.8222002983093262\n",
            "Accuracy 0.7510373443983402\n",
            "\n",
            "Starting epoch 9/30, LR = [0.0001]\n",
            "Step 90, Loss 0.6232385635375977\n",
            "Accuracy 0.7468879668049793\n",
            "\n",
            "Starting epoch 10/30, LR = [0.0001]\n",
            "Step 100, Loss 0.6196423768997192\n",
            "Accuracy 0.7603734439834025\n",
            "\n",
            "Starting epoch 11/30, LR = [1e-05]\n",
            "Step 110, Loss 0.7039796113967896\n",
            "Step 120, Loss 0.7660772204399109\n",
            "Accuracy 0.7544951590594744\n",
            "\n",
            "Starting epoch 12/30, LR = [1e-05]\n",
            "Step 130, Loss 0.7401022911071777\n",
            "Accuracy 0.7558782849239281\n",
            "\n",
            "Starting epoch 13/30, LR = [1e-05]\n",
            "Step 140, Loss 0.7229833006858826\n",
            "Accuracy 0.7562240663900415\n",
            "\n",
            "Starting epoch 14/30, LR = [1e-05]\n",
            "Step 150, Loss 0.6481770277023315\n",
            "Accuracy 0.7565698478561549\n",
            "\n",
            "Starting epoch 15/30, LR = [1e-05]\n",
            "Step 160, Loss 0.6746580004692078\n",
            "Accuracy 0.7617565698478561\n",
            "\n",
            "Starting epoch 16/30, LR = [1.0000000000000002e-06]\n",
            "Step 170, Loss 0.6870725154876709\n",
            "Accuracy 0.7479253112033195\n",
            "\n",
            "Starting epoch 17/30, LR = [1.0000000000000002e-06]\n",
            "Step 180, Loss 0.5685647130012512\n",
            "Accuracy 0.7638312586445366\n",
            "\n",
            "Starting epoch 18/30, LR = [1.0000000000000002e-06]\n",
            "Step 190, Loss 0.5489182472229004\n",
            "Accuracy 0.7465421853388658\n",
            "\n",
            "Starting epoch 19/30, LR = [1.0000000000000002e-06]\n",
            "Step 200, Loss 0.7829902768135071\n",
            "Accuracy 0.7593360995850622\n",
            "\n",
            "Starting epoch 20/30, LR = [1.0000000000000002e-06]\n",
            "Step 210, Loss 0.6678060293197632\n",
            "Accuracy 0.7603734439834025\n",
            "\n",
            "Starting epoch 21/30, LR = [1.0000000000000002e-07]\n",
            "Step 220, Loss 0.6817454695701599\n",
            "Step 230, Loss 0.7210606336593628\n",
            "Accuracy 0.7586445366528354\n",
            "\n",
            "Starting epoch 22/30, LR = [1.0000000000000002e-07]\n",
            "Step 240, Loss 0.5438591837882996\n",
            "Accuracy 0.760027662517289\n",
            "\n",
            "Starting epoch 23/30, LR = [1.0000000000000002e-07]\n",
            "Step 250, Loss 0.6841221451759338\n",
            "Accuracy 0.7662517289073306\n",
            "\n",
            "Starting epoch 24/30, LR = [1.0000000000000002e-07]\n",
            "Step 260, Loss 0.7503744959831238\n",
            "Accuracy 0.7631396957123098\n",
            "\n",
            "Starting epoch 25/30, LR = [1.0000000000000002e-07]\n",
            "Step 270, Loss 0.5493339896202087\n",
            "Accuracy 0.7544951590594744\n",
            "\n",
            "Starting epoch 26/30, LR = [1.0000000000000004e-08]\n",
            "Step 280, Loss 0.6779531836509705\n",
            "Accuracy 0.7603734439834025\n",
            "\n",
            "Starting epoch 27/30, LR = [1.0000000000000004e-08]\n",
            "Step 290, Loss 0.5862475633621216\n",
            "Accuracy 0.7631396957123098\n",
            "\n",
            "Starting epoch 28/30, LR = [1.0000000000000004e-08]\n",
            "Step 300, Loss 0.6919528245925903\n",
            "Accuracy 0.7617565698478561\n",
            "\n",
            "Starting epoch 29/30, LR = [1.0000000000000004e-08]\n",
            "Step 310, Loss 0.6522805690765381\n",
            "Accuracy 0.754149377593361\n",
            "\n",
            "Starting epoch 30/30, LR = [1.0000000000000004e-08]\n",
            "Step 320, Loss 0.7401379346847534\n",
            "Accuracy 0.7634854771784232\n",
            "\n"
          ],
          "name": "stdout"
        }
      ]
    },
    {
      "cell_type": "code",
      "metadata": {
        "colab_type": "code",
        "id": "Faaea-MuS2aK",
        "colab": {}
      },
      "source": [
        "import matplotlib.pyplot as plt"
      ],
      "execution_count": 0,
      "outputs": []
    },
    {
      "cell_type": "code",
      "metadata": {
        "colab_type": "code",
        "outputId": "8b0a0c46-98cf-4ba4-b3bc-d8270162d038",
        "id": "4ZL4Wg3fS2aN",
        "colab": {
          "base_uri": "https://localhost:8080/",
          "height": 573
        }
      },
      "source": [
        "plt.plot(loss_hist)\n",
        "plt.title('Loss VS Epochs')\n",
        "plt.xlabel('epoch')\n",
        "plt.ylabel('loss')\n",
        "plt.show()\n",
        "\n",
        "plt.plot(acc_hist)\n",
        "plt.title('Accuracy VS Epochs')\n",
        "plt.xlabel('epoch')\n",
        "plt.ylabel('accuracy')\n",
        "plt.show()"
      ],
      "execution_count": 0,
      "outputs": [
        {
          "output_type": "display_data",
          "data": {
            "image/png": "[encoded data removed]",
            "text/plain": [
              "<Figure size 432x288 with 1 Axes>"
            ]
          },
          "metadata": {
            "tags": [],
            "needs_background": "light"
          }
        },
        {
          "output_type": "display_data",
          "data": {
            "image/png": "[encoded data removed]",
            "text/plain": [
              "<Figure size 432x288 with 1 Axes>"
            ]
          },
          "metadata": {
            "tags": [],
            "needs_background": "light"
          }
        }
      ]
    },
    {
      "cell_type": "markdown",
      "metadata": {
        "colab_type": "text",
        "id": "MnX3u9JsS2aQ"
      },
      "source": [
        "**Test**"
      ]
    },
    {
      "cell_type": "code",
      "metadata": {
        "colab_type": "code",
        "outputId": "3d19905b-372b-4811-d6ad-9ab8af9a85d6",
        "id": "3JVKZrDvS2aQ",
        "colab": {
          "base_uri": "https://localhost:8080/",
          "height": 53
        }
      },
      "source": [
        "best_net = best_net.to(DEVICE) # this will bring the network to GPU if DEVICE is cuda\n",
        "best_net.train(False) # Set Network to evaluation mode\n",
        "\n",
        "running_corrects = 0\n",
        "for images, labels in tqdm(test_dataloader):\n",
        "  images = images.to(DEVICE)\n",
        "  labels = labels.to(DEVICE)\n",
        "\n",
        "  # Forward Pass\n",
        "  outputs = best_net(images)\n",
        "\n",
        "  # Get predictions\n",
        "  _, preds = torch.max(outputs.data, 1)\n",
        "\n",
        "  # Update Corrects\n",
        "  running_corrects += torch.sum(preds == labels.data).data.item()\n",
        "\n",
        "# Calculate Accuracy\n",
        "accuracy = running_corrects / float(len(test_dataset))\n",
        "\n",
        "print('Test Accuracy: {}'.format(accuracy))"
      ],
      "execution_count": 0,
      "outputs": [
        {
          "output_type": "stream",
          "text": [
            "100%|██████████| 12/12 [00:12<00:00,  1.08s/it]"
          ],
          "name": "stderr"
        },
        {
          "output_type": "stream",
          "text": [
            "Test Accuracy: 0.7684064984445212\n"
          ],
          "name": "stdout"
        },
        {
          "output_type": "stream",
          "text": [
            "\n"
          ],
          "name": "stderr"
        }
      ]
    },
    {
      "cell_type": "markdown",
      "metadata": {
        "colab_type": "text",
        "id": "9btIAHYAS2RD"
      },
      "source": [
        "## Hyperparameter set 3 (Best performed)"
      ]
    },
    {
      "cell_type": "markdown",
      "metadata": {
        "colab_type": "text",
        "id": "JI2M5BJfS2RD"
      },
      "source": [
        "| Current hyperparameters | Value |\n",
        "| --- | --- |\n",
        "| Initial learning rate | 0.001 |\n",
        "| Decaying policy | ReduceLROnPlateau |\n",
        "| Decaying factor | 0.1 |\n",
        "| Decaying patience | 3 epochs |\n",
        "| Optimiser | SGD |\n",
        "| Epochs | 30 |\n",
        "\n"
      ]
    },
    {
      "cell_type": "markdown",
      "metadata": {
        "colab_type": "text",
        "id": "CILZq0zvS2RE"
      },
      "source": [
        "**Set Arguments**"
      ]
    },
    {
      "cell_type": "code",
      "metadata": {
        "colab_type": "code",
        "id": "ecebj-QaS2RJ",
        "colab": {}
      },
      "source": [
        "LR = 1e-3            # The initial Learning Rate\n",
        "MOMENTUM = 0.9       # Hyperparameter for SGD, keep this at 0.9 when using SGD\n",
        "WEIGHT_DECAY = 5e-5  # Regularization, you can keep this at the default\n",
        "\n",
        "NUM_EPOCHS = 30      # Total number of training epochs (iterations over dataset)\n",
        "FACTOR = 0.1         # How many epochs before decreasing learning rate (if using a step-down policy)\n",
        "PATIENCE = 3         # Multiplicative factor for learning rate step-down"
      ],
      "execution_count": 0,
      "outputs": []
    },
    {
      "cell_type": "markdown",
      "metadata": {
        "colab_type": "text",
        "id": "lZ_DgqpiS2RN"
      },
      "source": [
        "**Prepare Network**"
      ]
    },
    {
      "cell_type": "code",
      "metadata": {
        "colab_type": "code",
        "id": "qgX-7aYPS2RN",
        "colab": {}
      },
      "source": [
        "# Loading AlexNet model\n",
        "net = alexnet(pretrained=True) "
      ],
      "execution_count": 0,
      "outputs": []
    },
    {
      "cell_type": "code",
      "metadata": {
        "colab_type": "code",
        "id": "hy3RkZviS2RP",
        "colab": {}
      },
      "source": [
        "# AlexNet has 1000 output neurons, corresponding to the 1000 ImageNet's classes\n",
        "# We need 101 outputs for Caltech-101\n",
        "net.classifier[6] = nn.Linear(4096, NUM_CLASSES) # nn.Linear in pytorch is a fully connected layer\n",
        "                                                 # The convolutional layer is nn.Conv2d\n",
        "\n",
        "# We just changed the last layer of AlexNet with a new fully connected layer with 101 outputs\n",
        "# It is strongly suggested to study torchvision.models.alexnet source code"
      ],
      "execution_count": 0,
      "outputs": []
    },
    {
      "cell_type": "markdown",
      "metadata": {
        "colab_type": "text",
        "id": "4Wt1LjnUS2RR"
      },
      "source": [
        "**Prepare Training**"
      ]
    },
    {
      "cell_type": "code",
      "metadata": {
        "colab_type": "code",
        "id": "8d0Mt8q3S2RR",
        "colab": {}
      },
      "source": [
        "# Define loss function\n",
        "criterion = nn.CrossEntropyLoss() # for classification, we use Cross Entropy\n",
        "\n",
        "# Choose parameters to optimize\n",
        "# To access a different set of parameters, you have to access submodules of AlexNet\n",
        "# (nn.Module objects, like AlexNet, implement the Composite Pattern)\n",
        "# e.g.: parameters of the fully connected layers: net.classifier.parameters()\n",
        "# e.g.: parameters of the convolutional layers: look at alexnet's source code ;) \n",
        "parameters_to_optimize = net.parameters() # In this case we optimize over all the parameters of AlexNet\n",
        "\n",
        "# Define optimizer\n",
        "# An optimizer updates the weights based on loss\n",
        "# We use SGD with momentum\n",
        "optimizer = optim.SGD(parameters_to_optimize, lr=LR, momentum=MOMENTUM, weight_decay=WEIGHT_DECAY)\n",
        "\n",
        "# Define scheduler\n",
        "# A scheduler dynamically changes learning rate\n",
        "# The most common schedule is the step(-down), which multiplies learning rate by gamma every STEP_SIZE epochs\n",
        "# scheduler = optim.lr_scheduler.StepLR(optimizer, step_size=STEP_SIZE, gamma=GAMMA)\n",
        "scheduler = optim.lr_scheduler.ReduceLROnPlateau(optimizer, factor=FACTOR, patience=PATIENCE)"
      ],
      "execution_count": 0,
      "outputs": []
    },
    {
      "cell_type": "markdown",
      "metadata": {
        "colab_type": "text",
        "id": "CE0GHOXgS2RT"
      },
      "source": [
        "**Train and Validation**"
      ]
    },
    {
      "cell_type": "code",
      "metadata": {
        "colab_type": "code",
        "id": "OeovdYW5S2RT",
        "colab": {}
      },
      "source": [
        "from copy import deepcopy\n",
        "\n",
        "loss_hist = []\n",
        "acc_hist = []\n",
        "\n",
        "# By default, everything is loaded to cpu\n",
        "net = net.to(DEVICE) # this will bring the network to GPU if DEVICE is cuda\n",
        "cudnn.benchmark     # Calling this optimizes runtime\n",
        "\n",
        "current_step = 0"
      ],
      "execution_count": 0,
      "outputs": []
    },
    {
      "cell_type": "code",
      "metadata": {
        "colab_type": "code",
        "outputId": "7596a534-82da-47ad-d1bd-98630d812f62",
        "id": "bQMoxTJ-S2RV",
        "colab": {
          "base_uri": "https://localhost:8080/",
          "height": 1000
        }
      },
      "source": [
        "# Start iterating over the epochs\n",
        "for epoch in range(NUM_EPOCHS):\n",
        "    print('Starting epoch {}/{}, LR = {}'.format(epoch+1, NUM_EPOCHS, optimizer.param_groups[0]['lr']))\n",
        "\n",
        "    # Train part\n",
        "    net.train() # Sets module in training mode\n",
        "\n",
        "    # Iterate over the dataset\n",
        "    for images, labels in train_dataloader:\n",
        "        # Bring data over the device of choice\n",
        "        images = images.to(DEVICE)\n",
        "        labels = labels.to(DEVICE)\n",
        "\n",
        "        # PyTorch, by default, accumulates gradients after each backward pass\n",
        "        # We need to manually set the gradients to zero before starting a new iteration\n",
        "        optimizer.zero_grad() # Zero-ing the gradients\n",
        "\n",
        "        # Forward pass to the network\n",
        "        outputs = net(images)\n",
        "\n",
        "        # Compute loss based on output and ground truth\n",
        "        loss = criterion(outputs, labels)\n",
        "\n",
        "        # Log loss\n",
        "        if current_step % LOG_FREQUENCY == 0:\n",
        "            print('Step {}, Loss {}'.format(current_step, loss.item()))\n",
        "\n",
        "        # Compute gradients for each layer and update weights\n",
        "        loss.backward()  # backward pass: computes gradients\n",
        "        optimizer.step() # update weights based on accumulated gradients\n",
        "\n",
        "        current_step += 1\n",
        "\n",
        "    # Step the scheduler\n",
        "    scheduler.step(loss) \n",
        "\n",
        "    # Use the best model for validation\n",
        "    if not loss_hist or loss.item() < min(loss_hist):\n",
        "        best_net = deepcopy(net)\n",
        "\n",
        "    # Record loss after each epoch\n",
        "\n",
        "    # Validation part\n",
        "    best_net.train(False) # Set Network to evaluation mode\n",
        "\n",
        "    running_corrects = 0\n",
        "    with torch.no_grad():\n",
        "        for images, labels in val_dataloader:\n",
        "            images = images.to(DEVICE)\n",
        "            labels = labels.to(DEVICE)\n",
        "\n",
        "            # Forward Pass\n",
        "            outputs = best_net(images)\n",
        "\n",
        "            # Get predictions\n",
        "            _, preds = torch.max(outputs.data, 1)\n",
        "            \n",
        "            # Update Corrects\n",
        "            running_corrects += torch.sum(preds == labels.data).data.item()\n",
        "\n",
        "    # Calculate Accuracy\n",
        "    accuracy = running_corrects / float(len(val_dataset))\n",
        "    print('Accuracy {}\\n'.format(accuracy))\n",
        "\n",
        "    # Record loss and accuracy after each epoch\n",
        "    loss_hist.append(loss.item())\n",
        "    acc_hist.append(accuracy)"
      ],
      "execution_count": 0,
      "outputs": [
        {
          "output_type": "stream",
          "text": [
            "Starting epoch 1/30, LR = 0.001\n",
            "Step 0, Loss 4.855043411254883\n",
            "Step 10, Loss 3.407418966293335\n",
            "Accuracy 0.2766251728907331\n",
            "\n",
            "Starting epoch 2/30, LR = 0.001\n",
            "Step 20, Loss 2.550562620162964\n",
            "Accuracy 0.45850622406639\n",
            "\n",
            "Starting epoch 3/30, LR = 0.001\n",
            "Step 30, Loss 2.078125\n",
            "Accuracy 0.5542876901798064\n",
            "\n",
            "Starting epoch 4/30, LR = 0.001\n",
            "Step 40, Loss 1.4422149658203125\n",
            "Accuracy 0.6587136929460581\n",
            "\n",
            "Starting epoch 5/30, LR = 0.001\n",
            "Step 50, Loss 0.9714542031288147\n",
            "Accuracy 0.729253112033195\n",
            "\n",
            "Starting epoch 6/30, LR = 0.001\n",
            "Step 60, Loss 0.7547634243965149\n",
            "Accuracy 0.7690179806362379\n",
            "\n",
            "Starting epoch 7/30, LR = 0.001\n",
            "Step 70, Loss 0.49930885434150696\n",
            "Accuracy 0.7766251728907331\n",
            "\n",
            "Starting epoch 8/30, LR = 0.001\n",
            "Step 80, Loss 0.5107560157775879\n",
            "Accuracy 0.7911479944674965\n",
            "\n",
            "Starting epoch 9/30, LR = 0.001\n",
            "Step 90, Loss 0.3915749192237854\n",
            "Accuracy 0.7980636237897649\n",
            "\n",
            "Starting epoch 10/30, LR = 0.001\n",
            "Step 100, Loss 0.37049412727355957\n",
            "Accuracy 0.7939142461964038\n",
            "\n",
            "Starting epoch 11/30, LR = 0.001\n",
            "Step 110, Loss 0.24743668735027313\n",
            "Step 120, Loss 0.2842223346233368\n",
            "Accuracy 0.8115491009681881\n",
            "\n",
            "Starting epoch 12/30, LR = 0.001\n",
            "Step 130, Loss 0.2950325012207031\n",
            "Accuracy 0.8046334716459198\n",
            "\n",
            "Starting epoch 13/30, LR = 0.001\n",
            "Step 140, Loss 0.1852986216545105\n",
            "Accuracy 0.8101659751037344\n",
            "\n",
            "Starting epoch 14/30, LR = 0.001\n",
            "Step 150, Loss 0.19226418435573578\n",
            "Accuracy 0.8091286307053942\n",
            "\n",
            "Starting epoch 15/30, LR = 0.001\n",
            "Step 160, Loss 0.16920971870422363\n",
            "Accuracy 0.8101659751037344\n",
            "\n",
            "Starting epoch 16/30, LR = 0.001\n",
            "Step 170, Loss 0.19135239720344543\n",
            "Accuracy 0.8129322268326418\n",
            "\n",
            "Starting epoch 17/30, LR = 0.001\n",
            "Step 180, Loss 0.13291853666305542\n",
            "Accuracy 0.8160442600276625\n",
            "\n",
            "Starting epoch 18/30, LR = 0.001\n",
            "Step 190, Loss 0.10028086602687836\n",
            "Accuracy 0.8177731673582296\n",
            "\n",
            "Starting epoch 19/30, LR = 0.001\n",
            "Step 200, Loss 0.11648090183734894\n",
            "Accuracy 0.8118948824343015\n",
            "\n",
            "Starting epoch 20/30, LR = 0.001\n",
            "Step 210, Loss 0.12089939415454865\n",
            "Accuracy 0.8122406639004149\n",
            "\n",
            "Starting epoch 21/30, LR = 0.001\n",
            "Step 220, Loss 0.09714493155479431\n",
            "Step 230, Loss 0.13245046138763428\n",
            "Accuracy 0.8101659751037344\n",
            "\n",
            "Starting epoch 22/30, LR = 0.001\n",
            "Step 240, Loss 0.08658751845359802\n",
            "Accuracy 0.8146611341632088\n",
            "\n",
            "Starting epoch 23/30, LR = 0.0001\n",
            "Step 250, Loss 0.12742836773395538\n",
            "Accuracy 0.8170816044260027\n",
            "\n",
            "Starting epoch 24/30, LR = 0.0001\n",
            "Step 260, Loss 0.08209912478923798\n",
            "Accuracy 0.8208852005532503\n",
            "\n",
            "Starting epoch 25/30, LR = 0.0001\n",
            "Step 270, Loss 0.06882330775260925\n",
            "Accuracy 0.8219225449515906\n",
            "\n",
            "Starting epoch 26/30, LR = 0.0001\n",
            "Step 280, Loss 0.06320132315158844\n",
            "Accuracy 0.8195020746887967\n",
            "\n",
            "Starting epoch 27/30, LR = 0.0001\n",
            "Step 290, Loss 0.057267047464847565\n",
            "Accuracy 0.8205394190871369\n",
            "\n",
            "Starting epoch 28/30, LR = 1e-05\n",
            "Step 300, Loss 0.07227281481027603\n",
            "Accuracy 0.8150069156293223\n",
            "\n",
            "Starting epoch 29/30, LR = 1e-05\n",
            "Step 310, Loss 0.07626844197511673\n",
            "Accuracy 0.8201936376210235\n",
            "\n",
            "Starting epoch 30/30, LR = 1e-05\n",
            "Step 320, Loss 0.06514890491962433\n",
            "Accuracy 0.8212309820193637\n",
            "\n"
          ],
          "name": "stdout"
        }
      ]
    },
    {
      "cell_type": "code",
      "metadata": {
        "colab_type": "code",
        "id": "WYXUhzwyS2RY",
        "colab": {}
      },
      "source": [
        "import matplotlib.pyplot as plt"
      ],
      "execution_count": 0,
      "outputs": []
    },
    {
      "cell_type": "code",
      "metadata": {
        "colab_type": "code",
        "outputId": "e4b86a8a-31d9-428d-881d-f28c65624b87",
        "id": "qc625pEYS2RZ",
        "colab": {
          "base_uri": "https://localhost:8080/",
          "height": 573
        }
      },
      "source": [
        "plt.plot(loss_hist)\n",
        "plt.title('Loss VS Epochs')\n",
        "plt.xlabel('epoch')\n",
        "plt.ylabel('loss')\n",
        "plt.show()\n",
        "\n",
        "plt.plot(acc_hist)\n",
        "plt.title('Accuracy VS Epochs')\n",
        "plt.xlabel('epoch')\n",
        "plt.ylabel('accuracy')\n",
        "plt.show()"
      ],
      "execution_count": 0,
      "outputs": [
        {
          "output_type": "display_data",
          "data": {
            "image/png": "[encoded data removed]",
            "text/plain": [
              "<Figure size 432x288 with 1 Axes>"
            ]
          },
          "metadata": {
            "tags": [],
            "needs_background": "light"
          }
        },
        {
          "output_type": "display_data",
          "data": {
            "image/png": "[encoded data removed]",
            "text/plain": [
              "<Figure size 432x288 with 1 Axes>"
            ]
          },
          "metadata": {
            "tags": [],
            "needs_background": "light"
          }
        }
      ]
    },
    {
      "cell_type": "markdown",
      "metadata": {
        "colab_type": "text",
        "id": "sWxxZQZsS2Rb"
      },
      "source": [
        "**Test**"
      ]
    },
    {
      "cell_type": "code",
      "metadata": {
        "colab_type": "code",
        "outputId": "cec271a2-50e9-4004-8563-ac44d7059fd1",
        "id": "1latL4IVS2Rb",
        "colab": {
          "base_uri": "https://localhost:8080/",
          "height": 53
        }
      },
      "source": [
        "best_net = best_net.to(DEVICE) # this will bring the network to GPU if DEVICE is cuda\n",
        "best_net.train(False) # Set Network to evaluation mode\n",
        "\n",
        "running_corrects = 0\n",
        "for images, labels in tqdm(test_dataloader):\n",
        "  images = images.to(DEVICE)\n",
        "  labels = labels.to(DEVICE)\n",
        "\n",
        "  # Forward Pass\n",
        "  outputs = best_net(images)\n",
        "\n",
        "  # Get predictions\n",
        "  _, preds = torch.max(outputs.data, 1)\n",
        "\n",
        "  # Update Corrects\n",
        "  running_corrects += torch.sum(preds == labels.data).data.item()\n",
        "\n",
        "# Calculate Accuracy\n",
        "accuracy = running_corrects / float(len(test_dataset))\n",
        "\n",
        "print('Test Accuracy: {}'.format(accuracy))"
      ],
      "execution_count": 0,
      "outputs": [
        {
          "output_type": "stream",
          "text": [
            "100%|██████████| 12/12 [00:13<00:00,  1.11s/it]"
          ],
          "name": "stderr"
        },
        {
          "output_type": "stream",
          "text": [
            "Test Accuracy: 0.832353957829243\n"
          ],
          "name": "stdout"
        },
        {
          "output_type": "stream",
          "text": [
            "\n"
          ],
          "name": "stderr"
        }
      ]
    },
    {
      "cell_type": "markdown",
      "metadata": {
        "id": "OF4QcC_efV6Z",
        "colab_type": "text"
      },
      "source": [
        "### Train only the FC layers"
      ]
    },
    {
      "cell_type": "markdown",
      "metadata": {
        "colab_type": "text",
        "id": "e6yKGblLu11G"
      },
      "source": [
        "**Prepare Network**"
      ]
    },
    {
      "cell_type": "code",
      "metadata": {
        "colab_type": "code",
        "id": "uSFsyQJ0u11K",
        "colab": {
          "base_uri": "https://localhost:8080/",
          "height": 105,
          "referenced_widgets": [
            "3eed14353fc543cc969695c26c91a609",
            "f3bbb5cb4f764c84a1f2549fc6c5f2fb",
            "22621f906cf94aa1b76f43df91d6b346",
            "66bd2da7669d4d67b2060c83b8f2584b",
            "7497671943cb41cb9304199bed6e7fc3",
            "0087eea07d834608b8acd920c93ce4eb",
            "11045dd12df6433994c4779dc952905f",
            "117be925975342b284e9559c866661c6"
          ]
        },
        "outputId": "37f30b3a-f236-47ec-fd25-cd70e32c3ee4"
      },
      "source": [
        "# Loading AlexNet model\n",
        "net = alexnet(pretrained=True) "
      ],
      "execution_count": 9,
      "outputs": [
        {
          "output_type": "stream",
          "text": [
            "Downloading: \"https://download.pytorch.org/models/alexnet-owt-4df8aa71.pth\" to /root/.cache/torch/checkpoints/alexnet-owt-4df8aa71.pth\n"
          ],
          "name": "stderr"
        },
        {
          "output_type": "display_data",
          "data": {
            "application/vnd.jupyter.widget-view+json": {
              "model_id": "3eed14353fc543cc969695c26c91a609",
              "version_minor": 0,
              "version_major": 2
            },
            "text/plain": [
              "HBox(children=(FloatProgress(value=0.0, max=244418560.0), HTML(value='')))"
            ]
          },
          "metadata": {
            "tags": []
          }
        },
        {
          "output_type": "stream",
          "text": [
            "\n"
          ],
          "name": "stdout"
        }
      ]
    },
    {
      "cell_type": "code",
      "metadata": {
        "colab_type": "code",
        "id": "1MNzMkJ4u11O",
        "colab": {}
      },
      "source": [
        "# AlexNet has 1000 output neurons, corresponding to the 1000 ImageNet's classes\n",
        "# We need 101 outputs for Caltech-101\n",
        "net.classifier[6] = nn.Linear(4096, NUM_CLASSES) # nn.Linear in pytorch is a fully connected layer\n",
        "                                                 # The convolutional layer is nn.Conv2d\n",
        "\n",
        "# We just changed the last layer of AlexNet with a new fully connected layer with 101 outputs\n",
        "# It is strongly suggested to study torchvision.models.alexnet source code"
      ],
      "execution_count": 0,
      "outputs": []
    },
    {
      "cell_type": "markdown",
      "metadata": {
        "colab_type": "text",
        "id": "tIwzFVGwu11Q"
      },
      "source": [
        "**Prepare Training**"
      ]
    },
    {
      "cell_type": "code",
      "metadata": {
        "colab_type": "code",
        "id": "9fiR70bZu11Q",
        "colab": {}
      },
      "source": [
        "# Define loss function\n",
        "criterion = nn.CrossEntropyLoss() # for classification, we use Cross Entropy\n",
        "\n",
        "# Choose parameters to optimize\n",
        "# To access a different set of parameters, you have to access submodules of AlexNet\n",
        "# (nn.Module objects, like AlexNet, implement the Composite Pattern)\n",
        "# e.g.: parameters of the fully connected layers: net.classifier.parameters()\n",
        "# e.g.: parameters of the convolutional layers: look at alexnet's source code ;) \n",
        "parameters_to_optimize = net.classifier.parameters() # Train only the FC layers\n",
        "\n",
        "# Define optimizer\n",
        "# An optimizer updates the weights based on loss\n",
        "# We use SGD with momentum\n",
        "optimizer = optim.SGD(parameters_to_optimize, lr=LR, momentum=MOMENTUM, weight_decay=WEIGHT_DECAY)\n",
        "\n",
        "# Define scheduler\n",
        "# A scheduler dynamically changes learning rate\n",
        "# The most common schedule is the step(-down), which multiplies learning rate by gamma every STEP_SIZE epochs\n",
        "# scheduler = optim.lr_scheduler.StepLR(optimizer, step_size=STEP_SIZE, gamma=GAMMA)\n",
        "scheduler = optim.lr_scheduler.ReduceLROnPlateau(optimizer, factor=FACTOR, patience=PATIENCE)"
      ],
      "execution_count": 0,
      "outputs": []
    },
    {
      "cell_type": "markdown",
      "metadata": {
        "colab_type": "text",
        "id": "XgqxMwMiu11S"
      },
      "source": [
        "**Train and Validation**"
      ]
    },
    {
      "cell_type": "code",
      "metadata": {
        "colab_type": "code",
        "id": "uqe2JA0Uu11S",
        "colab": {}
      },
      "source": [
        "from copy import deepcopy\n",
        "\n",
        "loss_hist = []\n",
        "acc_hist = []\n",
        "\n",
        "# By default, everything is loaded to cpu\n",
        "net = net.to(DEVICE) # this will bring the network to GPU if DEVICE is cuda\n",
        "cudnn.benchmark     # Calling this optimizes runtime\n",
        "\n",
        "current_step = 0"
      ],
      "execution_count": 0,
      "outputs": []
    },
    {
      "cell_type": "code",
      "metadata": {
        "colab_type": "code",
        "outputId": "20689be5-d7ab-4563-cdd9-4f825f6460c7",
        "id": "5bFcLhM4u11U",
        "colab": {
          "base_uri": "https://localhost:8080/",
          "height": 1000
        }
      },
      "source": [
        "# Start iterating over the epochs\n",
        "for epoch in range(NUM_EPOCHS):\n",
        "    print('Starting epoch {}/{}, LR = {}'.format(epoch+1, NUM_EPOCHS, optimizer.param_groups[0]['lr']))\n",
        "\n",
        "    # Train part\n",
        "    net.train() # Sets module in training mode\n",
        "\n",
        "    # Iterate over the dataset\n",
        "    for images, labels in train_dataloader:\n",
        "        # Bring data over the device of choice\n",
        "        images = images.to(DEVICE)\n",
        "        labels = labels.to(DEVICE)\n",
        "\n",
        "        # PyTorch, by default, accumulates gradients after each backward pass\n",
        "        # We need to manually set the gradients to zero before starting a new iteration\n",
        "        optimizer.zero_grad() # Zero-ing the gradients\n",
        "\n",
        "        # Forward pass to the network\n",
        "        outputs = net(images)\n",
        "\n",
        "        # Compute loss based on output and ground truth\n",
        "        loss = criterion(outputs, labels)\n",
        "\n",
        "        # Log loss\n",
        "        if current_step % LOG_FREQUENCY == 0:\n",
        "            print('Step {}, Loss {}'.format(current_step, loss.item()))\n",
        "\n",
        "        # Compute gradients for each layer and update weights\n",
        "        loss.backward()  # backward pass: computes gradients\n",
        "        optimizer.step() # update weights based on accumulated gradients\n",
        "\n",
        "        current_step += 1\n",
        "\n",
        "    # Step the scheduler\n",
        "    scheduler.step(loss) \n",
        "\n",
        "    # Use the best model for validation\n",
        "    if not loss_hist or loss.item() < min(loss_hist):\n",
        "        best_net = deepcopy(net)\n",
        "\n",
        "    # Record loss after each epoch\n",
        "\n",
        "    # Validation part\n",
        "    best_net.train(False) # Set Network to evaluation mode\n",
        "\n",
        "    running_corrects = 0\n",
        "    with torch.no_grad():\n",
        "        for images, labels in val_dataloader:\n",
        "            images = images.to(DEVICE)\n",
        "            labels = labels.to(DEVICE)\n",
        "\n",
        "            # Forward Pass\n",
        "            outputs = best_net(images)\n",
        "\n",
        "            # Get predictions\n",
        "            _, preds = torch.max(outputs.data, 1)\n",
        "            \n",
        "            # Update Corrects\n",
        "            running_corrects += torch.sum(preds == labels.data).data.item()\n",
        "\n",
        "    # Calculate Accuracy\n",
        "    accuracy = running_corrects / float(len(val_dataset))\n",
        "    print('Accuracy {}\\n'.format(accuracy))\n",
        "\n",
        "    # Record loss and accuracy after each epoch\n",
        "    loss_hist.append(loss.item())\n",
        "    acc_hist.append(accuracy)"
      ],
      "execution_count": 15,
      "outputs": [
        {
          "output_type": "stream",
          "text": [
            "Starting epoch 1/30, LR = 0.001\n",
            "Step 0, Loss 4.971323490142822\n",
            "Step 10, Loss 3.460832118988037\n",
            "Accuracy 0.27074688796680496\n",
            "\n",
            "Starting epoch 2/30, LR = 0.001\n",
            "Step 20, Loss 2.492248296737671\n",
            "Accuracy 0.4581604426002766\n",
            "\n",
            "Starting epoch 3/30, LR = 0.001\n",
            "Step 30, Loss 1.8541783094406128\n",
            "Accuracy 0.5912863070539419\n",
            "\n",
            "Starting epoch 4/30, LR = 0.001\n",
            "Step 40, Loss 1.7809301614761353\n",
            "Accuracy 0.6590594744121715\n",
            "\n",
            "Starting epoch 5/30, LR = 0.001\n",
            "Step 50, Loss 1.4489717483520508\n",
            "Accuracy 0.7036652835408023\n",
            "\n",
            "Starting epoch 6/30, LR = 0.001\n",
            "Step 60, Loss 1.1981910467147827\n",
            "Accuracy 0.7375518672199171\n",
            "\n",
            "Starting epoch 7/30, LR = 0.001\n",
            "Step 70, Loss 1.0466983318328857\n",
            "Accuracy 0.7614107883817427\n",
            "\n",
            "Starting epoch 8/30, LR = 0.001\n",
            "Step 80, Loss 0.8690292239189148\n",
            "Accuracy 0.7603734439834025\n",
            "\n",
            "Starting epoch 9/30, LR = 0.001\n",
            "Step 90, Loss 0.828432023525238\n",
            "Accuracy 0.7883817427385892\n",
            "\n",
            "Starting epoch 10/30, LR = 0.001\n",
            "Step 100, Loss 0.6528757214546204\n",
            "Accuracy 0.8032503457814661\n",
            "\n",
            "Starting epoch 11/30, LR = 0.001\n",
            "Step 110, Loss 0.5462128520011902\n",
            "Step 120, Loss 0.49381011724472046\n",
            "Accuracy 0.8070539419087137\n",
            "\n",
            "Starting epoch 12/30, LR = 0.001\n",
            "Step 130, Loss 0.555424153804779\n",
            "Accuracy 0.7973720608575381\n",
            "\n",
            "Starting epoch 13/30, LR = 0.001\n",
            "Step 140, Loss 0.3976546823978424\n",
            "Accuracy 0.8143153526970954\n",
            "\n",
            "Starting epoch 14/30, LR = 0.001\n",
            "Step 150, Loss 0.45167219638824463\n",
            "Accuracy 0.8163900414937759\n",
            "\n",
            "Starting epoch 15/30, LR = 0.001\n",
            "Step 160, Loss 0.4328865110874176\n",
            "Accuracy 0.813969571230982\n",
            "\n",
            "Starting epoch 16/30, LR = 0.001\n",
            "Step 170, Loss 0.3455580770969391\n",
            "Accuracy 0.8215767634854771\n",
            "\n",
            "Starting epoch 17/30, LR = 0.001\n",
            "Step 180, Loss 0.3303541839122772\n",
            "Accuracy 0.8177731673582296\n",
            "\n",
            "Starting epoch 18/30, LR = 0.001\n",
            "Step 190, Loss 0.25489550828933716\n",
            "Accuracy 0.8243430152143845\n",
            "\n",
            "Starting epoch 19/30, LR = 0.001\n",
            "Step 200, Loss 0.2890493869781494\n",
            "Accuracy 0.8188105117565698\n",
            "\n",
            "Starting epoch 20/30, LR = 0.001\n",
            "Step 210, Loss 0.3067268133163452\n",
            "Accuracy 0.8229598893499308\n",
            "\n",
            "Starting epoch 21/30, LR = 0.001\n",
            "Step 220, Loss 0.39518964290618896\n",
            "Step 230, Loss 0.3111763894557953\n",
            "Accuracy 0.8188105117565698\n",
            "\n",
            "Starting epoch 22/30, LR = 0.001\n",
            "Step 240, Loss 0.29169344902038574\n",
            "Accuracy 0.8274550484094052\n",
            "\n",
            "Starting epoch 23/30, LR = 0.001\n",
            "Step 250, Loss 0.21297362446784973\n",
            "Accuracy 0.8233056708160442\n",
            "\n",
            "Starting epoch 24/30, LR = 0.001\n",
            "Step 260, Loss 0.18863332271575928\n",
            "Accuracy 0.826417704011065\n",
            "\n",
            "Starting epoch 25/30, LR = 0.001\n",
            "Step 270, Loss 0.22979861497879028\n",
            "Accuracy 0.8312586445366529\n",
            "\n",
            "Starting epoch 26/30, LR = 0.001\n",
            "Step 280, Loss 0.1993895322084427\n",
            "Accuracy 0.8219225449515906\n",
            "\n",
            "Starting epoch 27/30, LR = 0.001\n",
            "Step 290, Loss 0.21378758549690247\n",
            "Accuracy 0.8278008298755186\n",
            "\n",
            "Starting epoch 28/30, LR = 0.001\n",
            "Step 300, Loss 0.23320314288139343\n",
            "Accuracy 0.8343706777316736\n",
            "\n",
            "Starting epoch 29/30, LR = 0.001\n",
            "Step 310, Loss 0.22260697185993195\n",
            "Accuracy 0.8319502074688797\n",
            "\n",
            "Starting epoch 30/30, LR = 0.001\n",
            "Step 320, Loss 0.19184347987174988\n",
            "Accuracy 0.8322959889349931\n",
            "\n"
          ],
          "name": "stdout"
        }
      ]
    },
    {
      "cell_type": "code",
      "metadata": {
        "colab_type": "code",
        "id": "J1cSVqqKu11W",
        "colab": {}
      },
      "source": [
        "import matplotlib.pyplot as plt"
      ],
      "execution_count": 0,
      "outputs": []
    },
    {
      "cell_type": "code",
      "metadata": {
        "colab_type": "code",
        "outputId": "11ee00ea-28a2-48d1-b927-4f5bb0b36f8b",
        "id": "x6NVHtehu11X",
        "colab": {
          "base_uri": "https://localhost:8080/",
          "height": 573
        }
      },
      "source": [
        "plt.plot(loss_hist)\n",
        "plt.title('Loss VS Epochs')\n",
        "plt.xlabel('epoch')\n",
        "plt.ylabel('loss')\n",
        "plt.show()\n",
        "\n",
        "plt.plot(acc_hist)\n",
        "plt.title('Accuracy VS Epochs')\n",
        "plt.xlabel('epoch')\n",
        "plt.ylabel('accuracy')\n",
        "plt.show()"
      ],
      "execution_count": 17,
      "outputs": [
        {
          "output_type": "display_data",
          "data": {
            "image/png": "[encoded data removed]",
            "text/plain": [
              "<Figure size 432x288 with 1 Axes>"
            ]
          },
          "metadata": {
            "tags": [],
            "needs_background": "light"
          }
        },
        {
          "output_type": "display_data",
          "data": {
            "image/png": "[encoded data removed]",
            "text/plain": [
              "<Figure size 432x288 with 1 Axes>"
            ]
          },
          "metadata": {
            "tags": [],
            "needs_background": "light"
          }
        }
      ]
    },
    {
      "cell_type": "markdown",
      "metadata": {
        "colab_type": "text",
        "id": "rnWF3Bfeu11a"
      },
      "source": [
        "**Test**"
      ]
    },
    {
      "cell_type": "code",
      "metadata": {
        "colab_type": "code",
        "outputId": "07d7ac02-ab5b-4977-eefa-cf2cf4020623",
        "id": "rMHxPWMSu11a",
        "colab": {
          "base_uri": "https://localhost:8080/",
          "height": 53
        }
      },
      "source": [
        "best_net = best_net.to(DEVICE) # this will bring the network to GPU if DEVICE is cuda\n",
        "best_net.train(False) # Set Network to evaluation mode\n",
        "\n",
        "running_corrects = 0\n",
        "for images, labels in tqdm(test_dataloader):\n",
        "  images = images.to(DEVICE)\n",
        "  labels = labels.to(DEVICE)\n",
        "\n",
        "  # Forward Pass\n",
        "  outputs = best_net(images)\n",
        "\n",
        "  # Get predictions\n",
        "  _, preds = torch.max(outputs.data, 1)\n",
        "\n",
        "  # Update Corrects\n",
        "  running_corrects += torch.sum(preds == labels.data).data.item()\n",
        "\n",
        "# Calculate Accuracy\n",
        "accuracy = running_corrects / float(len(test_dataset))\n",
        "\n",
        "print('Test Accuracy: {}'.format(accuracy))"
      ],
      "execution_count": 18,
      "outputs": [
        {
          "output_type": "stream",
          "text": [
            "100%|██████████| 12/12 [00:12<00:00,  1.03s/it]"
          ],
          "name": "stderr"
        },
        {
          "output_type": "stream",
          "text": [
            "Test Accuracy: 0.8354649153128241\n"
          ],
          "name": "stdout"
        },
        {
          "output_type": "stream",
          "text": [
            "\n"
          ],
          "name": "stderr"
        }
      ]
    },
    {
      "cell_type": "markdown",
      "metadata": {
        "id": "nxqCcbLAfZLw",
        "colab_type": "text"
      },
      "source": [
        "### Train only the Conv layers"
      ]
    },
    {
      "cell_type": "markdown",
      "metadata": {
        "colab_type": "text",
        "id": "u1-C2T-qu2xu"
      },
      "source": [
        "**Prepare Network**"
      ]
    },
    {
      "cell_type": "code",
      "metadata": {
        "colab_type": "code",
        "id": "SdCFVPsCu2xu",
        "colab": {}
      },
      "source": [
        "# Loading AlexNet model\n",
        "net = alexnet(pretrained=True) "
      ],
      "execution_count": 0,
      "outputs": []
    },
    {
      "cell_type": "code",
      "metadata": {
        "colab_type": "code",
        "id": "1SxOc9sxu2xw",
        "colab": {}
      },
      "source": [
        "# AlexNet has 1000 output neurons, corresponding to the 1000 ImageNet's classes\n",
        "# We need 101 outputs for Caltech-101\n",
        "net.classifier[6] = nn.Linear(4096, NUM_CLASSES) # nn.Linear in pytorch is a fully connected layer\n",
        "                                                 # The convolutional layer is nn.Conv2d\n",
        "\n",
        "# We just changed the last layer of AlexNet with a new fully connected layer with 101 outputs\n",
        "# It is strongly suggested to study torchvision.models.alexnet source code"
      ],
      "execution_count": 0,
      "outputs": []
    },
    {
      "cell_type": "markdown",
      "metadata": {
        "colab_type": "text",
        "id": "V0Eia7jku2xy"
      },
      "source": [
        "**Prepare Training**"
      ]
    },
    {
      "cell_type": "code",
      "metadata": {
        "colab_type": "code",
        "id": "DfuJOqFxu2xy",
        "colab": {}
      },
      "source": [
        "# Define loss function\n",
        "criterion = nn.CrossEntropyLoss() # for classification, we use Cross Entropy\n",
        "\n",
        "# Choose parameters to optimize\n",
        "# To access a different set of parameters, you have to access submodules of AlexNet\n",
        "# (nn.Module objects, like AlexNet, implement the Composite Pattern)\n",
        "# e.g.: parameters of the fully connected layers: net.classifier.parameters()\n",
        "# e.g.: parameters of the convolutional layers: look at alexnet's source code ;) \n",
        "parameters_to_optimize = net.features.parameters() # Train only the Conv layers\n",
        "\n",
        "# Define optimizer\n",
        "# An optimizer updates the weights based on loss\n",
        "# We use SGD with momentum\n",
        "optimizer = optim.SGD(parameters_to_optimize, lr=LR, momentum=MOMENTUM, weight_decay=WEIGHT_DECAY)\n",
        "\n",
        "# Define scheduler\n",
        "# A scheduler dynamically changes learning rate\n",
        "# The most common schedule is the step(-down), which multiplies learning rate by gamma every STEP_SIZE epochs\n",
        "# scheduler = optim.lr_scheduler.StepLR(optimizer, step_size=STEP_SIZE, gamma=GAMMA)\n",
        "scheduler = optim.lr_scheduler.ReduceLROnPlateau(optimizer, factor=FACTOR, patience=PATIENCE)"
      ],
      "execution_count": 0,
      "outputs": []
    },
    {
      "cell_type": "markdown",
      "metadata": {
        "colab_type": "text",
        "id": "yoG9nC5Bu2xz"
      },
      "source": [
        "**Train and Validation**"
      ]
    },
    {
      "cell_type": "code",
      "metadata": {
        "colab_type": "code",
        "id": "M2dsqriuu2xz",
        "colab": {}
      },
      "source": [
        "from copy import deepcopy\n",
        "\n",
        "loss_hist = []\n",
        "acc_hist = []\n",
        "\n",
        "# By default, everything is loaded to cpu\n",
        "net = net.to(DEVICE) # this will bring the network to GPU if DEVICE is cuda\n",
        "cudnn.benchmark     # Calling this optimizes runtime\n",
        "\n",
        "current_step = 0"
      ],
      "execution_count": 0,
      "outputs": []
    },
    {
      "cell_type": "code",
      "metadata": {
        "colab_type": "code",
        "outputId": "28c09560-1300-497c-912a-fd414d75008f",
        "id": "z6cPfX-2u2x1",
        "colab": {
          "base_uri": "https://localhost:8080/",
          "height": 1000
        }
      },
      "source": [
        "# Start iterating over the epochs\n",
        "for epoch in range(NUM_EPOCHS):\n",
        "    print('Starting epoch {}/{}, LR = {}'.format(epoch+1, NUM_EPOCHS, optimizer.param_groups[0]['lr']))\n",
        "\n",
        "    # Train part\n",
        "    net.train() # Sets module in training mode\n",
        "\n",
        "    # Iterate over the dataset\n",
        "    for images, labels in train_dataloader:\n",
        "        # Bring data over the device of choice\n",
        "        images = images.to(DEVICE)\n",
        "        labels = labels.to(DEVICE)\n",
        "\n",
        "        # PyTorch, by default, accumulates gradients after each backward pass\n",
        "        # We need to manually set the gradients to zero before starting a new iteration\n",
        "        optimizer.zero_grad() # Zero-ing the gradients\n",
        "\n",
        "        # Forward pass to the network\n",
        "        outputs = net(images)\n",
        "\n",
        "        # Compute loss based on output and ground truth\n",
        "        loss = criterion(outputs, labels)\n",
        "\n",
        "        # Log loss\n",
        "        if current_step % LOG_FREQUENCY == 0:\n",
        "            print('Step {}, Loss {}'.format(current_step, loss.item()))\n",
        "\n",
        "        # Compute gradients for each layer and update weights\n",
        "        loss.backward()  # backward pass: computes gradients\n",
        "        optimizer.step() # update weights based on accumulated gradients\n",
        "\n",
        "        current_step += 1\n",
        "\n",
        "    # Step the scheduler\n",
        "    scheduler.step(loss) \n",
        "\n",
        "    # Use the best model for validation\n",
        "    if not loss_hist or loss.item() < min(loss_hist):\n",
        "        best_net = deepcopy(net)\n",
        "\n",
        "    # Record loss after each epoch\n",
        "\n",
        "    # Validation part\n",
        "    best_net.train(False) # Set Network to evaluation mode\n",
        "\n",
        "    running_corrects = 0\n",
        "    with torch.no_grad():\n",
        "        for images, labels in val_dataloader:\n",
        "            images = images.to(DEVICE)\n",
        "            labels = labels.to(DEVICE)\n",
        "\n",
        "            # Forward Pass\n",
        "            outputs = best_net(images)\n",
        "\n",
        "            # Get predictions\n",
        "            _, preds = torch.max(outputs.data, 1)\n",
        "            \n",
        "            # Update Corrects\n",
        "            running_corrects += torch.sum(preds == labels.data).data.item()\n",
        "\n",
        "    # Calculate Accuracy\n",
        "    accuracy = running_corrects / float(len(val_dataset))\n",
        "    print('Accuracy {}\\n'.format(accuracy))\n",
        "\n",
        "    # Record loss and accuracy after each epoch\n",
        "    loss_hist.append(loss.item())\n",
        "    acc_hist.append(accuracy)"
      ],
      "execution_count": 23,
      "outputs": [
        {
          "output_type": "stream",
          "text": [
            "Starting epoch 1/30, LR = 0.001\n",
            "Step 0, Loss 4.892725467681885\n",
            "Step 10, Loss 4.698026657104492\n",
            "Accuracy 0.025242047026279392\n",
            "\n",
            "Starting epoch 2/30, LR = 0.001\n",
            "Step 20, Loss 4.592747211456299\n",
            "Accuracy 0.08782849239280774\n",
            "\n",
            "Starting epoch 3/30, LR = 0.001\n",
            "Step 30, Loss 4.462285041809082\n",
            "Accuracy 0.15767634854771784\n",
            "\n",
            "Starting epoch 4/30, LR = 0.001\n",
            "Step 40, Loss 4.277307033538818\n",
            "Accuracy 0.1718533886583679\n",
            "\n",
            "Starting epoch 5/30, LR = 0.001\n",
            "Step 50, Loss 4.24069881439209\n",
            "Accuracy 0.19674965421853388\n",
            "\n",
            "Starting epoch 6/30, LR = 0.001\n",
            "Step 60, Loss 4.301409721374512\n",
            "Accuracy 0.19605809128630705\n",
            "\n",
            "Starting epoch 7/30, LR = 0.001\n",
            "Step 70, Loss 3.9903430938720703\n",
            "Accuracy 0.21922544951590595\n",
            "\n",
            "Starting epoch 8/30, LR = 0.001\n",
            "Step 80, Loss 3.983015775680542\n",
            "Accuracy 0.23824343015214383\n",
            "\n",
            "Starting epoch 9/30, LR = 0.001\n",
            "Step 90, Loss 3.70906662940979\n",
            "Accuracy 0.24619640387275243\n",
            "\n",
            "Starting epoch 10/30, LR = 0.001\n",
            "Step 100, Loss 3.602170705795288\n",
            "Accuracy 0.254149377593361\n",
            "\n",
            "Starting epoch 11/30, LR = 0.001\n",
            "Step 110, Loss 3.8056581020355225\n",
            "Step 120, Loss 3.830660820007324\n",
            "Accuracy 0.2548409405255878\n",
            "\n",
            "Starting epoch 12/30, LR = 0.001\n",
            "Step 130, Loss 3.4620144367218018\n",
            "Accuracy 0.2551867219917012\n",
            "\n",
            "Starting epoch 13/30, LR = 0.001\n",
            "Step 140, Loss 3.4786202907562256\n",
            "Accuracy 0.2603734439834025\n",
            "\n",
            "Starting epoch 14/30, LR = 0.001\n",
            "Step 150, Loss 3.6299960613250732\n",
            "Accuracy 0.27593360995850624\n",
            "\n",
            "Starting epoch 15/30, LR = 0.001\n",
            "Step 160, Loss 3.6029927730560303\n",
            "Accuracy 0.28077455048409405\n",
            "\n",
            "Starting epoch 16/30, LR = 0.001\n",
            "Step 170, Loss 3.5696797370910645\n",
            "Accuracy 0.28907330567081607\n",
            "\n",
            "Starting epoch 17/30, LR = 0.001\n",
            "Step 180, Loss 3.439121961593628\n",
            "Accuracy 0.2963347164591978\n",
            "\n",
            "Starting epoch 18/30, LR = 0.001\n",
            "Step 190, Loss 3.2199840545654297\n",
            "Accuracy 0.2946058091286307\n",
            "\n",
            "Starting epoch 19/30, LR = 0.001\n",
            "Step 200, Loss 3.259688377380371\n",
            "Accuracy 0.2939142461964039\n",
            "\n",
            "Starting epoch 20/30, LR = 0.001\n",
            "Step 210, Loss 3.4476044178009033\n",
            "Accuracy 0.29737206085753803\n",
            "\n",
            "Starting epoch 21/30, LR = 0.001\n",
            "Step 220, Loss 3.1319124698638916\n",
            "Step 230, Loss 3.1772191524505615\n",
            "Accuracy 0.3132780082987552\n",
            "\n",
            "Starting epoch 22/30, LR = 0.001\n",
            "Step 240, Loss 3.2966439723968506\n",
            "Accuracy 0.31051175656984786\n",
            "\n",
            "Starting epoch 23/30, LR = 0.001\n",
            "Step 250, Loss 3.3398351669311523\n",
            "Accuracy 0.31673582295988933\n",
            "\n",
            "Starting epoch 24/30, LR = 0.001\n",
            "Step 260, Loss 3.4198522567749023\n",
            "Accuracy 0.31431535269709543\n",
            "\n",
            "Starting epoch 25/30, LR = 0.001\n",
            "Step 270, Loss 3.081753730773926\n",
            "Accuracy 0.32745504840940526\n",
            "\n",
            "Starting epoch 26/30, LR = 0.001\n",
            "Step 280, Loss 3.197932243347168\n",
            "Accuracy 0.32538035961272477\n",
            "\n",
            "Starting epoch 27/30, LR = 0.001\n",
            "Step 290, Loss 3.4586732387542725\n",
            "Accuracy 0.3329875518672199\n",
            "\n",
            "Starting epoch 28/30, LR = 0.001\n",
            "Step 300, Loss 3.18365478515625\n",
            "Accuracy 0.3360995850622407\n",
            "\n",
            "Starting epoch 29/30, LR = 0.001\n",
            "Step 310, Loss 3.2929675579071045\n",
            "Accuracy 0.330567081604426\n",
            "\n",
            "Starting epoch 30/30, LR = 0.001\n",
            "Step 320, Loss 3.1805644035339355\n",
            "Accuracy 0.330567081604426\n",
            "\n"
          ],
          "name": "stdout"
        }
      ]
    },
    {
      "cell_type": "code",
      "metadata": {
        "colab_type": "code",
        "id": "36Q8whauu2x2",
        "colab": {}
      },
      "source": [
        "import matplotlib.pyplot as plt"
      ],
      "execution_count": 0,
      "outputs": []
    },
    {
      "cell_type": "code",
      "metadata": {
        "colab_type": "code",
        "outputId": "76476a01-ff6b-497e-b21d-742969b42aec",
        "id": "kvLZKKrdu2x4",
        "colab": {
          "base_uri": "https://localhost:8080/",
          "height": 573
        }
      },
      "source": [
        "plt.plot(loss_hist)\n",
        "plt.title('Loss VS Epochs')\n",
        "plt.xlabel('epoch')\n",
        "plt.ylabel('loss')\n",
        "plt.show()\n",
        "\n",
        "plt.plot(acc_hist)\n",
        "plt.title('Accuracy VS Epochs')\n",
        "plt.xlabel('epoch')\n",
        "plt.ylabel('accuracy')\n",
        "plt.show()"
      ],
      "execution_count": 25,
      "outputs": [
        {
          "output_type": "display_data",
          "data": {
            "image/png": "[encoded data removed]",
            "text/plain": [
              "<Figure size 432x288 with 1 Axes>"
            ]
          },
          "metadata": {
            "tags": [],
            "needs_background": "light"
          }
        },
        {
          "output_type": "display_data",
          "data": {
            "image/png": "[encoded data removed]",
            "text/plain": [
              "<Figure size 432x288 with 1 Axes>"
            ]
          },
          "metadata": {
            "tags": [],
            "needs_background": "light"
          }
        }
      ]
    },
    {
      "cell_type": "markdown",
      "metadata": {
        "colab_type": "text",
        "id": "jx-vgkUju2x5"
      },
      "source": [
        "**Test**"
      ]
    },
    {
      "cell_type": "code",
      "metadata": {
        "colab_type": "code",
        "outputId": "a50c5232-73fd-4192-b9d5-bd9166eee7c5",
        "id": "efCpbZRBu2x6",
        "colab": {
          "base_uri": "https://localhost:8080/",
          "height": 53
        }
      },
      "source": [
        "best_net = best_net.to(DEVICE) # this will bring the network to GPU if DEVICE is cuda\n",
        "best_net.train(False) # Set Network to evaluation mode\n",
        "\n",
        "running_corrects = 0\n",
        "for images, labels in tqdm(test_dataloader):\n",
        "  images = images.to(DEVICE)\n",
        "  labels = labels.to(DEVICE)\n",
        "\n",
        "  # Forward Pass\n",
        "  outputs = best_net(images)\n",
        "\n",
        "  # Get predictions\n",
        "  _, preds = torch.max(outputs.data, 1)\n",
        "\n",
        "  # Update Corrects\n",
        "  running_corrects += torch.sum(preds == labels.data).data.item()\n",
        "\n",
        "# Calculate Accuracy\n",
        "accuracy = running_corrects / float(len(test_dataset))\n",
        "\n",
        "print('Test Accuracy: {}'.format(accuracy))"
      ],
      "execution_count": 26,
      "outputs": [
        {
          "output_type": "stream",
          "text": [
            "100%|██████████| 12/12 [00:12<00:00,  1.01s/it]"
          ],
          "name": "stderr"
        },
        {
          "output_type": "stream",
          "text": [
            "Test Accuracy: 0.3328724507431732\n"
          ],
          "name": "stdout"
        },
        {
          "output_type": "stream",
          "text": [
            "\n"
          ],
          "name": "stderr"
        }
      ]
    },
    {
      "cell_type": "markdown",
      "metadata": {
        "id": "HJ-kQeX87T84",
        "colab_type": "text"
      },
      "source": [
        "# Use ResNet"
      ]
    },
    {
      "cell_type": "markdown",
      "metadata": {
        "colab_type": "text",
        "id": "R8EegWZsV2k8"
      },
      "source": [
        "**Import libraries**"
      ]
    },
    {
      "cell_type": "code",
      "metadata": {
        "colab_type": "code",
        "id": "TTWRlUyhV2k-",
        "colab": {}
      },
      "source": [
        "import os\n",
        "import logging\n",
        "\n",
        "import torch\n",
        "import torch.nn as nn\n",
        "import torch.optim as optim\n",
        "from torch.utils.data import Subset, DataLoader\n",
        "from torch.backends import cudnn\n",
        "\n",
        "import torchvision\n",
        "from torchvision import transforms\n",
        "from torchvision.models import alexnet\n",
        "\n",
        "from PIL import Image\n",
        "from tqdm import tqdm"
      ],
      "execution_count": 0,
      "outputs": []
    },
    {
      "cell_type": "markdown",
      "metadata": {
        "colab_type": "text",
        "id": "u_nKlpkx7kPa"
      },
      "source": [
        "**Set Arguments**"
      ]
    },
    {
      "cell_type": "code",
      "metadata": {
        "colab_type": "code",
        "id": "85xZXrk27kPc",
        "colab": {}
      },
      "source": [
        "DEVICE = 'cuda' # 'cuda' or 'cpu'\n",
        "\n",
        "NUM_CLASSES = 102 # 101 + 1: There is an extra Background class that should be removed \n",
        "\n",
        "BATCH_SIZE = 256     # Higher batch sizes allows for larger learning rates. An empirical heuristic suggests that, when changing\n",
        "                     # the batch size, learning rate should change by the same factor to have comparable results\n",
        "\n",
        "LOG_FREQUENCY = 10"
      ],
      "execution_count": 0,
      "outputs": []
    },
    {
      "cell_type": "code",
      "metadata": {
        "colab_type": "code",
        "id": "evTyN7RnXmQz",
        "colab": {}
      },
      "source": [
        "LR = 1e-3            # The initial Learning Rate\n",
        "MOMENTUM = 0.9       # Hyperparameter for SGD, keep this at 0.9 when using SGD\n",
        "WEIGHT_DECAY = 5e-5  # Regularization, you can keep this at the default\n",
        "\n",
        "NUM_EPOCHS = 30      # Total number of training epochs (iterations over dataset)\n",
        "FACTOR = 0.1         # How many epochs before decreasing learning rate (if using a step-down policy)\n",
        "PATIENCE = 3         # Multiplicative factor for learning rate step-down"
      ],
      "execution_count": 0,
      "outputs": []
    },
    {
      "cell_type": "markdown",
      "metadata": {
        "colab_type": "text",
        "id": "_PSD1p967kPe"
      },
      "source": [
        "**Define Data Preprocessing**"
      ]
    },
    {
      "cell_type": "code",
      "metadata": {
        "colab_type": "code",
        "id": "m4JX4FXA7kPe",
        "colab": {}
      },
      "source": [
        "train_transform = transforms.Compose([transforms.Resize(256),      # Resizes short size of the PIL image to 256\n",
        "                                      transforms.RandomCrop(224),  # Data Augmentation\n",
        "                                      transforms.RandomHorizontalFlip(),    # Data Augmentation\n",
        "                                      transforms.ColorJitter(),    # Data Augmentation\n",
        "                                      transforms.ToTensor(),       # Turn PIL Image to torch.Tensor\n",
        "                                      transforms.Normalize([0.485, 0.456, 0.406], [0.229, 0.224, 0.225]) # Normalizes with mean and standard deviation of ImageNet\n",
        "])\n",
        "\n",
        "eval_transform = transforms.Compose([transforms.Resize(256),      # Resizes short size of the PIL image to 256\n",
        "                                      transforms.CenterCrop(224),  # Crops a central square patch of the image\n",
        "                                                                   # 224 because torchvision's AlexNet needs a 224x224 input!\n",
        "                                                                   # Remember this when applying different transformations, otherwise you get an error\n",
        "                                      transforms.ToTensor(),       # Turn PIL Image to torch.Tensor\n",
        "                                      transforms.Normalize([0.485, 0.456, 0.406], [0.229, 0.224, 0.225]) # Normalizes with mean and standard deviation of ImageNet\n",
        "])"
      ],
      "execution_count": 0,
      "outputs": []
    },
    {
      "cell_type": "markdown",
      "metadata": {
        "colab_type": "text",
        "id": "rACwrZzQ7kPh"
      },
      "source": [
        "**Prepare Dataset**"
      ]
    },
    {
      "cell_type": "code",
      "metadata": {
        "colab_type": "code",
        "outputId": "a6e71051-f5ba-4c88-e6ac-88755236ac5a",
        "id": "-gF6Z5Ph7kPh",
        "colab": {
          "base_uri": "https://localhost:8080/",
          "height": 161
        }
      },
      "source": [
        "# Clone github repository with data\n",
        "if not os.path.isdir('./Caltech101'):\n",
        "#   !git clone https://github.com/MachineLearning2020/Homework2-Caltech101.git\n",
        "    !git clone https://github.com/Barrel-Titor/Homework2-Caltech101.git\n",
        "    !mv 'Homework2-Caltech101' 'Caltech101'\n",
        "\n",
        "DATA_DIR = 'Caltech101/101_ObjectCategories'"
      ],
      "execution_count": 4,
      "outputs": [
        {
          "output_type": "stream",
          "text": [
            "Cloning into 'Homework2-Caltech101'...\n",
            "remote: Enumerating objects: 9, done.\u001b[K\n",
            "remote: Counting objects: 100% (9/9), done.\u001b[K\n",
            "remote: Compressing objects: 100% (7/7), done.\u001b[K\n",
            "remote: Total 9265 (delta 4), reused 7 (delta 2), pack-reused 9256\u001b[K\n",
            "Receiving objects: 100% (9265/9265), 129.48 MiB | 13.75 MiB/s, done.\n",
            "Resolving deltas: 100% (8/8), done.\n",
            "Checking out files: 100% (9149/9149), done.\n"
          ],
          "name": "stdout"
        }
      ]
    },
    {
      "cell_type": "code",
      "metadata": {
        "colab_type": "code",
        "outputId": "afb97dee-4b04-4547-c64a-5aa5c4aa45a4",
        "id": "cYot2Q807kPj",
        "colab": {
          "base_uri": "https://localhost:8080/",
          "height": 71
        }
      },
      "source": [
        "from Caltech101.caltech_dataset import Caltech\n",
        "\n",
        "# Prepare Pytorch train/test Datasets\n",
        "train_val_dataset = Caltech(DATA_DIR, split='train',  transform=train_transform)\n",
        "test_dataset = Caltech(DATA_DIR, split='test', transform=eval_transform)\n",
        "\n",
        "train_indexes = list(range(0, len(train_val_dataset), 2))   # split the indices for your train split\n",
        "val_indexes = list(range(1, len(train_val_dataset), 2))     # split the indices for your val split\n",
        "\n",
        "train_dataset = Subset(train_val_dataset, train_indexes)\n",
        "val_dataset = Subset(train_val_dataset, val_indexes)\n",
        "\n",
        "# Check dataset sizes\n",
        "print('Train Dataset: {}'.format(len(train_dataset)))\n",
        "print('Valid Dataset: {}'.format(len(val_dataset)))\n",
        "print('Test Dataset: {}'.format(len(test_dataset)))"
      ],
      "execution_count": 5,
      "outputs": [
        {
          "output_type": "stream",
          "text": [
            "Train Dataset: 2892\n",
            "Valid Dataset: 2892\n",
            "Test Dataset: 2893\n"
          ],
          "name": "stdout"
        }
      ]
    },
    {
      "cell_type": "markdown",
      "metadata": {
        "colab_type": "text",
        "id": "YHDMOtfa7kPl"
      },
      "source": [
        "**Prepare Dataloaders**"
      ]
    },
    {
      "cell_type": "code",
      "metadata": {
        "colab_type": "code",
        "id": "GrBBR8vs7kPl",
        "colab": {}
      },
      "source": [
        "# Dataloaders iterate over pytorch datasets and transparently provide useful functions (e.g. parallelization and shuffling)\n",
        "train_dataloader = DataLoader(train_dataset, batch_size=BATCH_SIZE, shuffle=True, num_workers=4, drop_last=True)\n",
        "val_dataloader = DataLoader(val_dataset, batch_size=BATCH_SIZE, shuffle=False, num_workers=4)\n",
        "test_dataloader = DataLoader(test_dataset, batch_size=BATCH_SIZE, shuffle=False, num_workers=4)"
      ],
      "execution_count": 0,
      "outputs": []
    },
    {
      "cell_type": "markdown",
      "metadata": {
        "colab_type": "text",
        "id": "0wVSn_nQ74Da"
      },
      "source": [
        "**Prepare Network**"
      ]
    },
    {
      "cell_type": "code",
      "metadata": {
        "id": "3DCe5Esy8LtB",
        "colab_type": "code",
        "colab": {}
      },
      "source": [
        "from torchvision.models import resnet18"
      ],
      "execution_count": 0,
      "outputs": []
    },
    {
      "cell_type": "code",
      "metadata": {
        "colab_type": "code",
        "outputId": "4694fa6f-d041-4cea-85fa-888255e4baee",
        "id": "MBZsIssC74Dc",
        "colab": {
          "base_uri": "https://localhost:8080/",
          "height": 105,
          "referenced_widgets": [
            "df82f0846e5749d5b728065ffc5e6c30",
            "1f381177dd304d5eb30bbd50db323a43",
            "4d8c2ef0132a48c0a0c5fa2867d671ab",
            "21213e2f232441d5859cc6f46700dae6",
            "1493f23fc40f46ad8e00a92c83fadd90",
            "8a68950773db44c9883d3494e8234a58",
            "070933d34c98426c941b96828d9e3880",
            "6771023d01b549059ba12fd79c274f66"
          ]
        }
      },
      "source": [
        "# Loading AlexNet model\n",
        "net = resnet18(pretrained=True) "
      ],
      "execution_count": 8,
      "outputs": [
        {
          "output_type": "stream",
          "text": [
            "Downloading: \"https://download.pytorch.org/models/resnet18-5c106cde.pth\" to /root/.cache/torch/checkpoints/resnet18-5c106cde.pth\n"
          ],
          "name": "stderr"
        },
        {
          "output_type": "display_data",
          "data": {
            "application/vnd.jupyter.widget-view+json": {
              "model_id": "df82f0846e5749d5b728065ffc5e6c30",
              "version_minor": 0,
              "version_major": 2
            },
            "text/plain": [
              "HBox(children=(FloatProgress(value=0.0, max=46827520.0), HTML(value='')))"
            ]
          },
          "metadata": {
            "tags": []
          }
        },
        {
          "output_type": "stream",
          "text": [
            "\n"
          ],
          "name": "stdout"
        }
      ]
    },
    {
      "cell_type": "code",
      "metadata": {
        "colab_type": "code",
        "id": "pdiufls074Df",
        "colab": {}
      },
      "source": [
        "# We need 101 outputs for Caltech-101\n",
        "num_ftrs = net.fc.in_features\n",
        "net.fc = nn.Linear(num_ftrs, NUM_CLASSES) # nn.Linear in pytorch is a fully connected layer\n",
        "                                                 # The convolutional layer is nn.Conv2d\n",
        "\n",
        "# We just changed the last layer of AlexNet with a new fully connected layer with 101 outputs\n",
        "# It is strongly suggested to study torchvision.models.alexnet source code"
      ],
      "execution_count": 0,
      "outputs": []
    },
    {
      "cell_type": "markdown",
      "metadata": {
        "colab_type": "text",
        "id": "zgIKULOW74Dg"
      },
      "source": [
        "**Prepare Training**"
      ]
    },
    {
      "cell_type": "code",
      "metadata": {
        "colab_type": "code",
        "id": "f6Wso2qq74Dh",
        "colab": {}
      },
      "source": [
        "# Define loss function\n",
        "criterion = nn.CrossEntropyLoss() # for classification, we use Cross Entropy\n",
        "\n",
        "# Choose parameters to optimize\n",
        "# To access a different set of parameters, you have to access submodules of AlexNet\n",
        "# (nn.Module objects, like AlexNet, implement the Composite Pattern)\n",
        "# e.g.: parameters of the fully connected layers: net.classifier.parameters()\n",
        "# e.g.: parameters of the convolutional layers: look at alexnet's source code ;) \n",
        "parameters_to_optimize = net.fc.parameters() # Train only the FC layers\n",
        "\n",
        "# Define optimizer\n",
        "# An optimizer updates the weights based on loss\n",
        "# We use SGD with momentum\n",
        "optimizer = optim.SGD(parameters_to_optimize, lr=LR, momentum=MOMENTUM, weight_decay=WEIGHT_DECAY)\n",
        "\n",
        "# Define scheduler\n",
        "# A scheduler dynamically changes learning rate\n",
        "# The most common schedule is the step(-down), which multiplies learning rate by gamma every STEP_SIZE epochs\n",
        "# scheduler = optim.lr_scheduler.StepLR(optimizer, step_size=STEP_SIZE, gamma=GAMMA)\n",
        "scheduler = optim.lr_scheduler.ReduceLROnPlateau(optimizer, factor=FACTOR, patience=PATIENCE)"
      ],
      "execution_count": 0,
      "outputs": []
    },
    {
      "cell_type": "markdown",
      "metadata": {
        "colab_type": "text",
        "id": "Oti0eUh874Di"
      },
      "source": [
        "**Train and Validation**"
      ]
    },
    {
      "cell_type": "code",
      "metadata": {
        "colab_type": "code",
        "id": "9j4uIhqw74Di",
        "colab": {}
      },
      "source": [
        "from copy import deepcopy\n",
        "\n",
        "loss_hist = []\n",
        "acc_hist = []\n",
        "\n",
        "# By default, everything is loaded to cpu\n",
        "net = net.to(DEVICE) # this will bring the network to GPU if DEVICE is cuda\n",
        "cudnn.benchmark     # Calling this optimizes runtime\n",
        "\n",
        "current_step = 0"
      ],
      "execution_count": 0,
      "outputs": []
    },
    {
      "cell_type": "code",
      "metadata": {
        "colab_type": "code",
        "outputId": "8e004d3e-ab28-4a45-b1b2-e520a8e2dbcd",
        "id": "PHtSp6oE74Dk",
        "colab": {
          "base_uri": "https://localhost:8080/",
          "height": 1000
        }
      },
      "source": [
        "# Start iterating over the epochs\n",
        "for epoch in range(NUM_EPOCHS):\n",
        "    print('Starting epoch {}/{}, LR = {}'.format(epoch+1, NUM_EPOCHS, optimizer.param_groups[0]['lr']))\n",
        "\n",
        "    # Train part\n",
        "    net.train() # Sets module in training mode\n",
        "\n",
        "    # Iterate over the dataset\n",
        "    for images, labels in train_dataloader:\n",
        "        # Bring data over the device of choice\n",
        "        images = images.to(DEVICE)\n",
        "        labels = labels.to(DEVICE)\n",
        "\n",
        "        # PyTorch, by default, accumulates gradients after each backward pass\n",
        "        # We need to manually set the gradients to zero before starting a new iteration\n",
        "        optimizer.zero_grad() # Zero-ing the gradients\n",
        "\n",
        "        # Forward pass to the network\n",
        "        outputs = net(images)\n",
        "\n",
        "        # Compute loss based on output and ground truth\n",
        "        loss = criterion(outputs, labels)\n",
        "\n",
        "        # Log loss\n",
        "        if current_step % LOG_FREQUENCY == 0:\n",
        "            print('Step {}, Loss {}'.format(current_step, loss.item()))\n",
        "\n",
        "        # Compute gradients for each layer and update weights\n",
        "        loss.backward()  # backward pass: computes gradients\n",
        "        optimizer.step() # update weights based on accumulated gradients\n",
        "\n",
        "        current_step += 1\n",
        "\n",
        "    # Step the scheduler\n",
        "    scheduler.step(loss) \n",
        "\n",
        "    # Use the best model for validation\n",
        "    if not loss_hist or loss.item() < min(loss_hist):\n",
        "        best_net = deepcopy(net)\n",
        "\n",
        "    # Record loss after each epoch\n",
        "\n",
        "    # Validation part\n",
        "    best_net.train(False) # Set Network to evaluation mode\n",
        "\n",
        "    running_corrects = 0\n",
        "    with torch.no_grad():\n",
        "        for images, labels in val_dataloader:\n",
        "            images = images.to(DEVICE)\n",
        "            labels = labels.to(DEVICE)\n",
        "\n",
        "            # Forward Pass\n",
        "            outputs = best_net(images)\n",
        "\n",
        "            # Get predictions\n",
        "            _, preds = torch.max(outputs.data, 1)\n",
        "            \n",
        "            # Update Corrects\n",
        "            running_corrects += torch.sum(preds == labels.data).data.item()\n",
        "\n",
        "    # Calculate Accuracy\n",
        "    accuracy = running_corrects / float(len(val_dataset))\n",
        "    print('Accuracy {}\\n'.format(accuracy))\n",
        "\n",
        "    # Record loss and accuracy after each epoch\n",
        "    loss_hist.append(loss.item())\n",
        "    acc_hist.append(accuracy)"
      ],
      "execution_count": 14,
      "outputs": [
        {
          "output_type": "stream",
          "text": [
            "Starting epoch 1/30, LR = 0.001\n",
            "Step 0, Loss 4.794699192047119\n",
            "Step 10, Loss 4.408242225646973\n",
            "Accuracy 0.11410788381742738\n",
            "\n",
            "Starting epoch 2/30, LR = 0.001\n",
            "Step 20, Loss 3.989514112472534\n",
            "Accuracy 0.21230982019363762\n",
            "\n",
            "Starting epoch 3/30, LR = 0.001\n",
            "Step 30, Loss 3.957834243774414\n",
            "Accuracy 0.24446749654218533\n",
            "\n",
            "Starting epoch 4/30, LR = 0.001\n",
            "Step 40, Loss 3.488173484802246\n",
            "Accuracy 0.28284923928077454\n",
            "\n",
            "Starting epoch 5/30, LR = 0.001\n",
            "Step 50, Loss 3.2982447147369385\n",
            "Accuracy 0.2814661134163209\n",
            "\n",
            "Starting epoch 6/30, LR = 0.001\n",
            "Step 60, Loss 3.2924814224243164\n",
            "Accuracy 0.32538035961272477\n",
            "\n",
            "Starting epoch 7/30, LR = 0.001\n",
            "Step 70, Loss 2.9959349632263184\n",
            "Accuracy 0.35926694329183956\n",
            "\n",
            "Starting epoch 8/30, LR = 0.001\n",
            "Step 80, Loss 2.950427532196045\n",
            "Accuracy 0.3533886583679115\n",
            "\n",
            "Starting epoch 9/30, LR = 0.001\n",
            "Step 90, Loss 2.911834955215454\n",
            "Accuracy 0.411134163208852\n",
            "\n",
            "Starting epoch 10/30, LR = 0.001\n",
            "Step 100, Loss 2.6030759811401367\n",
            "Accuracy 0.4256569847856155\n",
            "\n",
            "Starting epoch 11/30, LR = 0.001\n",
            "Step 110, Loss 2.7188174724578857\n",
            "Step 120, Loss 2.527534246444702\n",
            "Accuracy 0.46230982019363764\n",
            "\n",
            "Starting epoch 12/30, LR = 0.001\n",
            "Step 130, Loss 2.5653223991394043\n",
            "Accuracy 0.47752420470262796\n",
            "\n",
            "Starting epoch 13/30, LR = 0.001\n",
            "Step 140, Loss 2.5138487815856934\n",
            "Accuracy 0.47994467496542187\n",
            "\n",
            "Starting epoch 14/30, LR = 0.001\n",
            "Step 150, Loss 2.6327366828918457\n",
            "Accuracy 0.5172890733056709\n",
            "\n",
            "Starting epoch 15/30, LR = 0.001\n",
            "Step 160, Loss 2.466780662536621\n",
            "Accuracy 0.5217842323651453\n",
            "\n",
            "Starting epoch 16/30, LR = 0.001\n",
            "Step 170, Loss 2.2812933921813965\n",
            "Accuracy 0.5518672199170125\n",
            "\n",
            "Starting epoch 17/30, LR = 0.001\n",
            "Step 180, Loss 2.2072572708129883\n",
            "Accuracy 0.5567081604426003\n",
            "\n",
            "Starting epoch 18/30, LR = 0.001\n",
            "Step 190, Loss 2.08451771736145\n",
            "Accuracy 0.5712309820193637\n",
            "\n",
            "Starting epoch 19/30, LR = 0.001\n",
            "Step 200, Loss 2.1131069660186768\n",
            "Accuracy 0.573997233748271\n",
            "\n",
            "Starting epoch 20/30, LR = 0.001\n",
            "Step 210, Loss 1.9809560775756836\n",
            "Accuracy 0.5708852005532503\n",
            "\n",
            "Starting epoch 21/30, LR = 0.001\n",
            "Step 220, Loss 2.0183379650115967\n",
            "Step 230, Loss 1.9373939037322998\n",
            "Accuracy 0.6061549100968188\n",
            "\n",
            "Starting epoch 22/30, LR = 0.001\n",
            "Step 240, Loss 1.8741272687911987\n",
            "Accuracy 0.6020055325034578\n",
            "\n",
            "Starting epoch 23/30, LR = 0.001\n",
            "Step 250, Loss 1.81008780002594\n",
            "Accuracy 0.6303596127247579\n",
            "\n",
            "Starting epoch 24/30, LR = 0.001\n",
            "Step 260, Loss 2.0233919620513916\n",
            "Accuracy 0.6417704011065007\n",
            "\n",
            "Starting epoch 25/30, LR = 0.001\n",
            "Step 270, Loss 1.6205666065216064\n",
            "Accuracy 0.636237897648686\n",
            "\n",
            "Starting epoch 26/30, LR = 0.001\n",
            "Step 280, Loss 1.8573603630065918\n",
            "Accuracy 0.648686030428769\n",
            "\n",
            "Starting epoch 27/30, LR = 0.001\n",
            "Step 290, Loss 1.705986738204956\n",
            "Accuracy 0.6632088520055325\n",
            "\n",
            "Starting epoch 28/30, LR = 0.001\n",
            "Step 300, Loss 1.8178402185440063\n",
            "Accuracy 0.6687413554633471\n",
            "\n",
            "Starting epoch 29/30, LR = 0.001\n",
            "Step 310, Loss 1.7792333364486694\n",
            "Accuracy 0.6645919778699861\n",
            "\n",
            "Starting epoch 30/30, LR = 0.001\n",
            "Step 320, Loss 1.7704020738601685\n",
            "Accuracy 0.6704702627939142\n",
            "\n"
          ],
          "name": "stdout"
        }
      ]
    },
    {
      "cell_type": "code",
      "metadata": {
        "colab_type": "code",
        "id": "sC1E_5pJ74Dm",
        "colab": {}
      },
      "source": [
        "import matplotlib.pyplot as plt"
      ],
      "execution_count": 0,
      "outputs": []
    },
    {
      "cell_type": "code",
      "metadata": {
        "colab_type": "code",
        "outputId": "0a308bc2-c03f-4cc6-b840-2caa8a63eea3",
        "id": "wlkrW3cF74Do",
        "colab": {
          "base_uri": "https://localhost:8080/",
          "height": 573
        }
      },
      "source": [
        "plt.plot(loss_hist)\n",
        "plt.title('Loss VS Epochs')\n",
        "plt.xlabel('epoch')\n",
        "plt.ylabel('loss')\n",
        "plt.show()\n",
        "\n",
        "plt.plot(acc_hist)\n",
        "plt.title('Accuracy VS Epochs')\n",
        "plt.xlabel('epoch')\n",
        "plt.ylabel('accuracy')\n",
        "plt.show()"
      ],
      "execution_count": 16,
      "outputs": [
        {
          "output_type": "display_data",
          "data": {
            "image/png": "[encoded data removed]",
            "text/plain": [
              "<Figure size 432x288 with 1 Axes>"
            ]
          },
          "metadata": {
            "tags": [],
            "needs_background": "light"
          }
        },
        {
          "output_type": "display_data",
          "data": {
            "image/png": "[encoded data removed]",
            "text/plain": [
              "<Figure size 432x288 with 1 Axes>"
            ]
          },
          "metadata": {
            "tags": [],
            "needs_background": "light"
          }
        }
      ]
    },
    {
      "cell_type": "markdown",
      "metadata": {
        "colab_type": "text",
        "id": "cMERYN6374Dp"
      },
      "source": [
        "**Test**"
      ]
    },
    {
      "cell_type": "code",
      "metadata": {
        "colab_type": "code",
        "outputId": "5fac61dc-f7bd-41aa-d36a-d377a0a9eeae",
        "id": "C-zk7dme74Dq",
        "colab": {
          "base_uri": "https://localhost:8080/",
          "height": 53
        }
      },
      "source": [
        "best_net = best_net.to(DEVICE) # this will bring the network to GPU if DEVICE is cuda\n",
        "best_net.train(False) # Set Network to evaluation mode\n",
        "\n",
        "running_corrects = 0\n",
        "for images, labels in tqdm(test_dataloader):\n",
        "  images = images.to(DEVICE)\n",
        "  labels = labels.to(DEVICE)\n",
        "\n",
        "  # Forward Pass\n",
        "  outputs = best_net(images)\n",
        "\n",
        "  # Get predictions\n",
        "  _, preds = torch.max(outputs.data, 1)\n",
        "\n",
        "  # Update Corrects\n",
        "  running_corrects += torch.sum(preds == labels.data).data.item()\n",
        "\n",
        "# Calculate Accuracy\n",
        "accuracy = running_corrects / float(len(test_dataset))\n",
        "\n",
        "print('Test Accuracy: {}'.format(accuracy))"
      ],
      "execution_count": 17,
      "outputs": [
        {
          "output_type": "stream",
          "text": [
            "100%|██████████| 12/12 [00:12<00:00,  1.01s/it]"
          ],
          "name": "stderr"
        },
        {
          "output_type": "stream",
          "text": [
            "Test Accuracy: 0.6864846180435534\n"
          ],
          "name": "stdout"
        },
        {
          "output_type": "stream",
          "text": [
            "\n"
          ],
          "name": "stderr"
        }
      ]
    },
    {
      "cell_type": "code",
      "metadata": {
        "id": "GFDdoBdf7VjS",
        "colab_type": "code",
        "colab": {}
      },
      "source": [
        ""
      ],
      "execution_count": 0,
      "outputs": []
    }
  ]
}