{
  "nbformat": 4,
  "nbformat_minor": 0,
  "metadata": {
    "colab": {
      "name": "Homework2-MLDL.ipynb",
      "provenance": [],
      "collapsed_sections": []
    },
    "kernelspec": {
      "name": "python3",
      "display_name": "Python 3"
    },
    "accelerator": "GPU"
  },
  "cells": [
    {
      "cell_type": "markdown",
      "metadata": {
        "id": "LMA0i3mOHse_",
        "colab_type": "text"
      },
      "source": [
        "# Given by the template \n",
        "https://colab.research.google.com/drive/1495rzqiMxfqwqBjaanDwDGN7eOS4oXRX "
      ]
    },
    {
      "cell_type": "markdown",
      "metadata": {
        "id": "c9QcGnGPdX2C",
        "colab_type": "text"
      },
      "source": [
        "\n",
        "**Install requirements**"
      ]
    },
    {
      "cell_type": "code",
      "metadata": {
        "id": "k9O3aM3Tb28q",
        "colab_type": "code",
        "colab": {}
      },
      "source": [
        "# !pip3 install 'torch==1.3.1'\n",
        "# !pip3 install 'torchvision==0.5.0'\n",
        "# !pip3 install 'Pillow-SIMD'\n",
        "# !pip3 install 'tqdm'"
      ],
      "execution_count": 0,
      "outputs": []
    },
    {
      "cell_type": "markdown",
      "metadata": {
        "id": "fo942LMOdlh4",
        "colab_type": "text"
      },
      "source": [
        "**Import libraries**"
      ]
    },
    {
      "cell_type": "code",
      "metadata": {
        "id": "DokFOdD1dJEl",
        "colab_type": "code",
        "colab": {}
      },
      "source": [
        "import os\n",
        "import logging\n",
        "\n",
        "import torch\n",
        "import torch.nn as nn\n",
        "import torch.optim as optim\n",
        "from torch.utils.data import Subset, DataLoader\n",
        "from torch.backends import cudnn\n",
        "\n",
        "import torchvision\n",
        "from torchvision import transforms\n",
        "from torchvision.models import alexnet\n",
        "\n",
        "from PIL import Image\n",
        "from tqdm import tqdm"
      ],
      "execution_count": 0,
      "outputs": []
    },
    {
      "cell_type": "markdown",
      "metadata": {
        "id": "OIDLJuIXK_vh",
        "colab_type": "text"
      },
      "source": [
        "**Set Arguments**"
      ]
    },
    {
      "cell_type": "code",
      "metadata": {
        "id": "d5PkYfqfK_SA",
        "colab_type": "code",
        "colab": {}
      },
      "source": [
        "DEVICE = 'cuda' # 'cuda' or 'cpu'\n",
        "\n",
        "NUM_CLASSES = 102 # 101 + 1: There is an extra Background class that should be removed \n",
        "\n",
        "BATCH_SIZE = 256     # Higher batch sizes allows for larger learning rates. An empirical heuristic suggests that, when changing\n",
        "                     # the batch size, learning rate should change by the same factor to have comparable results\n",
        "\n",
        "LR = 1e-3            # The initial Learning Rate\n",
        "MOMENTUM = 0.9       # Hyperparameter for SGD, keep this at 0.9 when using SGD\n",
        "WEIGHT_DECAY = 5e-5  # Regularization, you can keep this at the default\n",
        "\n",
        "NUM_EPOCHS = 30      # Total number of training epochs (iterations over dataset)\n",
        "STEP_SIZE = 20       # How many epochs before decreasing learning rate (if using a step-down policy)\n",
        "GAMMA = 0.1          # Multiplicative factor for learning rate step-down\n",
        "\n",
        "LOG_FREQUENCY = 10"
      ],
      "execution_count": 0,
      "outputs": []
    },
    {
      "cell_type": "markdown",
      "metadata": {
        "id": "9gwii0TBHvzh",
        "colab_type": "text"
      },
      "source": [
        "**Define Data Preprocessing**"
      ]
    },
    {
      "cell_type": "code",
      "metadata": {
        "id": "QUDdw4j2H0Mc",
        "colab_type": "code",
        "colab": {}
      },
      "source": [
        "# Define transforms for training phase\n",
        "train_transform = transforms.Compose([transforms.Resize(256),      # Resizes short size of the PIL image to 256\n",
        "                                      transforms.CenterCrop(224),  # Crops a central square patch of the image\n",
        "                                                                   # 224 because torchvision's AlexNet needs a 224x224 input!\n",
        "                                                                   # Remember this when applying different transformations, otherwise you get an error\n",
        "                                      transforms.ToTensor(), # Turn PIL Image to torch.Tensor\n",
        "                                      transforms.Normalize((0.5, 0.5, 0.5), (0.5, 0.5, 0.5)) # Normalizes tensor with mean and standard deviation\n",
        "])\n",
        "# Define transforms for the evaluation phase\n",
        "eval_transform = transforms.Compose([transforms.Resize(256),\n",
        "                                      transforms.CenterCrop(224),\n",
        "                                      transforms.ToTensor(),\n",
        "                                      transforms.Normalize((0.5, 0.5, 0.5), (0.5, 0.5, 0.5))                                    \n",
        "])"
      ],
      "execution_count": 0,
      "outputs": []
    },
    {
      "cell_type": "markdown",
      "metadata": {
        "id": "2qYIHPzYLY7i",
        "colab_type": "text"
      },
      "source": [
        "**Prepare Dataset**"
      ]
    },
    {
      "cell_type": "code",
      "metadata": {
        "id": "owiSvZUmiXnm",
        "colab_type": "code",
        "colab": {}
      },
      "source": [
        "# Clone github repository with data\n",
        "if not os.path.isdir('./Caltech101'):\n",
        "#   !git clone https://github.com/MachineLearning2020/Homework2-Caltech101.git\n",
        "    !git clone https://github.com/Barrel-Titor/Homework2-Caltech101.git\n",
        "    !mv 'Homework2-Caltech101' 'Caltech101'\n",
        "\n",
        "DATA_DIR = 'Caltech101/101_ObjectCategories'"
      ],
      "execution_count": 0,
      "outputs": []
    },
    {
      "cell_type": "code",
      "metadata": {
        "id": "QfVq_uDHLbsR",
        "colab_type": "code",
        "outputId": "d5fe630f-796a-4fdd-bf8d-acfc4b96a360",
        "colab": {
          "base_uri": "https://localhost:8080/",
          "height": 71
        }
      },
      "source": [
        "from Caltech101.caltech_dataset import Caltech\n",
        "\n",
        "# Prepare Pytorch train/test Datasets\n",
        "train_val_dataset = Caltech(DATA_DIR, split='train',  transform=train_transform)\n",
        "test_dataset = Caltech(DATA_DIR, split='test', transform=eval_transform)\n",
        "\n",
        "train_indexes = list(range(0, len(train_val_dataset), 2))   # split the indices for your train split\n",
        "val_indexes = list(range(1, len(train_val_dataset), 2))     # split the indices for your val split\n",
        "\n",
        "train_dataset = Subset(train_val_dataset, train_indexes)\n",
        "val_dataset = Subset(train_val_dataset, val_indexes)\n",
        "\n",
        "# Check dataset sizes\n",
        "print('Train Dataset: {}'.format(len(train_dataset)))\n",
        "print('Valid Dataset: {}'.format(len(val_dataset)))\n",
        "print('Test Dataset: {}'.format(len(test_dataset)))"
      ],
      "execution_count": 9,
      "outputs": [
        {
          "output_type": "stream",
          "text": [
            "Train Dataset: 2892\n",
            "Valid Dataset: 2892\n",
            "Test Dataset: 2893\n"
          ],
          "name": "stdout"
        }
      ]
    },
    {
      "cell_type": "markdown",
      "metadata": {
        "id": "FYEDQ7Z21ldN",
        "colab_type": "text"
      },
      "source": [
        "**Prepare Dataloaders**"
      ]
    },
    {
      "cell_type": "code",
      "metadata": {
        "id": "VriRw8SI1nle",
        "colab_type": "code",
        "colab": {}
      },
      "source": [
        "# Dataloaders iterate over pytorch datasets and transparently provide useful functions (e.g. parallelization and shuffling)\n",
        "train_dataloader = DataLoader(train_dataset, batch_size=BATCH_SIZE, shuffle=True, num_workers=4, drop_last=True)\n",
        "val_dataloader = DataLoader(val_dataset, batch_size=BATCH_SIZE, shuffle=False, num_workers=4)\n",
        "test_dataloader = DataLoader(test_dataset, batch_size=BATCH_SIZE, shuffle=False, num_workers=4)"
      ],
      "execution_count": 0,
      "outputs": []
    },
    {
      "cell_type": "markdown",
      "metadata": {
        "id": "gbZ1t5Qs2z4j",
        "colab_type": "text"
      },
      "source": [
        "**Prepare Network**"
      ]
    },
    {
      "cell_type": "code",
      "metadata": {
        "id": "exHUjtXa22DN",
        "colab_type": "code",
        "colab": {}
      },
      "source": [
        "net = alexnet() # Loading AlexNet model\n",
        "\n",
        "# AlexNet has 1000 output neurons, corresponding to the 1000 ImageNet's classes\n",
        "# We need 101 outputs for Caltech-101\n",
        "net.classifier[6] = nn.Linear(4096, NUM_CLASSES) # nn.Linear in pytorch is a fully connected layer\n",
        "                                                 # The convolutional layer is nn.Conv2d\n",
        "\n",
        "# We just changed the last layer of AlexNet with a new fully connected layer with 101 outputs\n",
        "# It is strongly suggested to study torchvision.models.alexnet source code"
      ],
      "execution_count": 0,
      "outputs": []
    },
    {
      "cell_type": "code",
      "metadata": {
        "id": "ScPgrlNynhw7",
        "colab_type": "code",
        "outputId": "aff8b56d-04de-44bf-a40a-b3154f390a3b",
        "colab": {
          "base_uri": "https://localhost:8080/",
          "height": 503
        }
      },
      "source": [
        "net"
      ],
      "execution_count": 10,
      "outputs": [
        {
          "output_type": "execute_result",
          "data": {
            "text/plain": [
              "AlexNet(\n",
              "  (features): Sequential(\n",
              "    (0): Conv2d(3, 64, kernel_size=(11, 11), stride=(4, 4), padding=(2, 2))\n",
              "    (1): ReLU(inplace=True)\n",
              "    (2): MaxPool2d(kernel_size=3, stride=2, padding=0, dilation=1, ceil_mode=False)\n",
              "    (3): Conv2d(64, 192, kernel_size=(5, 5), stride=(1, 1), padding=(2, 2))\n",
              "    (4): ReLU(inplace=True)\n",
              "    (5): MaxPool2d(kernel_size=3, stride=2, padding=0, dilation=1, ceil_mode=False)\n",
              "    (6): Conv2d(192, 384, kernel_size=(3, 3), stride=(1, 1), padding=(1, 1))\n",
              "    (7): ReLU(inplace=True)\n",
              "    (8): Conv2d(384, 256, kernel_size=(3, 3), stride=(1, 1), padding=(1, 1))\n",
              "    (9): ReLU(inplace=True)\n",
              "    (10): Conv2d(256, 256, kernel_size=(3, 3), stride=(1, 1), padding=(1, 1))\n",
              "    (11): ReLU(inplace=True)\n",
              "    (12): MaxPool2d(kernel_size=3, stride=2, padding=0, dilation=1, ceil_mode=False)\n",
              "  )\n",
              "  (avgpool): AdaptiveAvgPool2d(output_size=(6, 6))\n",
              "  (classifier): Sequential(\n",
              "    (0): Dropout(p=0.5, inplace=False)\n",
              "    (1): Linear(in_features=9216, out_features=4096, bias=True)\n",
              "    (2): ReLU(inplace=True)\n",
              "    (3): Dropout(p=0.5, inplace=False)\n",
              "    (4): Linear(in_features=4096, out_features=4096, bias=True)\n",
              "    (5): ReLU(inplace=True)\n",
              "    (6): Linear(in_features=4096, out_features=102, bias=True)\n",
              "  )\n",
              ")"
            ]
          },
          "metadata": {
            "tags": []
          },
          "execution_count": 10
        }
      ]
    },
    {
      "cell_type": "markdown",
      "metadata": {
        "id": "KEyL3H_R4qCf",
        "colab_type": "text"
      },
      "source": [
        "**Prepare Training**"
      ]
    },
    {
      "cell_type": "code",
      "metadata": {
        "id": "9sjq00G94tSc",
        "colab_type": "code",
        "colab": {}
      },
      "source": [
        "# Define loss function\n",
        "criterion = nn.CrossEntropyLoss() # for classification, we use Cross Entropy\n",
        "\n",
        "# Choose parameters to optimize\n",
        "# To access a different set of parameters, you have to access submodules of AlexNet\n",
        "# (nn.Module objects, like AlexNet, implement the Composite Pattern)\n",
        "# e.g.: parameters of the fully connected layers: net.classifier.parameters()\n",
        "# e.g.: parameters of the convolutional layers: look at alexnet's source code ;) \n",
        "parameters_to_optimize = net.parameters() # In this case we optimize over all the parameters of AlexNet\n",
        "\n",
        "# Define optimizer\n",
        "# An optimizer updates the weights based on loss\n",
        "# We use SGD with momentum\n",
        "optimizer = optim.SGD(parameters_to_optimize, lr=LR, momentum=MOMENTUM, weight_decay=WEIGHT_DECAY)\n",
        "\n",
        "# Define scheduler\n",
        "# A scheduler dynamically changes learning rate\n",
        "# The most common schedule is the step(-down), which multiplies learning rate by gamma every STEP_SIZE epochs\n",
        "scheduler = optim.lr_scheduler.StepLR(optimizer, step_size=STEP_SIZE, gamma=GAMMA)"
      ],
      "execution_count": 0,
      "outputs": []
    },
    {
      "cell_type": "markdown",
      "metadata": {
        "id": "AxYUli9d9uYQ",
        "colab_type": "text"
      },
      "source": [
        "**Train and Validation**"
      ]
    },
    {
      "cell_type": "markdown",
      "metadata": {
        "id": "qq6_YOzP6zVq",
        "colab_type": "text"
      },
      "source": [
        "| Current hyperparameters | Value |\n",
        "| --- | --- |\n",
        "| Initial learning rate | 0.001 |\n",
        "| Decaying policy | StepLR |\n",
        "| Decaying step size | 20 epochs |\n",
        "| Decaying factor | 0.1 |\n",
        "| Optimiser | SGD |\n",
        "| Epochs | 30 |\n",
        "\n"
      ]
    },
    {
      "cell_type": "code",
      "metadata": {
        "id": "5c5AuN_RER-y",
        "colab_type": "code",
        "colab": {}
      },
      "source": [
        "from copy import deepcopy\n",
        "\n",
        "loss_hist = []\n",
        "acc_hist = []\n",
        "\n",
        "# By default, everything is loaded to cpu\n",
        "net = net.to(DEVICE) # this will bring the network to GPU if DEVICE is cuda\n",
        "cudnn.benchmark     # Calling this optimizes runtime\n",
        "\n",
        "current_step = 0"
      ],
      "execution_count": 0,
      "outputs": []
    },
    {
      "cell_type": "code",
      "metadata": {
        "id": "ZcoQ5fD49yT_",
        "colab_type": "code",
        "outputId": "8e656725-5058-41b9-9a13-8a93df2c2850",
        "colab": {
          "base_uri": "https://localhost:8080/",
          "height": 1000
        }
      },
      "source": [
        "# Start iterating over the epochs\n",
        "for epoch in range(NUM_EPOCHS):\n",
        "    print('Starting epoch {}/{}, LR = {}'.format(epoch+1, NUM_EPOCHS, scheduler.get_last_lr()))\n",
        "\n",
        "    # Train part\n",
        "    net.train() # Sets module in training mode\n",
        "\n",
        "    # Iterate over the dataset\n",
        "    for images, labels in train_dataloader:\n",
        "        # Bring data over the device of choice\n",
        "        images = images.to(DEVICE)\n",
        "        labels = labels.to(DEVICE)\n",
        "\n",
        "        # PyTorch, by default, accumulates gradients after each backward pass\n",
        "        # We need to manually set the gradients to zero before starting a new iteration\n",
        "        optimizer.zero_grad() # Zero-ing the gradients\n",
        "\n",
        "        # Forward pass to the network\n",
        "        outputs = net(images)\n",
        "\n",
        "        # Compute loss based on output and ground truth\n",
        "        loss = criterion(outputs, labels)\n",
        "\n",
        "        # Log loss\n",
        "        if current_step % LOG_FREQUENCY == 0:\n",
        "            print('Step {}, Loss {}'.format(current_step, loss.item()))\n",
        "\n",
        "        # Compute gradients for each layer and update weights\n",
        "        loss.backward()  # backward pass: computes gradients\n",
        "        optimizer.step() # update weights based on accumulated gradients\n",
        "\n",
        "        current_step += 1\n",
        "\n",
        "    # Step the scheduler\n",
        "    scheduler.step() \n",
        "\n",
        "    # Use the best model for validation\n",
        "    if not loss_hist or loss.item() < min(loss_hist):\n",
        "        best_net = deepcopy(net)\n",
        "\n",
        "    # Record loss after each epoch\n",
        "\n",
        "    # Validation part\n",
        "    best_net.train(False) # Set Network to evaluation mode\n",
        "\n",
        "    running_corrects = 0\n",
        "    with torch.no_grad():\n",
        "        for images, labels in val_dataloader:\n",
        "            images = images.to(DEVICE)\n",
        "            labels = labels.to(DEVICE)\n",
        "\n",
        "            # Forward Pass\n",
        "            outputs = best_net(images)\n",
        "\n",
        "            # Get predictions\n",
        "            _, preds = torch.max(outputs.data, 1)\n",
        "            \n",
        "            # Update Corrects\n",
        "            running_corrects += torch.sum(preds == labels.data).data.item()\n",
        "\n",
        "    # Calculate Accuracy\n",
        "    accuracy = running_corrects / float(len(val_dataset))\n",
        "    print('Accuracy {}\\n'.format(accuracy))\n",
        "\n",
        "    # Record loss and accuracy after each epoch\n",
        "    loss_hist.append(loss.item())\n",
        "    acc_hist.append(accuracy)"
      ],
      "execution_count": 0,
      "outputs": [
        {
          "output_type": "stream",
          "text": [
            "Starting epoch 1/30, LR = [0.001]\n",
            "Step 0, Loss 4.514472484588623\n",
            "Step 10, Loss 4.51784086227417\n",
            "Accuracy 0.09197786998616875\n",
            "\n",
            "Starting epoch 2/30, LR = [0.001]\n",
            "Step 20, Loss 4.451831817626953\n",
            "Accuracy 0.09197786998616875\n",
            "\n",
            "Starting epoch 3/30, LR = [0.001]\n",
            "Step 30, Loss 4.3598456382751465\n",
            "Accuracy 0.09197786998616875\n",
            "\n",
            "Starting epoch 4/30, LR = [0.001]\n",
            "Step 40, Loss 4.310239315032959\n",
            "Accuracy 0.09197786998616875\n",
            "\n",
            "Starting epoch 5/30, LR = [0.001]\n",
            "Step 50, Loss 4.355845928192139\n",
            "Accuracy 0.09301521438450899\n",
            "\n",
            "Starting epoch 6/30, LR = [0.001]\n",
            "Step 60, Loss 4.299665927886963\n",
            "Accuracy 0.09612724757952974\n",
            "\n",
            "Starting epoch 7/30, LR = [0.001]\n",
            "Step 70, Loss 4.188819885253906\n",
            "Accuracy 0.09439834024896265\n",
            "\n",
            "Starting epoch 8/30, LR = [0.001]\n",
            "Step 80, Loss 4.319115161895752\n",
            "Accuracy 0.09647302904564316\n",
            "\n",
            "Starting epoch 9/30, LR = [0.001]\n",
            "Step 90, Loss 4.173344612121582\n",
            "Accuracy 0.09716459197786999\n",
            "\n",
            "Starting epoch 10/30, LR = [0.001]\n",
            "Step 100, Loss 4.158774375915527\n",
            "Accuracy 0.09336099585062241\n",
            "\n",
            "Starting epoch 11/30, LR = [0.001]\n",
            "Step 110, Loss 4.21061372756958\n",
            "Step 120, Loss 4.109436988830566\n",
            "Accuracy 0.10027662517289074\n",
            "\n",
            "Starting epoch 12/30, LR = [0.001]\n",
            "Step 130, Loss 4.190305709838867\n",
            "Accuracy 0.10442600276625173\n",
            "\n",
            "Starting epoch 13/30, LR = [0.001]\n",
            "Step 140, Loss 4.097229480743408\n",
            "Accuracy 0.10131396957123098\n",
            "\n",
            "Starting epoch 14/30, LR = [0.001]\n",
            "Step 150, Loss 4.140021324157715\n",
            "Accuracy 0.10269709543568464\n",
            "\n",
            "Starting epoch 15/30, LR = [0.001]\n",
            "Step 160, Loss 4.128957748413086\n",
            "Accuracy 0.10304287690179806\n",
            "\n",
            "Starting epoch 16/30, LR = [0.001]\n",
            "Step 170, Loss 4.192359924316406\n",
            "Accuracy 0.10546334716459198\n",
            "\n",
            "Starting epoch 17/30, LR = [0.001]\n",
            "Step 180, Loss 4.228342056274414\n",
            "Accuracy 0.10027662517289074\n",
            "\n",
            "Starting epoch 18/30, LR = [0.001]\n",
            "Step 190, Loss 4.150777339935303\n",
            "Accuracy 0.10235131396957123\n",
            "\n",
            "Starting epoch 19/30, LR = [0.001]\n",
            "Step 200, Loss 4.3314409255981445\n",
            "Accuracy 0.0995850622406639\n",
            "\n",
            "Starting epoch 20/30, LR = [0.001]\n",
            "Step 210, Loss 4.241194725036621\n",
            "Accuracy 0.09889349930843706\n",
            "\n",
            "Starting epoch 21/30, LR = [0.0001]\n",
            "Step 220, Loss 3.995678663253784\n",
            "Step 230, Loss 4.144279479980469\n",
            "Accuracy 0.10442600276625173\n",
            "\n",
            "Starting epoch 22/30, LR = [0.0001]\n",
            "Step 240, Loss 4.160940170288086\n",
            "Accuracy 0.0995850622406639\n",
            "\n",
            "Starting epoch 23/30, LR = [0.0001]\n",
            "Step 250, Loss 3.974120616912842\n",
            "Accuracy 0.1459197786998617\n",
            "\n",
            "Starting epoch 24/30, LR = [0.0001]\n",
            "Step 260, Loss 4.107965469360352\n",
            "Accuracy 0.14488243430152145\n",
            "\n",
            "Starting epoch 25/30, LR = [0.0001]\n",
            "Step 270, Loss 4.1475677490234375\n",
            "Accuracy 0.1479944674965422\n",
            "\n",
            "Starting epoch 26/30, LR = [0.0001]\n",
            "Step 280, Loss 4.122002124786377\n",
            "Accuracy 0.14488243430152145\n",
            "\n",
            "Starting epoch 27/30, LR = [0.0001]\n",
            "Step 290, Loss 4.0949273109436035\n",
            "Accuracy 0.1479944674965422\n",
            "\n",
            "Starting epoch 28/30, LR = [0.0001]\n",
            "Step 300, Loss 4.1885881423950195\n",
            "Accuracy 0.15179806362378975\n",
            "\n",
            "Starting epoch 29/30, LR = [0.0001]\n",
            "Step 310, Loss 4.139151573181152\n",
            "Accuracy 0.1479944674965422\n",
            "\n",
            "Starting epoch 30/30, LR = [0.0001]\n",
            "Step 320, Loss 4.134931564331055\n",
            "Accuracy 0.15110650069156292\n",
            "\n"
          ],
          "name": "stdout"
        }
      ]
    },
    {
      "cell_type": "code",
      "metadata": {
        "id": "2XJxa8iQF9FF",
        "colab_type": "code",
        "colab": {}
      },
      "source": [
        "import matplotlib.pyplot as plt"
      ],
      "execution_count": 0,
      "outputs": []
    },
    {
      "cell_type": "code",
      "metadata": {
        "id": "RReDRPiiGgCh",
        "colab_type": "code",
        "outputId": "ba431a3d-8bea-4db5-9427-7fd7822cc33f",
        "colab": {
          "base_uri": "https://localhost:8080/",
          "height": 573
        }
      },
      "source": [
        "plt.plot(loss_hist)\n",
        "plt.title('Loss VS Epochs')\n",
        "plt.xlabel('epoch')\n",
        "plt.ylabel('loss')\n",
        "plt.show()\n",
        "\n",
        "plt.plot(acc_hist)\n",
        "plt.title('Accuracy VS Epochs')\n",
        "plt.xlabel('epoch')\n",
        "plt.ylabel('accuracy')\n",
        "plt.show()"
      ],
      "execution_count": 0,
      "outputs": [
        {
          "output_type": "display_data",
          "data": {
            "image/png": "[encoded data removed]",
            "text/plain": [
              "<Figure size 432x288 with 1 Axes>"
            ]
          },
          "metadata": {
            "tags": [],
            "needs_background": "light"
          }
        },
        {
          "output_type": "display_data",
          "data": {
            "image/png": "[encoded data removed]",
            "text/plain": [
              "<Figure size 432x288 with 1 Axes>"
            ]
          },
          "metadata": {
            "tags": [],
            "needs_background": "light"
          }
        }
      ]
    },
    {
      "cell_type": "markdown",
      "metadata": {
        "id": "jxekmR745ySe",
        "colab_type": "text"
      },
      "source": [
        "**Test**"
      ]
    },
    {
      "cell_type": "code",
      "metadata": {
        "id": "fSHcUqLB5yWO",
        "colab_type": "code",
        "outputId": "21784194-23b7-44a3-f215-2ac7e23d043f",
        "colab": {
          "base_uri": "https://localhost:8080/",
          "height": 53
        }
      },
      "source": [
        "best_net = best_net.to(DEVICE) # this will bring the network to GPU if DEVICE is cuda\n",
        "best_net.train(False) # Set Network to evaluation mode\n",
        "\n",
        "running_corrects = 0\n",
        "for images, labels in tqdm(test_dataloader):\n",
        "  images = images.to(DEVICE)\n",
        "  labels = labels.to(DEVICE)\n",
        "\n",
        "  # Forward Pass\n",
        "  outputs = best_net(images)\n",
        "\n",
        "  # Get predictions\n",
        "  _, preds = torch.max(outputs.data, 1)\n",
        "\n",
        "  # Update Corrects\n",
        "  running_corrects += torch.sum(preds == labels.data).data.item()\n",
        "\n",
        "# Calculate Accuracy\n",
        "accuracy = running_corrects / float(len(test_dataset))\n",
        "\n",
        "print('Test Accuracy: {}'.format(accuracy))"
      ],
      "execution_count": 0,
      "outputs": [
        {
          "output_type": "stream",
          "text": [
            "100%|██████████| 12/12 [00:12<00:00,  1.01s/it]"
          ],
          "name": "stderr"
        },
        {
          "output_type": "stream",
          "text": [
            "Test Accuracy: 0.15485655029381265\n"
          ],
          "name": "stdout"
        },
        {
          "output_type": "stream",
          "text": [
            "\n"
          ],
          "name": "stderr"
        }
      ]
    },
    {
      "cell_type": "markdown",
      "metadata": {
        "id": "3MOR7X5oH_-j",
        "colab_type": "text"
      },
      "source": [
        "# Experiment with different sets of hyperparameters"
      ]
    },
    {
      "cell_type": "markdown",
      "metadata": {
        "id": "NgwykGKYZkJA",
        "colab_type": "text"
      },
      "source": [
        "### Hyperparameter set 1"
      ]
    },
    {
      "cell_type": "markdown",
      "metadata": {
        "id": "oXin3iTnZr2j",
        "colab_type": "text"
      },
      "source": [
        "| Current hyperparameters | Value |\n",
        "| --- | --- |\n",
        "| Initial learning rate | 0.1 |\n",
        "| Decaying policy | StepLR |\n",
        "| Decaying step size | 20 epochs |\n",
        "| Decaying factor | 0.1 |\n",
        "| Optimiser | SGD |\n",
        "| Epochs | 30 |"
      ]
    },
    {
      "cell_type": "code",
      "metadata": {
        "id": "esbm-z6lH8Dp",
        "colab_type": "code",
        "colab": {}
      },
      "source": [
        "LR = 1e-1            # The initial Learning Rate\n",
        "MOMENTUM = 0.9       # Hyperparameter for SGD, keep this at 0.9 when using SGD\n",
        "WEIGHT_DECAY = 5e-5  # Regularization, you can keep this at the default\n",
        "\n",
        "NUM_EPOCHS = 30      # Total number of training epochs (iterations over dataset)\n",
        "STEP_SIZE = 20       # How many epochs before decreasing learning rate (if using a step-down policy)\n",
        "GAMMA = 0.1          # Multiplicative factor for learning rate step-down\n",
        "\n",
        "LOG_FREQUENCY = 10"
      ],
      "execution_count": 0,
      "outputs": []
    },
    {
      "cell_type": "markdown",
      "metadata": {
        "colab_type": "text",
        "id": "sE7paTWDfFk-"
      },
      "source": [
        "**Prepare Network**"
      ]
    },
    {
      "cell_type": "code",
      "metadata": {
        "colab_type": "code",
        "id": "Cm_jSRbofFk_",
        "colab": {}
      },
      "source": [
        "net = alexnet() # Loading AlexNet model\n",
        "\n",
        "# AlexNet has 1000 output neurons, corresponding to the 1000 ImageNet's classes\n",
        "# We need 101 outputs for Caltech-101\n",
        "net.classifier[6] = nn.Linear(4096, NUM_CLASSES) # nn.Linear in pytorch is a fully connected layer\n",
        "                                                 # The convolutional layer is nn.Conv2d\n",
        "\n",
        "# We just changed the last layer of AlexNet with a new fully connected layer with 101 outputs\n",
        "# It is strongly suggested to study torchvision.models.alexnet source code"
      ],
      "execution_count": 0,
      "outputs": []
    },
    {
      "cell_type": "markdown",
      "metadata": {
        "colab_type": "text",
        "id": "5f1hz3r3fFlC"
      },
      "source": [
        "**Prepare Training**"
      ]
    },
    {
      "cell_type": "code",
      "metadata": {
        "colab_type": "code",
        "id": "HbOaAjYlfFlD",
        "colab": {}
      },
      "source": [
        "# Define loss function\n",
        "criterion = nn.CrossEntropyLoss() # for classification, we use Cross Entropy\n",
        "\n",
        "# Choose parameters to optimize\n",
        "# To access a different set of parameters, you have to access submodules of AlexNet\n",
        "# (nn.Module objects, like AlexNet, implement the Composite Pattern)\n",
        "# e.g.: parameters of the fully connected layers: net.classifier.parameters()\n",
        "# e.g.: parameters of the convolutional layers: look at alexnet's source code ;) \n",
        "parameters_to_optimize = net.parameters() # In this case we optimize over all the parameters of AlexNet\n",
        "\n",
        "# Define optimizer\n",
        "# An optimizer updates the weights based on loss\n",
        "# We use SGD with momentum\n",
        "optimizer = optim.SGD(parameters_to_optimize, lr=LR, momentum=MOMENTUM, weight_decay=WEIGHT_DECAY)\n",
        "\n",
        "# Define scheduler\n",
        "# A scheduler dynamically changes learning rate\n",
        "# The most common schedule is the step(-down), which multiplies learning rate by gamma every STEP_SIZE epochs\n",
        "scheduler = optim.lr_scheduler.StepLR(optimizer, step_size=STEP_SIZE, gamma=GAMMA)"
      ],
      "execution_count": 0,
      "outputs": []
    },
    {
      "cell_type": "code",
      "metadata": {
        "colab_type": "code",
        "id": "5426g1pcfFlF",
        "colab": {}
      },
      "source": [
        "from copy import deepcopy\n",
        "\n",
        "loss_hist = []\n",
        "acc_hist = []\n",
        "\n",
        "# By default, everything is loaded to cpu\n",
        "net = net.to(DEVICE) # this will bring the network to GPU if DEVICE is cuda\n",
        "cudnn.benchmark     # Calling this optimizes runtime\n",
        "\n",
        "current_step = 0"
      ],
      "execution_count": 0,
      "outputs": []
    },
    {
      "cell_type": "code",
      "metadata": {
        "colab_type": "code",
        "outputId": "64eca9ce-5168-4180-c168-529617e5c843",
        "id": "mQr6yqmHfFlH",
        "colab": {
          "base_uri": "https://localhost:8080/",
          "height": 1000
        }
      },
      "source": [
        "# Start iterating over the epochs\n",
        "for epoch in range(NUM_EPOCHS):\n",
        "    print('Starting epoch {}/{}, LR = {}'.format(epoch+1, NUM_EPOCHS, scheduler.get_last_lr()))\n",
        "\n",
        "    # Train part\n",
        "    net.train() # Sets module in training mode\n",
        "\n",
        "    # Iterate over the dataset\n",
        "    for images, labels in train_dataloader:\n",
        "        # Bring data over the device of choice\n",
        "        images = images.to(DEVICE)\n",
        "        labels = labels.to(DEVICE)\n",
        "\n",
        "        # PyTorch, by default, accumulates gradients after each backward pass\n",
        "        # We need to manually set the gradients to zero before starting a new iteration\n",
        "        optimizer.zero_grad() # Zero-ing the gradients\n",
        "\n",
        "        # Forward pass to the network\n",
        "        outputs = net(images)\n",
        "\n",
        "        # Compute loss based on output and ground truth\n",
        "        loss = criterion(outputs, labels)\n",
        "\n",
        "        # Log loss\n",
        "        if current_step % LOG_FREQUENCY == 0:\n",
        "            print('Step {}, Loss {}'.format(current_step, loss.item()))\n",
        "\n",
        "        # Compute gradients for each layer and update weights\n",
        "        loss.backward()  # backward pass: computes gradients\n",
        "        # torch.nn.utils.clip_grad_norm_(parameters_to_optimize, 0.5) # prevent gradient explosion\n",
        "        optimizer.step() # update weights based on accumulated gradients\n",
        "\n",
        "        current_step += 1\n",
        "\n",
        "    # Step the scheduler\n",
        "    scheduler.step() \n",
        "\n",
        "    # Use the best model for validation\n",
        "    if not loss_hist or loss.item() < min(loss_hist):\n",
        "        best_net = deepcopy(net)\n",
        "\n",
        "    # Record loss after each epoch\n",
        "\n",
        "    # Validation part\n",
        "    best_net.train(False) # Set Network to evaluation mode\n",
        "\n",
        "    running_corrects = 0\n",
        "    with torch.no_grad():\n",
        "        for images, labels in val_dataloader:\n",
        "            images = images.to(DEVICE)\n",
        "            labels = labels.to(DEVICE)\n",
        "\n",
        "            # Forward Pass\n",
        "            outputs = best_net(images)\n",
        "\n",
        "            # Get predictions\n",
        "            _, preds = torch.max(outputs.data, 1)\n",
        "            \n",
        "            # Update Corrects\n",
        "            running_corrects += torch.sum(preds == labels.data).data.item()\n",
        "\n",
        "    # Calculate Accuracy\n",
        "    accuracy = running_corrects / float(len(val_dataset))\n",
        "    print('Accuracy {}\\n'.format(accuracy))\n",
        "\n",
        "    # Record loss and accuracy after each epoch\n",
        "    loss_hist.append(loss.item())\n",
        "    acc_hist.append(accuracy)"
      ],
      "execution_count": 21,
      "outputs": [
        {
          "output_type": "stream",
          "text": [
            "Starting epoch 1/30, LR = [0.1]\n",
            "Step 0, Loss 4.624452590942383\n",
            "Step 10, Loss 4.465866565704346\n",
            "Accuracy 0.09197786998616875\n",
            "\n",
            "Starting epoch 2/30, LR = [0.1]\n",
            "Step 20, Loss 4.425328254699707\n",
            "Accuracy 0.09232365145228216\n",
            "\n",
            "Starting epoch 3/30, LR = [0.1]\n",
            "Step 30, Loss 4.268335819244385\n",
            "Accuracy 0.09197786998616875\n",
            "\n",
            "Starting epoch 4/30, LR = [0.1]\n",
            "Step 40, Loss 4.085280418395996\n",
            "Accuracy 0.09232365145228216\n",
            "\n",
            "Starting epoch 5/30, LR = [0.1]\n",
            "Step 50, Loss 4.136882305145264\n",
            "Accuracy 0.09232365145228216\n",
            "\n",
            "Starting epoch 6/30, LR = [0.1]\n",
            "Step 60, Loss 4.123317241668701\n",
            "Accuracy 0.09232365145228216\n",
            "\n",
            "Starting epoch 7/30, LR = [0.1]\n",
            "Step 70, Loss 4.169169902801514\n",
            "Accuracy 0.16701244813278007\n",
            "\n",
            "Starting epoch 8/30, LR = [0.1]\n",
            "Step 80, Loss 3.807194471359253\n",
            "Accuracy 0.16701244813278007\n",
            "\n",
            "Starting epoch 9/30, LR = [0.1]\n",
            "Step 90, Loss 3.985321521759033\n",
            "Accuracy 0.16701244813278007\n",
            "\n",
            "Starting epoch 10/30, LR = [0.1]\n",
            "Step 100, Loss 4.368847370147705\n",
            "Accuracy 0.16701244813278007\n",
            "\n",
            "Starting epoch 11/30, LR = [0.1]\n",
            "Step 110, Loss 4.202473163604736\n",
            "Step 120, Loss 4.039583206176758\n",
            "Accuracy 0.16701244813278007\n",
            "\n",
            "Starting epoch 12/30, LR = [0.1]\n",
            "Step 130, Loss 4.091739177703857\n",
            "Accuracy 0.16701244813278007\n",
            "\n",
            "Starting epoch 13/30, LR = [0.1]\n",
            "Step 140, Loss 3.716832160949707\n",
            "Accuracy 0.21300138312586445\n",
            "\n",
            "Starting epoch 14/30, LR = [0.1]\n",
            "Step 150, Loss 3.700843334197998\n",
            "Accuracy 0.21300138312586445\n",
            "\n",
            "Starting epoch 15/30, LR = [0.1]\n",
            "Step 160, Loss 4.171535491943359\n",
            "Accuracy 0.21300138312586445\n",
            "\n",
            "Starting epoch 16/30, LR = [0.1]\n",
            "Step 170, Loss 3.9825422763824463\n",
            "Accuracy 0.21300138312586445\n",
            "\n",
            "Starting epoch 17/30, LR = [0.1]\n",
            "Step 180, Loss 3.7954118251800537\n",
            "Accuracy 0.21300138312586445\n",
            "\n",
            "Starting epoch 18/30, LR = [0.1]\n",
            "Step 190, Loss 3.7672345638275146\n",
            "Accuracy 0.2517289073305671\n",
            "\n",
            "Starting epoch 19/30, LR = [0.1]\n",
            "Step 200, Loss 3.373216152191162\n",
            "Accuracy 0.2517289073305671\n",
            "\n",
            "Starting epoch 20/30, LR = [0.1]\n",
            "Step 210, Loss 3.2636868953704834\n",
            "Accuracy 0.2517289073305671\n",
            "\n",
            "Starting epoch 21/30, LR = [0.010000000000000002]\n",
            "Step 220, Loss 3.334961414337158\n",
            "Step 230, Loss 3.092862367630005\n",
            "Accuracy 0.2883817427385892\n",
            "\n",
            "Starting epoch 22/30, LR = [0.010000000000000002]\n",
            "Step 240, Loss 3.076399803161621\n",
            "Accuracy 0.31500691562932226\n",
            "\n",
            "Starting epoch 23/30, LR = [0.010000000000000002]\n",
            "Step 250, Loss 2.8354310989379883\n",
            "Accuracy 0.31500691562932226\n",
            "\n",
            "Starting epoch 24/30, LR = [0.010000000000000002]\n",
            "Step 260, Loss 2.7190701961517334\n",
            "Accuracy 0.33713692946058094\n",
            "\n",
            "Starting epoch 25/30, LR = [0.010000000000000002]\n",
            "Step 270, Loss 2.7456462383270264\n",
            "Accuracy 0.33990318118948826\n",
            "\n",
            "Starting epoch 26/30, LR = [0.010000000000000002]\n",
            "Step 280, Loss 2.469254732131958\n",
            "Accuracy 0.33990318118948826\n",
            "\n",
            "Starting epoch 27/30, LR = [0.010000000000000002]\n",
            "Step 290, Loss 2.3728301525115967\n",
            "Accuracy 0.3647994467496542\n",
            "\n",
            "Starting epoch 28/30, LR = [0.010000000000000002]\n",
            "Step 300, Loss 2.1777515411376953\n",
            "Accuracy 0.3751728907330567\n",
            "\n",
            "Starting epoch 29/30, LR = [0.010000000000000002]\n",
            "Step 310, Loss 2.1038098335266113\n",
            "Accuracy 0.3751728907330567\n",
            "\n",
            "Starting epoch 30/30, LR = [0.010000000000000002]\n",
            "Step 320, Loss 2.1590654850006104\n",
            "Accuracy 0.3793222683264177\n",
            "\n"
          ],
          "name": "stdout"
        }
      ]
    },
    {
      "cell_type": "code",
      "metadata": {
        "id": "6aaGZ75sE1sI",
        "colab_type": "code",
        "colab": {}
      },
      "source": [
        "import matplotlib.pyplot as plt"
      ],
      "execution_count": 0,
      "outputs": []
    },
    {
      "cell_type": "code",
      "metadata": {
        "colab_type": "code",
        "outputId": "b029d1d1-0c8a-4458-94eb-1de4edd0e413",
        "id": "TtYQFTjef9rd",
        "colab": {
          "base_uri": "https://localhost:8080/",
          "height": 573
        }
      },
      "source": [
        "plt.plot(loss_hist)\n",
        "plt.title('Loss VS Epochs')\n",
        "plt.xlabel('epoch')\n",
        "plt.ylabel('loss')\n",
        "plt.show()\n",
        "\n",
        "plt.plot(acc_hist)\n",
        "plt.title('Accuracy VS Epochs')\n",
        "plt.xlabel('epoch')\n",
        "plt.ylabel('accuracy')\n",
        "plt.show()"
      ],
      "execution_count": 24,
      "outputs": [
        {
          "output_type": "display_data",
          "data": {
            "image/png": "[encoded data removed]",
            "text/plain": [
              "<Figure size 432x288 with 1 Axes>"
            ]
          },
          "metadata": {
            "tags": [],
            "needs_background": "light"
          }
        },
        {
          "output_type": "display_data",
          "data": {
            "image/png": "[encoded data removed]",
            "text/plain": [
              "<Figure size 432x288 with 1 Axes>"
            ]
          },
          "metadata": {
            "tags": [],
            "needs_background": "light"
          }
        }
      ]
    },
    {
      "cell_type": "markdown",
      "metadata": {
        "colab_type": "text",
        "id": "nPIq4UPQfT28"
      },
      "source": [
        "**Test**"
      ]
    },
    {
      "cell_type": "code",
      "metadata": {
        "colab_type": "code",
        "outputId": "f70ee70e-ffc9-401a-badc-66e5af45e2db",
        "id": "EzXANkEsfT29",
        "colab": {
          "base_uri": "https://localhost:8080/",
          "height": 53
        }
      },
      "source": [
        "best_net = best_net.to(DEVICE) # this will bring the network to GPU if DEVICE is cuda\n",
        "best_net.train(False) # Set Network to evaluation mode\n",
        "\n",
        "running_corrects = 0\n",
        "for images, labels in tqdm(test_dataloader):\n",
        "  images = images.to(DEVICE)\n",
        "  labels = labels.to(DEVICE)\n",
        "\n",
        "  # Forward Pass\n",
        "  outputs = best_net(images)\n",
        "\n",
        "  # Get predictions\n",
        "  _, preds = torch.max(outputs.data, 1)\n",
        "\n",
        "  # Update Corrects\n",
        "  running_corrects += torch.sum(preds == labels.data).data.item()\n",
        "\n",
        "# Calculate Accuracy\n",
        "accuracy = running_corrects / float(len(test_dataset))\n",
        "\n",
        "print('Test Accuracy: {}'.format(accuracy))"
      ],
      "execution_count": 25,
      "outputs": [
        {
          "output_type": "stream",
          "text": [
            "100%|██████████| 12/12 [00:11<00:00,  1.07it/s]"
          ],
          "name": "stderr"
        },
        {
          "output_type": "stream",
          "text": [
            "Test Accuracy: 0.39094365710335294\n"
          ],
          "name": "stdout"
        },
        {
          "output_type": "stream",
          "text": [
            "\n"
          ],
          "name": "stderr"
        }
      ]
    },
    {
      "cell_type": "markdown",
      "metadata": {
        "colab_type": "text",
        "id": "0x7wnNxHgdCW"
      },
      "source": [
        "## Hyperparameter set 2"
      ]
    },
    {
      "cell_type": "markdown",
      "metadata": {
        "colab_type": "text",
        "id": "PolUVG30gdCb"
      },
      "source": [
        "| Current hyperparameters | Value |\n",
        "| --- | --- |\n",
        "| Initial learning rate | 0.1 |\n",
        "| Decaying policy | StepLR |\n",
        "| Decaying step size | 10 epochs |\n",
        "| Decaying factor | 0.3 |\n",
        "| Optimiser | SGD |\n",
        "| Epochs | 30 |"
      ]
    },
    {
      "cell_type": "code",
      "metadata": {
        "colab_type": "code",
        "id": "HpuKrwLPgdCd",
        "colab": {}
      },
      "source": [
        "LR = 0.1             # The initial Learning Rate\n",
        "MOMENTUM = 0.9       # Hyperparameter for SGD, keep this at 0.9 when using SGD\n",
        "WEIGHT_DECAY = 5e-5  # Regularization, you can keep this at the default\n",
        "\n",
        "NUM_EPOCHS = 30      # Total number of training epochs (iterations over dataset)\n",
        "STEP_SIZE = 10       # How many epochs before decreasing learning rate (if using a step-down policy)\n",
        "GAMMA = 0.3          # Multiplicative factor for learning rate step-down\n",
        "\n",
        "LOG_FREQUENCY = 10"
      ],
      "execution_count": 0,
      "outputs": []
    },
    {
      "cell_type": "markdown",
      "metadata": {
        "colab_type": "text",
        "id": "ATvo2l0WgdCh"
      },
      "source": [
        "**Prepare Network**"
      ]
    },
    {
      "cell_type": "code",
      "metadata": {
        "colab_type": "code",
        "id": "83a81QvTgdCh",
        "colab": {}
      },
      "source": [
        "net = alexnet() # Loading AlexNet model\n",
        "\n",
        "# AlexNet has 1000 output neurons, corresponding to the 1000 ImageNet's classes\n",
        "# We need 101 outputs for Caltech-101\n",
        "net.classifier[6] = nn.Linear(4096, NUM_CLASSES) # nn.Linear in pytorch is a fully connected layer\n",
        "                                                 # The convolutional layer is nn.Conv2d\n",
        "\n",
        "# We just changed the last layer of AlexNet with a new fully connected layer with 101 outputs\n",
        "# It is strongly suggested to study torchvision.models.alexnet source code"
      ],
      "execution_count": 0,
      "outputs": []
    },
    {
      "cell_type": "markdown",
      "metadata": {
        "colab_type": "text",
        "id": "-xyVNGUUgdCl"
      },
      "source": [
        "**Prepare Training**"
      ]
    },
    {
      "cell_type": "code",
      "metadata": {
        "colab_type": "code",
        "id": "3ratibtRgdCm",
        "colab": {}
      },
      "source": [
        "# Define loss function\n",
        "criterion = nn.CrossEntropyLoss() # for classification, we use Cross Entropy\n",
        "\n",
        "# Choose parameters to optimize\n",
        "# To access a different set of parameters, you have to access submodules of AlexNet\n",
        "# (nn.Module objects, like AlexNet, implement the Composite Pattern)\n",
        "# e.g.: parameters of the fully connected layers: net.classifier.parameters()\n",
        "# e.g.: parameters of the convolutional layers: look at alexnet's source code ;) \n",
        "parameters_to_optimize = net.parameters() # In this case we optimize over all the parameters of AlexNet\n",
        "\n",
        "# Define optimizer\n",
        "# An optimizer updates the weights based on loss\n",
        "# We use SGD with momentum\n",
        "optimizer = optim.SGD(parameters_to_optimize, lr=LR, momentum=MOMENTUM, weight_decay=WEIGHT_DECAY)\n",
        "\n",
        "# Define scheduler\n",
        "# A scheduler dynamically changes learning rate\n",
        "# The most common schedule is the step(-down), which multiplies learning rate by gamma every STEP_SIZE epochs\n",
        "scheduler = optim.lr_scheduler.StepLR(optimizer, step_size=STEP_SIZE, gamma=GAMMA)"
      ],
      "execution_count": 0,
      "outputs": []
    },
    {
      "cell_type": "code",
      "metadata": {
        "colab_type": "code",
        "id": "3Ua1OieUgdCq",
        "colab": {}
      },
      "source": [
        "from copy import deepcopy\n",
        "\n",
        "loss_hist = []\n",
        "acc_hist = []\n",
        "\n",
        "# By default, everything is loaded to cpu\n",
        "net = net.to(DEVICE) # this will bring the network to GPU if DEVICE is cuda\n",
        "cudnn.benchmark     # Calling this optimizes runtime\n",
        "\n",
        "current_step = 0"
      ],
      "execution_count": 0,
      "outputs": []
    },
    {
      "cell_type": "code",
      "metadata": {
        "colab_type": "code",
        "outputId": "5c7cbb2c-76b6-468f-ac38-22582e8f6cf4",
        "id": "Etoe4bCcgdCt",
        "colab": {
          "base_uri": "https://localhost:8080/",
          "height": 1000
        }
      },
      "source": [
        "# Start iterating over the epochs\n",
        "for epoch in range(NUM_EPOCHS):\n",
        "    print('Starting epoch {}/{}, LR = {}'.format(\n",
        "        epoch+1, NUM_EPOCHS, optimizer.param_groups[0]['lr']))\n",
        "\n",
        "    # Train part\n",
        "    net.train() # Sets module in training mode\n",
        "\n",
        "    # Iterate over the dataset\n",
        "    for images, labels in train_dataloader:\n",
        "        # Bring data over the device of choice\n",
        "        images = images.to(DEVICE)\n",
        "        labels = labels.to(DEVICE)\n",
        "\n",
        "        # PyTorch, by default, accumulates gradients after each backward pass\n",
        "        # We need to manually set the gradients to zero before starting a new iteration\n",
        "        optimizer.zero_grad() # Zero-ing the gradients\n",
        "\n",
        "        # Forward pass to the network\n",
        "        outputs = net(images)\n",
        "\n",
        "        # Compute loss based on output and ground truth\n",
        "        loss = criterion(outputs, labels)\n",
        "\n",
        "        # Log loss\n",
        "        if current_step % LOG_FREQUENCY == 0:\n",
        "            print('Step {}, Loss {}'.format(current_step, loss.item()))\n",
        "\n",
        "        # Compute gradients for each layer and update weights\n",
        "        loss.backward()  # backward pass: computes gradients\n",
        "        optimizer.step() # update weights based on accumulated gradients\n",
        "\n",
        "        current_step += 1\n",
        "\n",
        "    # Step the scheduler\n",
        "    scheduler.step() \n",
        "\n",
        "    # Use the best model for validation\n",
        "    if not loss_hist or loss.item() < min(loss_hist):\n",
        "        best_net = deepcopy(net)\n",
        "\n",
        "    # Record loss after each epoch\n",
        "\n",
        "    # Validation part\n",
        "    best_net.train(False) # Set Network to evaluation mode\n",
        "\n",
        "    running_corrects = 0\n",
        "    with torch.no_grad():\n",
        "        for images, labels in val_dataloader:\n",
        "            images = images.to(DEVICE)\n",
        "            labels = labels.to(DEVICE)\n",
        "\n",
        "            # Forward Pass\n",
        "            outputs = best_net(images)\n",
        "\n",
        "            # Get predictions\n",
        "            _, preds = torch.max(outputs.data, 1)\n",
        "            \n",
        "            # Update Corrects\n",
        "            running_corrects += torch.sum(preds == labels.data).data.item()\n",
        "\n",
        "    # Calculate Accuracy\n",
        "    accuracy = running_corrects / float(len(val_dataset))\n",
        "    print('Accuracy {}\\n'.format(accuracy))\n",
        "\n",
        "    # Record loss and accuracy after each epoch\n",
        "    loss_hist.append(loss.item())\n",
        "    acc_hist.append(accuracy)"
      ],
      "execution_count": 15,
      "outputs": [
        {
          "output_type": "stream",
          "text": [
            "Starting epoch 1/30, LR = 0.1\n",
            "Step 0, Loss 4.626758098602295\n",
            "Step 10, Loss 4.489613056182861\n",
            "Accuracy 0.09197786998616875\n",
            "\n",
            "Starting epoch 2/30, LR = 0.1\n",
            "Step 20, Loss 4.47728157043457\n",
            "Accuracy 0.09232365145228216\n",
            "\n",
            "Starting epoch 3/30, LR = 0.1\n",
            "Step 30, Loss 4.366040229797363\n",
            "Accuracy 0.09232365145228216\n",
            "\n",
            "Starting epoch 4/30, LR = 0.1\n",
            "Step 40, Loss 4.136793613433838\n",
            "Accuracy 0.09232365145228216\n",
            "\n",
            "Starting epoch 5/30, LR = 0.1\n",
            "Step 50, Loss 4.1496782302856445\n",
            "Accuracy 0.09232365145228216\n",
            "\n",
            "Starting epoch 6/30, LR = 0.1\n",
            "Step 60, Loss 3.923895835876465\n",
            "Accuracy 0.17946058091286307\n",
            "\n",
            "Starting epoch 7/30, LR = 0.1\n",
            "Step 70, Loss 4.11142635345459\n",
            "Accuracy 0.17946058091286307\n",
            "\n",
            "Starting epoch 8/30, LR = 0.1\n",
            "Step 80, Loss 4.246984004974365\n",
            "Accuracy 0.17946058091286307\n",
            "\n",
            "Starting epoch 9/30, LR = 0.1\n",
            "Step 90, Loss 4.18563175201416\n",
            "Accuracy 0.17946058091286307\n",
            "\n",
            "Starting epoch 10/30, LR = 0.1\n",
            "Step 100, Loss 4.118852138519287\n",
            "Accuracy 0.17946058091286307\n",
            "\n",
            "Starting epoch 11/30, LR = 0.03\n",
            "Step 110, Loss 4.231114387512207\n",
            "Step 120, Loss 4.130837440490723\n",
            "Accuracy 0.17946058091286307\n",
            "\n",
            "Starting epoch 12/30, LR = 0.03\n",
            "Step 130, Loss 3.8893213272094727\n",
            "Accuracy 0.19052558782849238\n",
            "\n",
            "Starting epoch 13/30, LR = 0.03\n",
            "Step 140, Loss 4.095027923583984\n",
            "Accuracy 0.19571230982019364\n",
            "\n",
            "Starting epoch 14/30, LR = 0.03\n",
            "Step 150, Loss 3.964977979660034\n",
            "Accuracy 0.20159059474412172\n",
            "\n",
            "Starting epoch 15/30, LR = 0.03\n",
            "Step 160, Loss 3.9029181003570557\n",
            "Accuracy 0.20262793914246197\n",
            "\n",
            "Starting epoch 16/30, LR = 0.03\n",
            "Step 170, Loss 3.8612661361694336\n",
            "Accuracy 0.2053941908713693\n",
            "\n",
            "Starting epoch 17/30, LR = 0.03\n",
            "Step 180, Loss 3.799712896347046\n",
            "Accuracy 0.21161825726141079\n",
            "\n",
            "Starting epoch 18/30, LR = 0.03\n",
            "Step 190, Loss 3.826436996459961\n",
            "Accuracy 0.21161825726141079\n",
            "\n",
            "Starting epoch 19/30, LR = 0.03\n",
            "Step 200, Loss 3.435218334197998\n",
            "Accuracy 0.22337482710926695\n",
            "\n",
            "Starting epoch 20/30, LR = 0.03\n",
            "Step 210, Loss 3.54567813873291\n",
            "Accuracy 0.22337482710926695\n",
            "\n",
            "Starting epoch 21/30, LR = 0.009\n",
            "Step 220, Loss 3.677186965942383\n",
            "Step 230, Loss 3.6177401542663574\n",
            "Accuracy 0.21991701244813278\n",
            "\n",
            "Starting epoch 22/30, LR = 0.009\n",
            "Step 240, Loss 3.680948495864868\n",
            "Accuracy 0.21991701244813278\n",
            "\n",
            "Starting epoch 23/30, LR = 0.009\n",
            "Step 250, Loss 3.4521002769470215\n",
            "Accuracy 0.21991701244813278\n",
            "\n",
            "Starting epoch 24/30, LR = 0.009\n",
            "Step 260, Loss 3.2988486289978027\n",
            "Accuracy 0.2389349930843707\n",
            "\n",
            "Starting epoch 25/30, LR = 0.009\n",
            "Step 270, Loss 3.4009220600128174\n",
            "Accuracy 0.24515905947441216\n",
            "\n",
            "Starting epoch 26/30, LR = 0.009\n",
            "Step 280, Loss 3.393264055252075\n",
            "Accuracy 0.24550484094052558\n",
            "\n",
            "Starting epoch 27/30, LR = 0.009\n",
            "Step 290, Loss 3.3692452907562256\n",
            "Accuracy 0.24515905947441216\n",
            "\n",
            "Starting epoch 28/30, LR = 0.009\n",
            "Step 300, Loss 3.1959869861602783\n",
            "Accuracy 0.24515905947441216\n",
            "\n",
            "Starting epoch 29/30, LR = 0.009\n",
            "Step 310, Loss 3.212736129760742\n",
            "Accuracy 0.26141078838174275\n",
            "\n",
            "Starting epoch 30/30, LR = 0.009\n",
            "Step 320, Loss 3.0523948669433594\n",
            "Accuracy 0.26141078838174275\n",
            "\n"
          ],
          "name": "stdout"
        }
      ]
    },
    {
      "cell_type": "code",
      "metadata": {
        "id": "JVgGLjNjbSmp",
        "colab_type": "code",
        "colab": {}
      },
      "source": [
        "import matplotlib.pyplot as plt"
      ],
      "execution_count": 0,
      "outputs": []
    },
    {
      "cell_type": "code",
      "metadata": {
        "colab_type": "code",
        "outputId": "9b040597-c6ba-4532-f73c-3b69719eebbb",
        "id": "HBAdsiwzgdCx",
        "colab": {
          "base_uri": "https://localhost:8080/",
          "height": 573
        }
      },
      "source": [
        "plt.plot(loss_hist)\n",
        "plt.title('Loss VS Epochs')\n",
        "plt.xlabel('epoch')\n",
        "plt.ylabel('loss')\n",
        "plt.show()\n",
        "\n",
        "plt.plot(acc_hist)\n",
        "plt.title('Accuracy VS Epochs')\n",
        "plt.xlabel('epoch')\n",
        "plt.ylabel('accuracy')\n",
        "plt.show()"
      ],
      "execution_count": 18,
      "outputs": [
        {
          "output_type": "display_data",
          "data": {
            "image/png": "[encoded data removed]",
            "text/plain": [
              "<Figure size 432x288 with 1 Axes>"
            ]
          },
          "metadata": {
            "tags": [],
            "needs_background": "light"
          }
        },
        {
          "output_type": "display_data",
          "data": {
            "image/png": "[encoded data removed]",
            "text/plain": [
              "<Figure size 432x288 with 1 Axes>"
            ]
          },
          "metadata": {
            "tags": [],
            "needs_background": "light"
          }
        }
      ]
    },
    {
      "cell_type": "markdown",
      "metadata": {
        "colab_type": "text",
        "id": "jEv_9igHgdCz"
      },
      "source": [
        "**Test**"
      ]
    },
    {
      "cell_type": "code",
      "metadata": {
        "colab_type": "code",
        "id": "ixjCkcv5gdCz",
        "colab": {
          "base_uri": "https://localhost:8080/",
          "height": 53
        },
        "outputId": "674c0673-0d9f-4f31-b4ed-52ccbaa8e58b"
      },
      "source": [
        "best_net = best_net.to(DEVICE) # this will bring the network to GPU if DEVICE is cuda\n",
        "best_net.train(False) # Set Network to evaluation mode\n",
        "\n",
        "running_corrects = 0\n",
        "for images, labels in tqdm(test_dataloader):\n",
        "  images = images.to(DEVICE)\n",
        "  labels = labels.to(DEVICE)\n",
        "\n",
        "  # Forward Pass\n",
        "  outputs = best_net(images)\n",
        "\n",
        "  # Get predictions\n",
        "  _, preds = torch.max(outputs.data, 1)\n",
        "\n",
        "  # Update Corrects\n",
        "  running_corrects += torch.sum(preds == labels.data).data.item()\n",
        "\n",
        "# Calculate Accuracy\n",
        "accuracy = running_corrects / float(len(test_dataset))\n",
        "\n",
        "print('Test Accuracy: {}'.format(accuracy))"
      ],
      "execution_count": 19,
      "outputs": [
        {
          "output_type": "stream",
          "text": [
            "100%|██████████| 12/12 [00:11<00:00,  1.05it/s]"
          ],
          "name": "stderr"
        },
        {
          "output_type": "stream",
          "text": [
            "Test Accuracy: 0.27134462495679224\n"
          ],
          "name": "stdout"
        },
        {
          "output_type": "stream",
          "text": [
            "\n"
          ],
          "name": "stderr"
        }
      ]
    },
    {
      "cell_type": "markdown",
      "metadata": {
        "id": "J2hnXDORbnmo",
        "colab_type": "text"
      },
      "source": [
        "# Transfer learning and Data Augmentation"
      ]
    },
    {
      "cell_type": "markdown",
      "metadata": {
        "colab_type": "text",
        "id": "OMWSPyeISY_J"
      },
      "source": [
        "### Hyperparameter set 1"
      ]
    },
    {
      "cell_type": "markdown",
      "metadata": {
        "colab_type": "text",
        "id": "l1h6qDGYrjbb"
      },
      "source": [
        "| Current hyperparameters | Value |\n",
        "| --- | --- |\n",
        "| Initial learning rate | 0.001 |\n",
        "| Decaying policy | StepLR |\n",
        "| Decaying step size | 10 epochs |\n",
        "| Decaying factor | 0.1 |\n",
        "| Optimiser | SGD |\n",
        "| Epochs | 30 |\n",
        "\n"
      ]
    },
    {
      "cell_type": "markdown",
      "metadata": {
        "colab_type": "text",
        "id": "Fra3ahOMvZCz"
      },
      "source": [
        "**Set Arguments**"
      ]
    },
    {
      "cell_type": "code",
      "metadata": {
        "colab_type": "code",
        "id": "ITRKNpD0vZC0",
        "colab": {}
      },
      "source": [
        "DEVICE = 'cuda' # 'cuda' or 'cpu'\n",
        "\n",
        "NUM_CLASSES = 102 # 101 + 1: There is an extra Background class that should be removed \n",
        "\n",
        "BATCH_SIZE = 256     # Higher batch sizes allows for larger learning rates. An empirical heuristic suggests that, when changing\n",
        "                     # the batch size, learning rate should change by the same factor to have comparable results\n",
        "\n",
        "LR = 1e-3            # The initial Learning Rate\n",
        "MOMENTUM = 0.9       # Hyperparameter for SGD, keep this at 0.9 when using SGD\n",
        "WEIGHT_DECAY = 5e-5  # Regularization, you can keep this at the default\n",
        "\n",
        "NUM_EPOCHS = 30      # Total number of training epochs (iterations over dataset)\n",
        "STEP_SIZE = 10       # How many epochs before decreasing learning rate (if using a step-down policy)\n",
        "GAMMA = 0.1          # Multiplicative factor for learning rate step-down\n",
        "\n",
        "LOG_FREQUENCY = 10"
      ],
      "execution_count": 0,
      "outputs": []
    },
    {
      "cell_type": "markdown",
      "metadata": {
        "colab_type": "text",
        "id": "DgXC41FBq2TN"
      },
      "source": [
        "**Define Data Preprocessing**"
      ]
    },
    {
      "cell_type": "code",
      "metadata": {
        "id": "GhV2nL2ibiCU",
        "colab_type": "code",
        "colab": {}
      },
      "source": [
        "train_transform = transforms.Compose([transforms.Resize(256),      # Resizes short size of the PIL image to 256\n",
        "                                      transforms.RandomCrop(224),  # Data Augmentation\n",
        "                                      transforms.RandomHorizontalFlip(),    # Data Augmentation\n",
        "                                      transforms.ColorJitter(),    # Data Augmentation\n",
        "                                      transforms.ToTensor(),       # Turn PIL Image to torch.Tensor\n",
        "                                      transforms.Normalize([0.485, 0.456, 0.406], [0.229, 0.224, 0.225]) # Normalizes tensor with mean and standard deviation\n",
        "])\n",
        "\n",
        "eval_transform = transforms.Compose([transforms.Resize(256),      # Resizes short size of the PIL image to 256\n",
        "                                      transforms.CenterCrop(224),  # Crops a central square patch of the image\n",
        "                                                                   # 224 because torchvision's AlexNet needs a 224x224 input!\n",
        "                                                                   # Remember this when applying different transformations, otherwise you get an error\n",
        "                                      transforms.ToTensor(),       # Turn PIL Image to torch.Tensor\n",
        "                                      transforms.Normalize([0.485, 0.456, 0.406], [0.229, 0.224, 0.225]) # Normalizes tensor with mean and standard deviation\n",
        "])"
      ],
      "execution_count": 0,
      "outputs": []
    },
    {
      "cell_type": "markdown",
      "metadata": {
        "colab_type": "text",
        "id": "T8NnOM6mvda5"
      },
      "source": [
        "**Prepare Dataset**"
      ]
    },
    {
      "cell_type": "code",
      "metadata": {
        "colab_type": "code",
        "id": "FiVyLR5frTu9",
        "colab": {}
      },
      "source": [
        "# Clone github repository with data\n",
        "if not os.path.isdir('./Caltech101'):\n",
        "#   !git clone https://github.com/MachineLearning2020/Homework2-Caltech101.git\n",
        "    !git clone https://github.com/Barrel-Titor/Homework2-Caltech101.git\n",
        "    !mv 'Homework2-Caltech101' 'Caltech101'\n",
        "\n",
        "DATA_DIR = 'Caltech101/101_ObjectCategories'"
      ],
      "execution_count": 0,
      "outputs": []
    },
    {
      "cell_type": "code",
      "metadata": {
        "colab_type": "code",
        "outputId": "e21a49a9-bfab-491e-de99-db13ffb7b8e5",
        "id": "O6f55c9Ovda5",
        "colab": {
          "base_uri": "https://localhost:8080/",
          "height": 71
        }
      },
      "source": [
        "from Caltech101.caltech_dataset import Caltech\n",
        "\n",
        "# Prepare Pytorch train/test Datasets\n",
        "train_val_dataset = Caltech(DATA_DIR, split='train',  transform=train_transform)\n",
        "test_dataset = Caltech(DATA_DIR, split='test', transform=eval_transform)\n",
        "\n",
        "train_indexes = list(range(0, len(train_val_dataset), 2))   # split the indices for your train split\n",
        "val_indexes = list(range(1, len(train_val_dataset), 2))     # split the indices for your val split\n",
        "\n",
        "train_dataset = Subset(train_val_dataset, train_indexes)\n",
        "val_dataset = Subset(train_val_dataset, val_indexes)\n",
        "\n",
        "# Check dataset sizes\n",
        "print('Train Dataset: {}'.format(len(train_dataset)))\n",
        "print('Valid Dataset: {}'.format(len(val_dataset)))\n",
        "print('Test Dataset: {}'.format(len(test_dataset)))"
      ],
      "execution_count": 11,
      "outputs": [
        {
          "output_type": "stream",
          "text": [
            "Train Dataset: 2892\n",
            "Valid Dataset: 2892\n",
            "Test Dataset: 2893\n"
          ],
          "name": "stdout"
        }
      ]
    },
    {
      "cell_type": "markdown",
      "metadata": {
        "colab_type": "text",
        "id": "r7MDO2f5vda9"
      },
      "source": [
        "**Prepare Dataloaders**"
      ]
    },
    {
      "cell_type": "code",
      "metadata": {
        "colab_type": "code",
        "id": "BeBLPDFpvda9",
        "colab": {}
      },
      "source": [
        "# Dataloaders iterate over pytorch datasets and transparently provide useful functions (e.g. parallelization and shuffling)\n",
        "train_dataloader = DataLoader(train_dataset, batch_size=BATCH_SIZE, shuffle=True, num_workers=4, drop_last=True)\n",
        "val_dataloader = DataLoader(val_dataset, batch_size=BATCH_SIZE, shuffle=False, num_workers=4)\n",
        "test_dataloader = DataLoader(test_dataset, batch_size=BATCH_SIZE, shuffle=False, num_workers=4)"
      ],
      "execution_count": 0,
      "outputs": []
    },
    {
      "cell_type": "markdown",
      "metadata": {
        "colab_type": "text",
        "id": "vTt8uEjrvda_"
      },
      "source": [
        "**Prepare Network**"
      ]
    },
    {
      "cell_type": "code",
      "metadata": {
        "id": "BYfKQVYtsfds",
        "colab_type": "code",
        "colab": {}
      },
      "source": [
        "# Loading AlexNet model\n",
        "net = alexnet(pretrained=True) "
      ],
      "execution_count": 0,
      "outputs": []
    },
    {
      "cell_type": "code",
      "metadata": {
        "colab_type": "code",
        "id": "yleoRHJovda_",
        "colab": {}
      },
      "source": [
        "# AlexNet has 1000 output neurons, corresponding to the 1000 ImageNet's classes\n",
        "# We need 101 outputs for Caltech-101\n",
        "net.classifier[6] = nn.Linear(4096, NUM_CLASSES) # nn.Linear in pytorch is a fully connected layer\n",
        "                                                 # The convolutional layer is nn.Conv2d\n",
        "\n",
        "# We just changed the last layer of AlexNet with a new fully connected layer with 101 outputs\n",
        "# It is strongly suggested to study torchvision.models.alexnet source code"
      ],
      "execution_count": 0,
      "outputs": []
    },
    {
      "cell_type": "code",
      "metadata": {
        "id": "uCbitUJZN7W0",
        "colab_type": "code",
        "colab": {
          "base_uri": "https://localhost:8080/",
          "height": 503
        },
        "outputId": "28a5e19c-6c38-4d0b-e645-a524e7c451a5"
      },
      "source": [
        "net"
      ],
      "execution_count": 15,
      "outputs": [
        {
          "output_type": "execute_result",
          "data": {
            "text/plain": [
              "AlexNet(\n",
              "  (features): Sequential(\n",
              "    (0): Conv2d(3, 64, kernel_size=(11, 11), stride=(4, 4), padding=(2, 2))\n",
              "    (1): ReLU(inplace=True)\n",
              "    (2): MaxPool2d(kernel_size=3, stride=2, padding=0, dilation=1, ceil_mode=False)\n",
              "    (3): Conv2d(64, 192, kernel_size=(5, 5), stride=(1, 1), padding=(2, 2))\n",
              "    (4): ReLU(inplace=True)\n",
              "    (5): MaxPool2d(kernel_size=3, stride=2, padding=0, dilation=1, ceil_mode=False)\n",
              "    (6): Conv2d(192, 384, kernel_size=(3, 3), stride=(1, 1), padding=(1, 1))\n",
              "    (7): ReLU(inplace=True)\n",
              "    (8): Conv2d(384, 256, kernel_size=(3, 3), stride=(1, 1), padding=(1, 1))\n",
              "    (9): ReLU(inplace=True)\n",
              "    (10): Conv2d(256, 256, kernel_size=(3, 3), stride=(1, 1), padding=(1, 1))\n",
              "    (11): ReLU(inplace=True)\n",
              "    (12): MaxPool2d(kernel_size=3, stride=2, padding=0, dilation=1, ceil_mode=False)\n",
              "  )\n",
              "  (avgpool): AdaptiveAvgPool2d(output_size=(6, 6))\n",
              "  (classifier): Sequential(\n",
              "    (0): Dropout(p=0.5, inplace=False)\n",
              "    (1): Linear(in_features=9216, out_features=4096, bias=True)\n",
              "    (2): ReLU(inplace=True)\n",
              "    (3): Dropout(p=0.5, inplace=False)\n",
              "    (4): Linear(in_features=4096, out_features=4096, bias=True)\n",
              "    (5): ReLU(inplace=True)\n",
              "    (6): Linear(in_features=4096, out_features=102, bias=True)\n",
              "  )\n",
              ")"
            ]
          },
          "metadata": {
            "tags": []
          },
          "execution_count": 15
        }
      ]
    },
    {
      "cell_type": "markdown",
      "metadata": {
        "colab_type": "text",
        "id": "0M4n26MxrjbV"
      },
      "source": [
        "**Prepare Training**"
      ]
    },
    {
      "cell_type": "code",
      "metadata": {
        "colab_type": "code",
        "id": "BwT6z_HCrjbX",
        "colab": {}
      },
      "source": [
        "# Define loss function\n",
        "criterion = nn.CrossEntropyLoss() # for classification, we use Cross Entropy\n",
        "\n",
        "# Choose parameters to optimize\n",
        "# To access a different set of parameters, you have to access submodules of AlexNet\n",
        "# (nn.Module objects, like AlexNet, implement the Composite Pattern)\n",
        "# e.g.: parameters of the fully connected layers: net.classifier.parameters()\n",
        "# e.g.: parameters of the convolutional layers: look at alexnet's source code ;) \n",
        "parameters_to_optimize = net.parameters() # In this case we optimize over all the parameters of AlexNet\n",
        "\n",
        "# Define optimizer\n",
        "# An optimizer updates the weights based on loss\n",
        "# We use SGD with momentum\n",
        "optimizer = optim.SGD(parameters_to_optimize, lr=LR, momentum=MOMENTUM, weight_decay=WEIGHT_DECAY)\n",
        "\n",
        "# Define scheduler\n",
        "# A scheduler dynamically changes learning rate\n",
        "# The most common schedule is the step(-down), which multiplies learning rate by gamma every STEP_SIZE epochs\n",
        "scheduler = optim.lr_scheduler.StepLR(optimizer, step_size=STEP_SIZE, gamma=GAMMA)"
      ],
      "execution_count": 0,
      "outputs": []
    },
    {
      "cell_type": "markdown",
      "metadata": {
        "colab_type": "text",
        "id": "WnaK3A7Xrjba"
      },
      "source": [
        "**Train and Validation**"
      ]
    },
    {
      "cell_type": "code",
      "metadata": {
        "colab_type": "code",
        "id": "T__IC0m8rjbb",
        "colab": {}
      },
      "source": [
        "from copy import deepcopy\n",
        "\n",
        "loss_hist = []\n",
        "acc_hist = []\n",
        "\n",
        "# By default, everything is loaded to cpu\n",
        "net = net.to(DEVICE) # this will bring the network to GPU if DEVICE is cuda\n",
        "cudnn.benchmark     # Calling this optimizes runtime\n",
        "\n",
        "current_step = 0"
      ],
      "execution_count": 0,
      "outputs": []
    },
    {
      "cell_type": "code",
      "metadata": {
        "colab_type": "code",
        "outputId": "952830a0-8f87-4820-b464-5b2f3dfc168d",
        "id": "HuwVrmH6rjbd",
        "colab": {
          "base_uri": "https://localhost:8080/",
          "height": 1000
        }
      },
      "source": [
        "# Start iterating over the epochs\n",
        "for epoch in range(NUM_EPOCHS):\n",
        "    print('Starting epoch {}/{}, LR = {}'.format(epoch+1, NUM_EPOCHS, scheduler.get_last_lr()))\n",
        "\n",
        "    # Train part\n",
        "    net.train() # Sets module in training mode\n",
        "\n",
        "    # Iterate over the dataset\n",
        "    for images, labels in train_dataloader:\n",
        "        # Bring data over the device of choice\n",
        "        images = images.to(DEVICE)\n",
        "        labels = labels.to(DEVICE)\n",
        "\n",
        "        # PyTorch, by default, accumulates gradients after each backward pass\n",
        "        # We need to manually set the gradients to zero before starting a new iteration\n",
        "        optimizer.zero_grad() # Zero-ing the gradients\n",
        "\n",
        "        # Forward pass to the network\n",
        "        outputs = net(images)\n",
        "\n",
        "        # Compute loss based on output and ground truth\n",
        "        loss = criterion(outputs, labels)\n",
        "\n",
        "        # Log loss\n",
        "        if current_step % LOG_FREQUENCY == 0:\n",
        "            print('Step {}, Loss {}'.format(current_step, loss.item()))\n",
        "\n",
        "        # Compute gradients for each layer and update weights\n",
        "        loss.backward()  # backward pass: computes gradients\n",
        "        optimizer.step() # update weights based on accumulated gradients\n",
        "\n",
        "        current_step += 1\n",
        "\n",
        "    # Step the scheduler\n",
        "    scheduler.step() \n",
        "\n",
        "    # Use the best model for validation\n",
        "    if not loss_hist or loss.item() < min(loss_hist):\n",
        "        best_net = deepcopy(net)\n",
        "\n",
        "    # Record loss after each epoch\n",
        "\n",
        "    # Validation part\n",
        "    best_net.train(False) # Set Network to evaluation mode\n",
        "\n",
        "    running_corrects = 0\n",
        "    with torch.no_grad():\n",
        "        for images, labels in val_dataloader:\n",
        "            images = images.to(DEVICE)\n",
        "            labels = labels.to(DEVICE)\n",
        "\n",
        "            # Forward Pass\n",
        "            outputs = best_net(images)\n",
        "\n",
        "            # Get predictions\n",
        "            _, preds = torch.max(outputs.data, 1)\n",
        "            \n",
        "            # Update Corrects\n",
        "            running_corrects += torch.sum(preds == labels.data).data.item()\n",
        "\n",
        "    # Calculate Accuracy\n",
        "    accuracy = running_corrects / float(len(val_dataset))\n",
        "    print('Accuracy {}\\n'.format(accuracy))\n",
        "\n",
        "    # Record loss and accuracy after each epoch\n",
        "    loss_hist.append(loss.item())\n",
        "    acc_hist.append(accuracy)"
      ],
      "execution_count": 18,
      "outputs": [
        {
          "output_type": "stream",
          "text": [
            "Starting epoch 1/30, LR = [0.001]\n",
            "Step 0, Loss 4.983925819396973\n",
            "Step 10, Loss 3.253845691680908\n",
            "Accuracy 0.2869986168741355\n",
            "\n",
            "Starting epoch 2/30, LR = [0.001]\n",
            "Step 20, Loss 2.838451862335205\n",
            "Accuracy 0.4512448132780083\n",
            "\n",
            "Starting epoch 3/30, LR = [0.001]\n",
            "Step 30, Loss 2.124786615371704\n",
            "Accuracy 0.5622406639004149\n",
            "\n",
            "Starting epoch 4/30, LR = [0.001]\n",
            "Step 40, Loss 1.4385613203048706\n",
            "Accuracy 0.6614799446749654\n",
            "\n",
            "Starting epoch 5/30, LR = [0.001]\n",
            "Step 50, Loss 0.9223219752311707\n",
            "Accuracy 0.7444674965421854\n",
            "\n",
            "Starting epoch 6/30, LR = [0.001]\n",
            "Step 60, Loss 0.7460620999336243\n",
            "Accuracy 0.7690179806362379\n",
            "\n",
            "Starting epoch 7/30, LR = [0.001]\n",
            "Step 70, Loss 0.5016437768936157\n",
            "Accuracy 0.7852697095435685\n",
            "\n",
            "Starting epoch 8/30, LR = [0.001]\n",
            "Step 80, Loss 0.573759138584137\n",
            "Accuracy 0.8046334716459198\n",
            "\n",
            "Starting epoch 9/30, LR = [0.001]\n",
            "Step 90, Loss 0.39922985434532166\n",
            "Accuracy 0.8084370677731674\n",
            "\n",
            "Starting epoch 10/30, LR = [0.001]\n",
            "Step 100, Loss 0.355316162109375\n",
            "Accuracy 0.8029045643153527\n",
            "\n",
            "Starting epoch 11/30, LR = [0.0001]\n",
            "Step 110, Loss 0.3603885769844055\n",
            "Step 120, Loss 0.2540067732334137\n",
            "Accuracy 0.8067081604426003\n",
            "\n",
            "Starting epoch 12/30, LR = [0.0001]\n",
            "Step 130, Loss 0.2609853744506836\n",
            "Accuracy 0.809820193637621\n",
            "\n",
            "Starting epoch 13/30, LR = [0.0001]\n",
            "Step 140, Loss 0.23108923435211182\n",
            "Accuracy 0.8163900414937759\n",
            "\n",
            "Starting epoch 14/30, LR = [0.0001]\n",
            "Step 150, Loss 0.21353547275066376\n",
            "Accuracy 0.8184647302904564\n",
            "\n",
            "Starting epoch 15/30, LR = [0.0001]\n",
            "Step 160, Loss 0.2118622064590454\n",
            "Accuracy 0.813969571230982\n",
            "\n",
            "Starting epoch 16/30, LR = [0.0001]\n",
            "Step 170, Loss 0.23490069806575775\n",
            "Accuracy 0.8198478561549101\n",
            "\n",
            "Starting epoch 17/30, LR = [0.0001]\n",
            "Step 180, Loss 0.26812151074409485\n",
            "Accuracy 0.813969571230982\n",
            "\n",
            "Starting epoch 18/30, LR = [0.0001]\n",
            "Step 190, Loss 0.20599901676177979\n",
            "Accuracy 0.8125864453665284\n",
            "\n",
            "Starting epoch 19/30, LR = [0.0001]\n",
            "Step 200, Loss 0.1735369712114334\n",
            "Accuracy 0.8132780082987552\n",
            "\n",
            "Starting epoch 20/30, LR = [0.0001]\n",
            "Step 210, Loss 0.2350187599658966\n",
            "Accuracy 0.8188105117565698\n",
            "\n",
            "Starting epoch 21/30, LR = [1e-05]\n",
            "Step 220, Loss 0.3244004249572754\n",
            "Step 230, Loss 0.23026221990585327\n",
            "Accuracy 0.8188105117565698\n",
            "\n",
            "Starting epoch 22/30, LR = [1e-05]\n",
            "Step 240, Loss 0.2102244347333908\n",
            "Accuracy 0.813969571230982\n",
            "\n",
            "Starting epoch 23/30, LR = [1e-05]\n",
            "Step 250, Loss 0.23263779282569885\n",
            "Accuracy 0.8174273858921162\n",
            "\n",
            "Starting epoch 24/30, LR = [1e-05]\n",
            "Step 260, Loss 0.1632312685251236\n",
            "Accuracy 0.8156984785615491\n",
            "\n",
            "Starting epoch 25/30, LR = [1e-05]\n",
            "Step 270, Loss 0.1983594298362732\n",
            "Accuracy 0.8184647302904564\n",
            "\n",
            "Starting epoch 26/30, LR = [1e-05]\n",
            "Step 280, Loss 0.27111756801605225\n",
            "Accuracy 0.8236514522821576\n",
            "\n",
            "Starting epoch 27/30, LR = [1e-05]\n",
            "Step 290, Loss 0.13803407549858093\n",
            "Accuracy 0.8143153526970954\n",
            "\n",
            "Starting epoch 28/30, LR = [1e-05]\n",
            "Step 300, Loss 0.2487158626317978\n",
            "Accuracy 0.8167358229598893\n",
            "\n",
            "Starting epoch 29/30, LR = [1e-05]\n",
            "Step 310, Loss 0.1951482892036438\n",
            "Accuracy 0.8136237897648686\n",
            "\n",
            "Starting epoch 30/30, LR = [1e-05]\n",
            "Step 320, Loss 0.15634195506572723\n",
            "Accuracy 0.8184647302904564\n",
            "\n"
          ],
          "name": "stdout"
        }
      ]
    },
    {
      "cell_type": "code",
      "metadata": {
        "colab_type": "code",
        "id": "v2zyIh4Trjbg",
        "colab": {}
      },
      "source": [
        "import matplotlib.pyplot as plt"
      ],
      "execution_count": 0,
      "outputs": []
    },
    {
      "cell_type": "code",
      "metadata": {
        "colab_type": "code",
        "outputId": "b4b9e3e6-3624-4b99-fe99-39f6abd156b8",
        "id": "1IOgFaTerjbi",
        "colab": {
          "base_uri": "https://localhost:8080/",
          "height": 573
        }
      },
      "source": [
        "plt.plot(loss_hist)\n",
        "plt.title('Loss VS Epochs')\n",
        "plt.xlabel('epoch')\n",
        "plt.ylabel('loss')\n",
        "plt.show()\n",
        "\n",
        "plt.plot(acc_hist)\n",
        "plt.title('Accuracy VS Epochs')\n",
        "plt.xlabel('epoch')\n",
        "plt.ylabel('accuracy')\n",
        "plt.show()"
      ],
      "execution_count": 20,
      "outputs": [
        {
          "output_type": "display_data",
          "data": {
            "image/png": "[encoded data removed]",
            "text/plain": [
              "<Figure size 432x288 with 1 Axes>"
            ]
          },
          "metadata": {
            "tags": [],
            "needs_background": "light"
          }
        },
        {
          "output_type": "display_data",
          "data": {
            "image/png": "[encoded data removed]",
            "text/plain": [
              "<Figure size 432x288 with 1 Axes>"
            ]
          },
          "metadata": {
            "tags": [],
            "needs_background": "light"
          }
        }
      ]
    },
    {
      "cell_type": "markdown",
      "metadata": {
        "colab_type": "text",
        "id": "w7Yp5t0qrjbk"
      },
      "source": [
        "**Test**"
      ]
    },
    {
      "cell_type": "code",
      "metadata": {
        "colab_type": "code",
        "outputId": "8c44500a-2b94-44e5-c773-3880383ac833",
        "id": "g-jvELJyrjbk",
        "colab": {
          "base_uri": "https://localhost:8080/",
          "height": 53
        }
      },
      "source": [
        "best_net = best_net.to(DEVICE) # this will bring the network to GPU if DEVICE is cuda\n",
        "best_net.train(False) # Set Network to evaluation mode\n",
        "\n",
        "running_corrects = 0\n",
        "for images, labels in tqdm(test_dataloader):\n",
        "  images = images.to(DEVICE)\n",
        "  labels = labels.to(DEVICE)\n",
        "\n",
        "  # Forward Pass\n",
        "  outputs = best_net(images)\n",
        "\n",
        "  # Get predictions\n",
        "  _, preds = torch.max(outputs.data, 1)\n",
        "\n",
        "  # Update Corrects\n",
        "  running_corrects += torch.sum(preds == labels.data).data.item()\n",
        "\n",
        "# Calculate Accuracy\n",
        "accuracy = running_corrects / float(len(test_dataset))\n",
        "\n",
        "print('Test Accuracy: {}'.format(accuracy))"
      ],
      "execution_count": 21,
      "outputs": [
        {
          "output_type": "stream",
          "text": [
            "100%|██████████| 12/12 [00:13<00:00,  1.08s/it]"
          ],
          "name": "stderr"
        },
        {
          "output_type": "stream",
          "text": [
            "Test Accuracy: 0.8212927756653993\n"
          ],
          "name": "stdout"
        },
        {
          "output_type": "stream",
          "text": [
            "\n"
          ],
          "name": "stderr"
        }
      ]
    },
    {
      "cell_type": "markdown",
      "metadata": {
        "colab_type": "text",
        "id": "hyQp86tTS2Z0"
      },
      "source": [
        "## Hyperparameter set 2"
      ]
    },
    {
      "cell_type": "markdown",
      "metadata": {
        "colab_type": "text",
        "id": "YKDJk2LtS2Z1"
      },
      "source": [
        "| Current hyperparameters | Value |\n",
        "| --- | --- |\n",
        "| Initial learning rate | 0.001 |\n",
        "| Decaying policy | StepLR |\n",
        "| Decaying step size | 5 epochs |\n",
        "| Decaying factor | 0.1 |\n",
        "| Optimiser | SGD |\n",
        "| Epochs | 30 |\n",
        "\n"
      ]
    },
    {
      "cell_type": "markdown",
      "metadata": {
        "colab_type": "text",
        "id": "OJK8uMhqS2Z2"
      },
      "source": [
        "**Set Arguments**"
      ]
    },
    {
      "cell_type": "code",
      "metadata": {
        "colab_type": "code",
        "id": "57bHqF3zS2Z2",
        "colab": {}
      },
      "source": [
        "DEVICE = 'cuda' # 'cuda' or 'cpu'\n",
        "\n",
        "NUM_CLASSES = 102 # 101 + 1: There is an extra Background class that should be removed \n",
        "\n",
        "BATCH_SIZE = 256     # Higher batch sizes allows for larger learning rates. An empirical heuristic suggests that, when changing\n",
        "                     # the batch size, learning rate should change by the same factor to have comparable results\n",
        "\n",
        "LR = 1e-3            # The initial Learning Rate\n",
        "MOMENTUM = 0.9       # Hyperparameter for SGD, keep this at 0.9 when using SGD\n",
        "WEIGHT_DECAY = 5e-5  # Regularization, you can keep this at the default\n",
        "\n",
        "NUM_EPOCHS = 30      # Total number of training epochs (iterations over dataset)\n",
        "STEP_SIZE = 5        # How many epochs before decreasing learning rate (if using a step-down policy)\n",
        "GAMMA = 0.1          # Multiplicative factor for learning rate step-down\n",
        "\n",
        "LOG_FREQUENCY = 10"
      ],
      "execution_count": 0,
      "outputs": []
    },
    {
      "cell_type": "markdown",
      "metadata": {
        "colab_type": "text",
        "id": "lvmze81LS2Z5"
      },
      "source": [
        "**Prepare Network**"
      ]
    },
    {
      "cell_type": "code",
      "metadata": {
        "colab_type": "code",
        "id": "ViKKX_YIS2Z6",
        "colab": {}
      },
      "source": [
        "# Loading AlexNet model\n",
        "net = alexnet(pretrained=True) "
      ],
      "execution_count": 0,
      "outputs": []
    },
    {
      "cell_type": "code",
      "metadata": {
        "colab_type": "code",
        "id": "A0x-gJnUS2Z-",
        "colab": {}
      },
      "source": [
        "# AlexNet has 1000 output neurons, corresponding to the 1000 ImageNet's classes\n",
        "# We need 101 outputs for Caltech-101\n",
        "net.classifier[6] = nn.Linear(4096, NUM_CLASSES) # nn.Linear in pytorch is a fully connected layer\n",
        "                                                 # The convolutional layer is nn.Conv2d\n",
        "\n",
        "# We just changed the last layer of AlexNet with a new fully connected layer with 101 outputs\n",
        "# It is strongly suggested to study torchvision.models.alexnet source code"
      ],
      "execution_count": 0,
      "outputs": []
    },
    {
      "cell_type": "markdown",
      "metadata": {
        "colab_type": "text",
        "id": "2k6l1-PUS2aB"
      },
      "source": [
        "**Prepare Training**"
      ]
    },
    {
      "cell_type": "code",
      "metadata": {
        "colab_type": "code",
        "id": "yWfZ2SeKS2aB",
        "colab": {}
      },
      "source": [
        "# Define loss function\n",
        "criterion = nn.CrossEntropyLoss() # for classification, we use Cross Entropy\n",
        "\n",
        "# Choose parameters to optimize\n",
        "# To access a different set of parameters, you have to access submodules of AlexNet\n",
        "# (nn.Module objects, like AlexNet, implement the Composite Pattern)\n",
        "# e.g.: parameters of the fully connected layers: net.classifier.parameters()\n",
        "# e.g.: parameters of the convolutional layers: look at alexnet's source code ;) \n",
        "parameters_to_optimize = net.parameters() # In this case we optimize over all the parameters of AlexNet\n",
        "\n",
        "# Define optimizer\n",
        "# An optimizer updates the weights based on loss\n",
        "# We use SGD with momentum\n",
        "optimizer = optim.SGD(parameters_to_optimize, lr=LR, momentum=MOMENTUM, weight_decay=WEIGHT_DECAY)\n",
        "\n",
        "# Define scheduler\n",
        "# A scheduler dynamically changes learning rate\n",
        "# The most common schedule is the step(-down), which multiplies learning rate by gamma every STEP_SIZE epochs\n",
        "scheduler = optim.lr_scheduler.StepLR(optimizer, step_size=STEP_SIZE, gamma=GAMMA)"
      ],
      "execution_count": 0,
      "outputs": []
    },
    {
      "cell_type": "markdown",
      "metadata": {
        "colab_type": "text",
        "id": "sPPRS1N8S2aE"
      },
      "source": [
        "**Train and Validation**"
      ]
    },
    {
      "cell_type": "code",
      "metadata": {
        "colab_type": "code",
        "id": "jcbBH32RS2aE",
        "colab": {}
      },
      "source": [
        "from copy import deepcopy\n",
        "\n",
        "loss_hist = []\n",
        "acc_hist = []\n",
        "\n",
        "# By default, everything is loaded to cpu\n",
        "net = net.to(DEVICE) # this will bring the network to GPU if DEVICE is cuda\n",
        "cudnn.benchmark     # Calling this optimizes runtime\n",
        "\n",
        "current_step = 0"
      ],
      "execution_count": 0,
      "outputs": []
    },
    {
      "cell_type": "code",
      "metadata": {
        "colab_type": "code",
        "outputId": "7dbb332d-2f4b-4765-a496-473cada99098",
        "id": "P-BrrpqAS2aH",
        "colab": {
          "base_uri": "https://localhost:8080/",
          "height": 1000
        }
      },
      "source": [
        "# Start iterating over the epochs\n",
        "for epoch in range(NUM_EPOCHS):\n",
        "    print('Starting epoch {}/{}, LR = {}'.format(epoch+1, NUM_EPOCHS, scheduler.get_last_lr()))\n",
        "\n",
        "    # Train part\n",
        "    net.train() # Sets module in training mode\n",
        "\n",
        "    # Iterate over the dataset\n",
        "    for images, labels in train_dataloader:\n",
        "        # Bring data over the device of choice\n",
        "        images = images.to(DEVICE)\n",
        "        labels = labels.to(DEVICE)\n",
        "\n",
        "        # PyTorch, by default, accumulates gradients after each backward pass\n",
        "        # We need to manually set the gradients to zero before starting a new iteration\n",
        "        optimizer.zero_grad() # Zero-ing the gradients\n",
        "\n",
        "        # Forward pass to the network\n",
        "        outputs = net(images)\n",
        "\n",
        "        # Compute loss based on output and ground truth\n",
        "        loss = criterion(outputs, labels)\n",
        "\n",
        "        # Log loss\n",
        "        if current_step % LOG_FREQUENCY == 0:\n",
        "            print('Step {}, Loss {}'.format(current_step, loss.item()))\n",
        "\n",
        "        # Compute gradients for each layer and update weights\n",
        "        loss.backward()  # backward pass: computes gradients\n",
        "        optimizer.step() # update weights based on accumulated gradients\n",
        "\n",
        "        current_step += 1\n",
        "\n",
        "    # Step the scheduler\n",
        "    scheduler.step() \n",
        "\n",
        "    # Use the best model for validation\n",
        "    if not loss_hist or loss.item() < min(loss_hist):\n",
        "        best_net = deepcopy(net)\n",
        "\n",
        "    # Record loss after each epoch\n",
        "\n",
        "    # Validation part\n",
        "    best_net.train(False) # Set Network to evaluation mode\n",
        "\n",
        "    running_corrects = 0\n",
        "    with torch.no_grad():\n",
        "        for images, labels in val_dataloader:\n",
        "            images = images.to(DEVICE)\n",
        "            labels = labels.to(DEVICE)\n",
        "\n",
        "            # Forward Pass\n",
        "            outputs = best_net(images)\n",
        "\n",
        "            # Get predictions\n",
        "            _, preds = torch.max(outputs.data, 1)\n",
        "            \n",
        "            # Update Corrects\n",
        "            running_corrects += torch.sum(preds == labels.data).data.item()\n",
        "\n",
        "    # Calculate Accuracy\n",
        "    accuracy = running_corrects / float(len(val_dataset))\n",
        "    print('Accuracy {}\\n'.format(accuracy))\n",
        "\n",
        "    # Record loss and accuracy after each epoch\n",
        "    loss_hist.append(loss.item())\n",
        "    acc_hist.append(accuracy)"
      ],
      "execution_count": 27,
      "outputs": [
        {
          "output_type": "stream",
          "text": [
            "Starting epoch 1/30, LR = [0.001]\n",
            "Step 0, Loss 4.836269378662109\n",
            "Step 10, Loss 3.4196667671203613\n",
            "Accuracy 0.2821576763485477\n",
            "\n",
            "Starting epoch 2/30, LR = [0.001]\n",
            "Step 20, Loss 2.642625093460083\n",
            "Accuracy 0.45470262793914246\n",
            "\n",
            "Starting epoch 3/30, LR = [0.001]\n",
            "Step 30, Loss 1.9410220384597778\n",
            "Accuracy 0.5743430152143845\n",
            "\n",
            "Starting epoch 4/30, LR = [0.001]\n",
            "Step 40, Loss 1.4295628070831299\n",
            "Accuracy 0.6822268326417704\n",
            "\n",
            "Starting epoch 5/30, LR = [0.001]\n",
            "Step 50, Loss 0.9842467904090881\n",
            "Accuracy 0.73582295988935\n",
            "\n",
            "Starting epoch 6/30, LR = [0.0001]\n",
            "Step 60, Loss 0.82724928855896\n",
            "Accuracy 0.7385892116182573\n",
            "\n",
            "Starting epoch 7/30, LR = [0.0001]\n",
            "Step 70, Loss 0.7325082421302795\n",
            "Accuracy 0.7455048409405256\n",
            "\n",
            "Starting epoch 8/30, LR = [0.0001]\n",
            "Step 80, Loss 0.8222002983093262\n",
            "Accuracy 0.7510373443983402\n",
            "\n",
            "Starting epoch 9/30, LR = [0.0001]\n",
            "Step 90, Loss 0.6232385635375977\n",
            "Accuracy 0.7468879668049793\n",
            "\n",
            "Starting epoch 10/30, LR = [0.0001]\n",
            "Step 100, Loss 0.6196423768997192\n",
            "Accuracy 0.7603734439834025\n",
            "\n",
            "Starting epoch 11/30, LR = [1e-05]\n",
            "Step 110, Loss 0.7039796113967896\n",
            "Step 120, Loss 0.7660772204399109\n",
            "Accuracy 0.7544951590594744\n",
            "\n",
            "Starting epoch 12/30, LR = [1e-05]\n",
            "Step 130, Loss 0.7401022911071777\n",
            "Accuracy 0.7558782849239281\n",
            "\n",
            "Starting epoch 13/30, LR = [1e-05]\n",
            "Step 140, Loss 0.7229833006858826\n",
            "Accuracy 0.7562240663900415\n",
            "\n",
            "Starting epoch 14/30, LR = [1e-05]\n",
            "Step 150, Loss 0.6481770277023315\n",
            "Accuracy 0.7565698478561549\n",
            "\n",
            "Starting epoch 15/30, LR = [1e-05]\n",
            "Step 160, Loss 0.6746580004692078\n",
            "Accuracy 0.7617565698478561\n",
            "\n",
            "Starting epoch 16/30, LR = [1.0000000000000002e-06]\n",
            "Step 170, Loss 0.6870725154876709\n",
            "Accuracy 0.7479253112033195\n",
            "\n",
            "Starting epoch 17/30, LR = [1.0000000000000002e-06]\n",
            "Step 180, Loss 0.5685647130012512\n",
            "Accuracy 0.7638312586445366\n",
            "\n",
            "Starting epoch 18/30, LR = [1.0000000000000002e-06]\n",
            "Step 190, Loss 0.5489182472229004\n",
            "Accuracy 0.7465421853388658\n",
            "\n",
            "Starting epoch 19/30, LR = [1.0000000000000002e-06]\n",
            "Step 200, Loss 0.7829902768135071\n",
            "Accuracy 0.7593360995850622\n",
            "\n",
            "Starting epoch 20/30, LR = [1.0000000000000002e-06]\n",
            "Step 210, Loss 0.6678060293197632\n",
            "Accuracy 0.7603734439834025\n",
            "\n",
            "Starting epoch 21/30, LR = [1.0000000000000002e-07]\n",
            "Step 220, Loss 0.6817454695701599\n",
            "Step 230, Loss 0.7210606336593628\n",
            "Accuracy 0.7586445366528354\n",
            "\n",
            "Starting epoch 22/30, LR = [1.0000000000000002e-07]\n",
            "Step 240, Loss 0.5438591837882996\n",
            "Accuracy 0.760027662517289\n",
            "\n",
            "Starting epoch 23/30, LR = [1.0000000000000002e-07]\n",
            "Step 250, Loss 0.6841221451759338\n",
            "Accuracy 0.7662517289073306\n",
            "\n",
            "Starting epoch 24/30, LR = [1.0000000000000002e-07]\n",
            "Step 260, Loss 0.7503744959831238\n",
            "Accuracy 0.7631396957123098\n",
            "\n",
            "Starting epoch 25/30, LR = [1.0000000000000002e-07]\n",
            "Step 270, Loss 0.5493339896202087\n",
            "Accuracy 0.7544951590594744\n",
            "\n",
            "Starting epoch 26/30, LR = [1.0000000000000004e-08]\n",
            "Step 280, Loss 0.6779531836509705\n",
            "Accuracy 0.7603734439834025\n",
            "\n",
            "Starting epoch 27/30, LR = [1.0000000000000004e-08]\n",
            "Step 290, Loss 0.5862475633621216\n",
            "Accuracy 0.7631396957123098\n",
            "\n",
            "Starting epoch 28/30, LR = [1.0000000000000004e-08]\n",
            "Step 300, Loss 0.6919528245925903\n",
            "Accuracy 0.7617565698478561\n",
            "\n",
            "Starting epoch 29/30, LR = [1.0000000000000004e-08]\n",
            "Step 310, Loss 0.6522805690765381\n",
            "Accuracy 0.754149377593361\n",
            "\n",
            "Starting epoch 30/30, LR = [1.0000000000000004e-08]\n",
            "Step 320, Loss 0.7401379346847534\n",
            "Accuracy 0.7634854771784232\n",
            "\n"
          ],
          "name": "stdout"
        }
      ]
    },
    {
      "cell_type": "code",
      "metadata": {
        "colab_type": "code",
        "id": "Faaea-MuS2aK",
        "colab": {}
      },
      "source": [
        "import matplotlib.pyplot as plt"
      ],
      "execution_count": 0,
      "outputs": []
    },
    {
      "cell_type": "code",
      "metadata": {
        "colab_type": "code",
        "outputId": "8b0a0c46-98cf-4ba4-b3bc-d8270162d038",
        "id": "4ZL4Wg3fS2aN",
        "colab": {
          "base_uri": "https://localhost:8080/",
          "height": 573
        }
      },
      "source": [
        "plt.plot(loss_hist)\n",
        "plt.title('Loss VS Epochs')\n",
        "plt.xlabel('epoch')\n",
        "plt.ylabel('loss')\n",
        "plt.show()\n",
        "\n",
        "plt.plot(acc_hist)\n",
        "plt.title('Accuracy VS Epochs')\n",
        "plt.xlabel('epoch')\n",
        "plt.ylabel('accuracy')\n",
        "plt.show()"
      ],
      "execution_count": 29,
      "outputs": [
        {
          "output_type": "display_data",
          "data": {
            "image/png": "[encoded data removed]",
            "text/plain": [
              "<Figure size 432x288 with 1 Axes>"
            ]
          },
          "metadata": {
            "tags": [],
            "needs_background": "light"
          }
        },
        {
          "output_type": "display_data",
          "data": {
            "image/png": "[encoded data removed]",
            "text/plain": [
              "<Figure size 432x288 with 1 Axes>"
            ]
          },
          "metadata": {
            "tags": [],
            "needs_background": "light"
          }
        }
      ]
    },
    {
      "cell_type": "markdown",
      "metadata": {
        "colab_type": "text",
        "id": "MnX3u9JsS2aQ"
      },
      "source": [
        "**Test**"
      ]
    },
    {
      "cell_type": "code",
      "metadata": {
        "colab_type": "code",
        "outputId": "3d19905b-372b-4811-d6ad-9ab8af9a85d6",
        "id": "3JVKZrDvS2aQ",
        "colab": {
          "base_uri": "https://localhost:8080/",
          "height": 53
        }
      },
      "source": [
        "best_net = best_net.to(DEVICE) # this will bring the network to GPU if DEVICE is cuda\n",
        "best_net.train(False) # Set Network to evaluation mode\n",
        "\n",
        "running_corrects = 0\n",
        "for images, labels in tqdm(test_dataloader):\n",
        "  images = images.to(DEVICE)\n",
        "  labels = labels.to(DEVICE)\n",
        "\n",
        "  # Forward Pass\n",
        "  outputs = best_net(images)\n",
        "\n",
        "  # Get predictions\n",
        "  _, preds = torch.max(outputs.data, 1)\n",
        "\n",
        "  # Update Corrects\n",
        "  running_corrects += torch.sum(preds == labels.data).data.item()\n",
        "\n",
        "# Calculate Accuracy\n",
        "accuracy = running_corrects / float(len(test_dataset))\n",
        "\n",
        "print('Test Accuracy: {}'.format(accuracy))"
      ],
      "execution_count": 30,
      "outputs": [
        {
          "output_type": "stream",
          "text": [
            "100%|██████████| 12/12 [00:12<00:00,  1.08s/it]"
          ],
          "name": "stderr"
        },
        {
          "output_type": "stream",
          "text": [
            "Test Accuracy: 0.7684064984445212\n"
          ],
          "name": "stdout"
        },
        {
          "output_type": "stream",
          "text": [
            "\n"
          ],
          "name": "stderr"
        }
      ]
    },
    {
      "cell_type": "markdown",
      "metadata": {
        "colab_type": "text",
        "id": "9btIAHYAS2RD"
      },
      "source": [
        "## Hyperparameter set 3 (Best performed)"
      ]
    },
    {
      "cell_type": "markdown",
      "metadata": {
        "colab_type": "text",
        "id": "JI2M5BJfS2RD"
      },
      "source": [
        "| Current hyperparameters | Value |\n",
        "| --- | --- |\n",
        "| Initial learning rate | 0.001 |\n",
        "| Decaying policy | ReduceLROnPlateau |\n",
        "| Decaying factor | 0.1 |\n",
        "| Decaying patience | 3 epochs |\n",
        "| Optimiser | SGD |\n",
        "| Epochs | 30 |\n",
        "\n"
      ]
    },
    {
      "cell_type": "markdown",
      "metadata": {
        "colab_type": "text",
        "id": "CILZq0zvS2RE"
      },
      "source": [
        "**Set Arguments**"
      ]
    },
    {
      "cell_type": "code",
      "metadata": {
        "colab_type": "code",
        "id": "ecebj-QaS2RJ",
        "colab": {}
      },
      "source": [
        "DEVICE = 'cuda' # 'cuda' or 'cpu'\n",
        "\n",
        "NUM_CLASSES = 102 # 101 + 1: There is an extra Background class that should be removed \n",
        "\n",
        "BATCH_SIZE = 256     # Higher batch sizes allows for larger learning rates. An empirical heuristic suggests that, when changing\n",
        "                     # the batch size, learning rate should change by the same factor to have comparable results\n",
        "\n",
        "LR = 1e-3            # The initial Learning Rate\n",
        "MOMENTUM = 0.9       # Hyperparameter for SGD, keep this at 0.9 when using SGD\n",
        "WEIGHT_DECAY = 5e-5  # Regularization, you can keep this at the default\n",
        "\n",
        "NUM_EPOCHS = 30      # Total number of training epochs (iterations over dataset)\n",
        "STEP_SIZE = 10       # How many epochs before decreasing learning rate (if using a step-down policy)\n",
        "GAMMA = 0.1          # Multiplicative factor for learning rate step-down\n",
        "\n",
        "LOG_FREQUENCY = 10"
      ],
      "execution_count": 0,
      "outputs": []
    },
    {
      "cell_type": "markdown",
      "metadata": {
        "colab_type": "text",
        "id": "lZ_DgqpiS2RN"
      },
      "source": [
        "**Prepare Network**"
      ]
    },
    {
      "cell_type": "code",
      "metadata": {
        "colab_type": "code",
        "id": "qgX-7aYPS2RN",
        "colab": {}
      },
      "source": [
        "# Loading AlexNet model\n",
        "net = alexnet(pretrained=True) "
      ],
      "execution_count": 0,
      "outputs": []
    },
    {
      "cell_type": "code",
      "metadata": {
        "colab_type": "code",
        "id": "hy3RkZviS2RP",
        "colab": {}
      },
      "source": [
        "# AlexNet has 1000 output neurons, corresponding to the 1000 ImageNet's classes\n",
        "# We need 101 outputs for Caltech-101\n",
        "net.classifier[6] = nn.Linear(4096, NUM_CLASSES) # nn.Linear in pytorch is a fully connected layer\n",
        "                                                 # The convolutional layer is nn.Conv2d\n",
        "\n",
        "# We just changed the last layer of AlexNet with a new fully connected layer with 101 outputs\n",
        "# It is strongly suggested to study torchvision.models.alexnet source code"
      ],
      "execution_count": 0,
      "outputs": []
    },
    {
      "cell_type": "markdown",
      "metadata": {
        "colab_type": "text",
        "id": "4Wt1LjnUS2RR"
      },
      "source": [
        "**Prepare Training**"
      ]
    },
    {
      "cell_type": "code",
      "metadata": {
        "colab_type": "code",
        "id": "8d0Mt8q3S2RR",
        "colab": {}
      },
      "source": [
        "# Define loss function\n",
        "criterion = nn.CrossEntropyLoss() # for classification, we use Cross Entropy\n",
        "\n",
        "# Choose parameters to optimize\n",
        "# To access a different set of parameters, you have to access submodules of AlexNet\n",
        "# (nn.Module objects, like AlexNet, implement the Composite Pattern)\n",
        "# e.g.: parameters of the fully connected layers: net.classifier.parameters()\n",
        "# e.g.: parameters of the convolutional layers: look at alexnet's source code ;) \n",
        "parameters_to_optimize = net.parameters() # In this case we optimize over all the parameters of AlexNet\n",
        "\n",
        "# Define optimizer\n",
        "# An optimizer updates the weights based on loss\n",
        "# We use SGD with momentum\n",
        "optimizer = optim.SGD(parameters_to_optimize, lr=LR, momentum=MOMENTUM, weight_decay=WEIGHT_DECAY)\n",
        "\n",
        "# Define scheduler\n",
        "# A scheduler dynamically changes learning rate\n",
        "# The most common schedule is the step(-down), which multiplies learning rate by gamma every STEP_SIZE epochs\n",
        "# scheduler = optim.lr_scheduler.StepLR(optimizer, step_size=STEP_SIZE, gamma=GAMMA)\n",
        "scheduler = optim.lr_scheduler.ReduceLROnPlateau(optimizer, patience=3)"
      ],
      "execution_count": 0,
      "outputs": []
    },
    {
      "cell_type": "markdown",
      "metadata": {
        "colab_type": "text",
        "id": "CE0GHOXgS2RT"
      },
      "source": [
        "**Train and Validation**"
      ]
    },
    {
      "cell_type": "code",
      "metadata": {
        "colab_type": "code",
        "id": "OeovdYW5S2RT",
        "colab": {}
      },
      "source": [
        "from copy import deepcopy\n",
        "\n",
        "loss_hist = []\n",
        "acc_hist = []\n",
        "\n",
        "# By default, everything is loaded to cpu\n",
        "net = net.to(DEVICE) # this will bring the network to GPU if DEVICE is cuda\n",
        "cudnn.benchmark     # Calling this optimizes runtime\n",
        "\n",
        "current_step = 0"
      ],
      "execution_count": 0,
      "outputs": []
    },
    {
      "cell_type": "code",
      "metadata": {
        "colab_type": "code",
        "outputId": "7596a534-82da-47ad-d1bd-98630d812f62",
        "id": "bQMoxTJ-S2RV",
        "colab": {
          "base_uri": "https://localhost:8080/",
          "height": 1000
        }
      },
      "source": [
        "# Start iterating over the epochs\n",
        "for epoch in range(NUM_EPOCHS):\n",
        "    print('Starting epoch {}/{}, LR = {}'.format(epoch+1, NUM_EPOCHS, optimizer.param_groups[0]['lr']))\n",
        "\n",
        "    # Train part\n",
        "    net.train() # Sets module in training mode\n",
        "\n",
        "    # Iterate over the dataset\n",
        "    for images, labels in train_dataloader:\n",
        "        # Bring data over the device of choice\n",
        "        images = images.to(DEVICE)\n",
        "        labels = labels.to(DEVICE)\n",
        "\n",
        "        # PyTorch, by default, accumulates gradients after each backward pass\n",
        "        # We need to manually set the gradients to zero before starting a new iteration\n",
        "        optimizer.zero_grad() # Zero-ing the gradients\n",
        "\n",
        "        # Forward pass to the network\n",
        "        outputs = net(images)\n",
        "\n",
        "        # Compute loss based on output and ground truth\n",
        "        loss = criterion(outputs, labels)\n",
        "\n",
        "        # Log loss\n",
        "        if current_step % LOG_FREQUENCY == 0:\n",
        "            print('Step {}, Loss {}'.format(current_step, loss.item()))\n",
        "\n",
        "        # Compute gradients for each layer and update weights\n",
        "        loss.backward()  # backward pass: computes gradients\n",
        "        optimizer.step() # update weights based on accumulated gradients\n",
        "\n",
        "        current_step += 1\n",
        "\n",
        "    # Step the scheduler\n",
        "    scheduler.step(loss) \n",
        "\n",
        "    # Use the best model for validation\n",
        "    if not loss_hist or loss.item() < min(loss_hist):\n",
        "        best_net = deepcopy(net)\n",
        "\n",
        "    # Record loss after each epoch\n",
        "\n",
        "    # Validation part\n",
        "    best_net.train(False) # Set Network to evaluation mode\n",
        "\n",
        "    running_corrects = 0\n",
        "    with torch.no_grad():\n",
        "        for images, labels in val_dataloader:\n",
        "            images = images.to(DEVICE)\n",
        "            labels = labels.to(DEVICE)\n",
        "\n",
        "            # Forward Pass\n",
        "            outputs = best_net(images)\n",
        "\n",
        "            # Get predictions\n",
        "            _, preds = torch.max(outputs.data, 1)\n",
        "            \n",
        "            # Update Corrects\n",
        "            running_corrects += torch.sum(preds == labels.data).data.item()\n",
        "\n",
        "    # Calculate Accuracy\n",
        "    accuracy = running_corrects / float(len(val_dataset))\n",
        "    print('Accuracy {}\\n'.format(accuracy))\n",
        "\n",
        "    # Record loss and accuracy after each epoch\n",
        "    loss_hist.append(loss.item())\n",
        "    acc_hist.append(accuracy)"
      ],
      "execution_count": 36,
      "outputs": [
        {
          "output_type": "stream",
          "text": [
            "Starting epoch 1/30, LR = 0.001\n",
            "Step 0, Loss 4.855043411254883\n",
            "Step 10, Loss 3.407418966293335\n",
            "Accuracy 0.2766251728907331\n",
            "\n",
            "Starting epoch 2/30, LR = 0.001\n",
            "Step 20, Loss 2.550562620162964\n",
            "Accuracy 0.45850622406639\n",
            "\n",
            "Starting epoch 3/30, LR = 0.001\n",
            "Step 30, Loss 2.078125\n",
            "Accuracy 0.5542876901798064\n",
            "\n",
            "Starting epoch 4/30, LR = 0.001\n",
            "Step 40, Loss 1.4422149658203125\n",
            "Accuracy 0.6587136929460581\n",
            "\n",
            "Starting epoch 5/30, LR = 0.001\n",
            "Step 50, Loss 0.9714542031288147\n",
            "Accuracy 0.729253112033195\n",
            "\n",
            "Starting epoch 6/30, LR = 0.001\n",
            "Step 60, Loss 0.7547634243965149\n",
            "Accuracy 0.7690179806362379\n",
            "\n",
            "Starting epoch 7/30, LR = 0.001\n",
            "Step 70, Loss 0.49930885434150696\n",
            "Accuracy 0.7766251728907331\n",
            "\n",
            "Starting epoch 8/30, LR = 0.001\n",
            "Step 80, Loss 0.5107560157775879\n",
            "Accuracy 0.7911479944674965\n",
            "\n",
            "Starting epoch 9/30, LR = 0.001\n",
            "Step 90, Loss 0.3915749192237854\n",
            "Accuracy 0.7980636237897649\n",
            "\n",
            "Starting epoch 10/30, LR = 0.001\n",
            "Step 100, Loss 0.37049412727355957\n",
            "Accuracy 0.7939142461964038\n",
            "\n",
            "Starting epoch 11/30, LR = 0.001\n",
            "Step 110, Loss 0.24743668735027313\n",
            "Step 120, Loss 0.2842223346233368\n",
            "Accuracy 0.8115491009681881\n",
            "\n",
            "Starting epoch 12/30, LR = 0.001\n",
            "Step 130, Loss 0.2950325012207031\n",
            "Accuracy 0.8046334716459198\n",
            "\n",
            "Starting epoch 13/30, LR = 0.001\n",
            "Step 140, Loss 0.1852986216545105\n",
            "Accuracy 0.8101659751037344\n",
            "\n",
            "Starting epoch 14/30, LR = 0.001\n",
            "Step 150, Loss 0.19226418435573578\n",
            "Accuracy 0.8091286307053942\n",
            "\n",
            "Starting epoch 15/30, LR = 0.001\n",
            "Step 160, Loss 0.16920971870422363\n",
            "Accuracy 0.8101659751037344\n",
            "\n",
            "Starting epoch 16/30, LR = 0.001\n",
            "Step 170, Loss 0.19135239720344543\n",
            "Accuracy 0.8129322268326418\n",
            "\n",
            "Starting epoch 17/30, LR = 0.001\n",
            "Step 180, Loss 0.13291853666305542\n",
            "Accuracy 0.8160442600276625\n",
            "\n",
            "Starting epoch 18/30, LR = 0.001\n",
            "Step 190, Loss 0.10028086602687836\n",
            "Accuracy 0.8177731673582296\n",
            "\n",
            "Starting epoch 19/30, LR = 0.001\n",
            "Step 200, Loss 0.11648090183734894\n",
            "Accuracy 0.8118948824343015\n",
            "\n",
            "Starting epoch 20/30, LR = 0.001\n",
            "Step 210, Loss 0.12089939415454865\n",
            "Accuracy 0.8122406639004149\n",
            "\n",
            "Starting epoch 21/30, LR = 0.001\n",
            "Step 220, Loss 0.09714493155479431\n",
            "Step 230, Loss 0.13245046138763428\n",
            "Accuracy 0.8101659751037344\n",
            "\n",
            "Starting epoch 22/30, LR = 0.001\n",
            "Step 240, Loss 0.08658751845359802\n",
            "Accuracy 0.8146611341632088\n",
            "\n",
            "Starting epoch 23/30, LR = 0.0001\n",
            "Step 250, Loss 0.12742836773395538\n",
            "Accuracy 0.8170816044260027\n",
            "\n",
            "Starting epoch 24/30, LR = 0.0001\n",
            "Step 260, Loss 0.08209912478923798\n",
            "Accuracy 0.8208852005532503\n",
            "\n",
            "Starting epoch 25/30, LR = 0.0001\n",
            "Step 270, Loss 0.06882330775260925\n",
            "Accuracy 0.8219225449515906\n",
            "\n",
            "Starting epoch 26/30, LR = 0.0001\n",
            "Step 280, Loss 0.06320132315158844\n",
            "Accuracy 0.8195020746887967\n",
            "\n",
            "Starting epoch 27/30, LR = 0.0001\n",
            "Step 290, Loss 0.057267047464847565\n",
            "Accuracy 0.8205394190871369\n",
            "\n",
            "Starting epoch 28/30, LR = 1e-05\n",
            "Step 300, Loss 0.07227281481027603\n",
            "Accuracy 0.8150069156293223\n",
            "\n",
            "Starting epoch 29/30, LR = 1e-05\n",
            "Step 310, Loss 0.07626844197511673\n",
            "Accuracy 0.8201936376210235\n",
            "\n",
            "Starting epoch 30/30, LR = 1e-05\n",
            "Step 320, Loss 0.06514890491962433\n",
            "Accuracy 0.8212309820193637\n",
            "\n"
          ],
          "name": "stdout"
        }
      ]
    },
    {
      "cell_type": "code",
      "metadata": {
        "colab_type": "code",
        "id": "WYXUhzwyS2RY",
        "colab": {}
      },
      "source": [
        "import matplotlib.pyplot as plt"
      ],
      "execution_count": 0,
      "outputs": []
    },
    {
      "cell_type": "code",
      "metadata": {
        "colab_type": "code",
        "outputId": "e4b86a8a-31d9-428d-881d-f28c65624b87",
        "id": "qc625pEYS2RZ",
        "colab": {
          "base_uri": "https://localhost:8080/",
          "height": 573
        }
      },
      "source": [
        "plt.plot(loss_hist)\n",
        "plt.title('Loss VS Epochs')\n",
        "plt.xlabel('epoch')\n",
        "plt.ylabel('loss')\n",
        "plt.show()\n",
        "\n",
        "plt.plot(acc_hist)\n",
        "plt.title('Accuracy VS Epochs')\n",
        "plt.xlabel('epoch')\n",
        "plt.ylabel('accuracy')\n",
        "plt.show()"
      ],
      "execution_count": 38,
      "outputs": [
        {
          "output_type": "display_data",
          "data": {
            "image/png": "[encoded data removed]",
            "text/plain": [
              "<Figure size 432x288 with 1 Axes>"
            ]
          },
          "metadata": {
            "tags": [],
            "needs_background": "light"
          }
        },
        {
          "output_type": "display_data",
          "data": {
            "image/png": "[encoded data removed]",
            "text/plain": [
              "<Figure size 432x288 with 1 Axes>"
            ]
          },
          "metadata": {
            "tags": [],
            "needs_background": "light"
          }
        }
      ]
    },
    {
      "cell_type": "markdown",
      "metadata": {
        "colab_type": "text",
        "id": "sWxxZQZsS2Rb"
      },
      "source": [
        "**Test**"
      ]
    },
    {
      "cell_type": "code",
      "metadata": {
        "colab_type": "code",
        "outputId": "cec271a2-50e9-4004-8563-ac44d7059fd1",
        "id": "1latL4IVS2Rb",
        "colab": {
          "base_uri": "https://localhost:8080/",
          "height": 53
        }
      },
      "source": [
        "best_net = best_net.to(DEVICE) # this will bring the network to GPU if DEVICE is cuda\n",
        "best_net.train(False) # Set Network to evaluation mode\n",
        "\n",
        "running_corrects = 0\n",
        "for images, labels in tqdm(test_dataloader):\n",
        "  images = images.to(DEVICE)\n",
        "  labels = labels.to(DEVICE)\n",
        "\n",
        "  # Forward Pass\n",
        "  outputs = best_net(images)\n",
        "\n",
        "  # Get predictions\n",
        "  _, preds = torch.max(outputs.data, 1)\n",
        "\n",
        "  # Update Corrects\n",
        "  running_corrects += torch.sum(preds == labels.data).data.item()\n",
        "\n",
        "# Calculate Accuracy\n",
        "accuracy = running_corrects / float(len(test_dataset))\n",
        "\n",
        "print('Test Accuracy: {}'.format(accuracy))"
      ],
      "execution_count": 39,
      "outputs": [
        {
          "output_type": "stream",
          "text": [
            "100%|██████████| 12/12 [00:13<00:00,  1.11s/it]"
          ],
          "name": "stderr"
        },
        {
          "output_type": "stream",
          "text": [
            "Test Accuracy: 0.832353957829243\n"
          ],
          "name": "stdout"
        },
        {
          "output_type": "stream",
          "text": [
            "\n"
          ],
          "name": "stderr"
        }
      ]
    },
    {
      "cell_type": "markdown",
      "metadata": {
        "id": "OF4QcC_efV6Z",
        "colab_type": "text"
      },
      "source": [
        "### Train only the FC layers"
      ]
    },
    {
      "cell_type": "code",
      "metadata": {
        "id": "LsaBAiG8SKKj",
        "colab_type": "code",
        "colab": {}
      },
      "source": [
        ""
      ],
      "execution_count": 0,
      "outputs": []
    },
    {
      "cell_type": "markdown",
      "metadata": {
        "id": "nxqCcbLAfZLw",
        "colab_type": "text"
      },
      "source": [
        "### Train only the Conv layers"
      ]
    },
    {
      "cell_type": "code",
      "metadata": {
        "id": "B-UvCXMZfb9l",
        "colab_type": "code",
        "colab": {}
      },
      "source": [
        ""
      ],
      "execution_count": 0,
      "outputs": []
    }
  ]
}