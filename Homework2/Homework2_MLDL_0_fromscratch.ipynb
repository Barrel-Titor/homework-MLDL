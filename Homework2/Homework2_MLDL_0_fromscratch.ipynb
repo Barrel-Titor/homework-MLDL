{
  "nbformat": 4,
  "nbformat_minor": 0,
  "metadata": {
    "colab": {
      "name": "Homework2-MLDL.ipynb",
      "provenance": [],
      "collapsed_sections": []
    },
    "kernelspec": {
      "name": "python3",
      "display_name": "Python 3"
    },
    "accelerator": "GPU"
  },
  "cells": [
    {
      "cell_type": "markdown",
      "metadata": {
        "id": "LMA0i3mOHse_",
        "colab_type": "text"
      },
      "source": [
        "# Given by the template \n",
        "https://colab.research.google.com/drive/1495rzqiMxfqwqBjaanDwDGN7eOS4oXRX "
      ]
    },
    {
      "cell_type": "markdown",
      "metadata": {
        "id": "c9QcGnGPdX2C",
        "colab_type": "text"
      },
      "source": [
        "\n",
        "**Install requirements**"
      ]
    },
    {
      "cell_type": "code",
      "metadata": {
        "id": "k9O3aM3Tb28q",
        "colab_type": "code",
        "colab": {}
      },
      "source": [
        "# !pip3 install 'torch==1.3.1'\n",
        "# !pip3 install 'torchvision==0.5.0'\n",
        "# !pip3 install 'Pillow-SIMD'\n",
        "# !pip3 install 'tqdm'"
      ],
      "execution_count": 0,
      "outputs": []
    },
    {
      "cell_type": "markdown",
      "metadata": {
        "id": "fo942LMOdlh4",
        "colab_type": "text"
      },
      "source": [
        "**Import libraries**"
      ]
    },
    {
      "cell_type": "code",
      "metadata": {
        "id": "DokFOdD1dJEl",
        "colab_type": "code",
        "colab": {}
      },
      "source": [
        "import os\n",
        "import logging\n",
        "\n",
        "import torch\n",
        "import torch.nn as nn\n",
        "import torch.optim as optim\n",
        "from torch.utils.data import Subset, DataLoader\n",
        "from torch.backends import cudnn\n",
        "\n",
        "import torchvision\n",
        "from torchvision import transforms\n",
        "from torchvision.models import alexnet\n",
        "\n",
        "from PIL import Image\n",
        "from tqdm import tqdm"
      ],
      "execution_count": 0,
      "outputs": []
    },
    {
      "cell_type": "markdown",
      "metadata": {
        "id": "OIDLJuIXK_vh",
        "colab_type": "text"
      },
      "source": [
        "**Set Arguments**"
      ]
    },
    {
      "cell_type": "code",
      "metadata": {
        "id": "d5PkYfqfK_SA",
        "colab_type": "code",
        "colab": {}
      },
      "source": [
        "DEVICE = 'cuda' # 'cuda' or 'cpu'\n",
        "\n",
        "NUM_CLASSES = 102 # 101 + 1: There is an extra Background class that should be removed \n",
        "\n",
        "BATCH_SIZE = 256     # Higher batch sizes allows for larger learning rates. An empirical heuristic suggests that, when changing\n",
        "                     # the batch size, learning rate should change by the same factor to have comparable results\n",
        "\n",
        "LR = 1e-3            # The initial Learning Rate\n",
        "MOMENTUM = 0.9       # Hyperparameter for SGD, keep this at 0.9 when using SGD\n",
        "WEIGHT_DECAY = 5e-5  # Regularization, you can keep this at the default\n",
        "\n",
        "NUM_EPOCHS = 30      # Total number of training epochs (iterations over dataset)\n",
        "STEP_SIZE = 20       # How many epochs before decreasing learning rate (if using a step-down policy)\n",
        "GAMMA = 0.1          # Multiplicative factor for learning rate step-down\n",
        "\n",
        "LOG_FREQUENCY = 10"
      ],
      "execution_count": 0,
      "outputs": []
    },
    {
      "cell_type": "markdown",
      "metadata": {
        "id": "9gwii0TBHvzh",
        "colab_type": "text"
      },
      "source": [
        "**Define Data Preprocessing**"
      ]
    },
    {
      "cell_type": "code",
      "metadata": {
        "id": "QUDdw4j2H0Mc",
        "colab_type": "code",
        "colab": {}
      },
      "source": [
        "# Define transforms for training phase\n",
        "train_transform = transforms.Compose([transforms.Resize(256),      # Resizes short size of the PIL image to 256\n",
        "                                      transforms.CenterCrop(224),  # Crops a central square patch of the image\n",
        "                                                                   # 224 because torchvision's AlexNet needs a 224x224 input!\n",
        "                                                                   # Remember this when applying different transformations, otherwise you get an error\n",
        "                                      transforms.ToTensor(), # Turn PIL Image to torch.Tensor\n",
        "                                      transforms.Normalize((0.5, 0.5, 0.5), (0.5, 0.5, 0.5)) # Normalizes tensor with mean and standard deviation\n",
        "])\n",
        "# Define transforms for the evaluation phase\n",
        "eval_transform = transforms.Compose([transforms.Resize(256),\n",
        "                                      transforms.CenterCrop(224),\n",
        "                                      transforms.ToTensor(),\n",
        "                                      transforms.Normalize((0.5, 0.5, 0.5), (0.5, 0.5, 0.5))                                    \n",
        "])"
      ],
      "execution_count": 0,
      "outputs": []
    },
    {
      "cell_type": "markdown",
      "metadata": {
        "id": "2qYIHPzYLY7i",
        "colab_type": "text"
      },
      "source": [
        "**Prepare Dataset**"
      ]
    },
    {
      "cell_type": "code",
      "metadata": {
        "id": "owiSvZUmiXnm",
        "colab_type": "code",
        "colab": {
          "base_uri": "https://localhost:8080/",
          "height": 161
        },
        "outputId": "cba1f9f5-5daa-40c4-8337-c177c41795af"
      },
      "source": [
        "# Clone github repository with data\n",
        "if not os.path.isdir('./Caltech101'):\n",
        "#   !git clone https://github.com/MachineLearning2020/Homework2-Caltech101.git\n",
        "    !git clone https://github.com/Barrel-Titor/Homework2-Caltech101.git\n",
        "    !mv 'Homework2-Caltech101' 'Caltech101'\n",
        "\n",
        "DATA_DIR = 'Caltech101/101_ObjectCategories'"
      ],
      "execution_count": 5,
      "outputs": [
        {
          "output_type": "stream",
          "text": [
            "Cloning into 'Homework2-Caltech101'...\n",
            "remote: Enumerating objects: 9, done.\u001b[K\n",
            "remote: Counting objects:  11% (1/9)\u001b[K\rremote: Counting objects:  22% (2/9)\u001b[K\rremote: Counting objects:  33% (3/9)\u001b[K\rremote: Counting objects:  44% (4/9)\u001b[K\rremote: Counting objects:  55% (5/9)\u001b[K\rremote: Counting objects:  66% (6/9)\u001b[K\rremote: Counting objects:  77% (7/9)\u001b[K\rremote: Counting objects:  88% (8/9)\u001b[K\rremote: Counting objects: 100% (9/9)\u001b[K\rremote: Counting objects: 100% (9/9), done.\u001b[K\n",
            "remote: Compressing objects: 100% (7/7), done.\u001b[K\n",
            "remote: Total 9265 (delta 4), reused 7 (delta 2), pack-reused 9256\u001b[K\n",
            "Receiving objects: 100% (9265/9265), 129.48 MiB | 29.00 MiB/s, done.\n",
            "Resolving deltas: 100% (8/8), done.\n",
            "Checking out files: 100% (9149/9149), done.\n"
          ],
          "name": "stdout"
        }
      ]
    },
    {
      "cell_type": "code",
      "metadata": {
        "id": "QfVq_uDHLbsR",
        "colab_type": "code",
        "outputId": "d3fc65e1-a567-4b7f-fce6-feb5e5f46fac",
        "colab": {
          "base_uri": "https://localhost:8080/",
          "height": 71
        }
      },
      "source": [
        "from Caltech101.caltech_dataset import Caltech\n",
        "\n",
        "# Prepare Pytorch train/test Datasets\n",
        "train_val_dataset = Caltech(DATA_DIR, split='train',  transform=train_transform)\n",
        "test_dataset = Caltech(DATA_DIR, split='test', transform=eval_transform)\n",
        "\n",
        "train_indexes = list(range(0, len(train_val_dataset), 2))   # split the indices for your train split\n",
        "val_indexes = list(range(1, len(train_val_dataset), 2))     # split the indices for your val split\n",
        "\n",
        "train_dataset = Subset(train_val_dataset, train_indexes)\n",
        "val_dataset = Subset(train_val_dataset, val_indexes)\n",
        "\n",
        "# Check dataset sizes\n",
        "print('Train Dataset: {}'.format(len(train_dataset)))\n",
        "print('Valid Dataset: {}'.format(len(val_dataset)))\n",
        "print('Test Dataset: {}'.format(len(test_dataset)))"
      ],
      "execution_count": 6,
      "outputs": [
        {
          "output_type": "stream",
          "text": [
            "Train Dataset: 2892\n",
            "Valid Dataset: 2892\n",
            "Test Dataset: 2893\n"
          ],
          "name": "stdout"
        }
      ]
    },
    {
      "cell_type": "markdown",
      "metadata": {
        "id": "FYEDQ7Z21ldN",
        "colab_type": "text"
      },
      "source": [
        "**Prepare Dataloaders**"
      ]
    },
    {
      "cell_type": "code",
      "metadata": {
        "id": "VriRw8SI1nle",
        "colab_type": "code",
        "colab": {}
      },
      "source": [
        "# Dataloaders iterate over pytorch datasets and transparently provide useful functions (e.g. parallelization and shuffling)\n",
        "train_dataloader = DataLoader(train_dataset, batch_size=BATCH_SIZE, shuffle=True, num_workers=4, drop_last=True)\n",
        "val_dataloader = DataLoader(val_dataset, batch_size=BATCH_SIZE, shuffle=False, num_workers=4)\n",
        "test_dataloader = DataLoader(test_dataset, batch_size=BATCH_SIZE, shuffle=False, num_workers=4)"
      ],
      "execution_count": 0,
      "outputs": []
    },
    {
      "cell_type": "markdown",
      "metadata": {
        "id": "gbZ1t5Qs2z4j",
        "colab_type": "text"
      },
      "source": [
        "**Prepare Network**"
      ]
    },
    {
      "cell_type": "code",
      "metadata": {
        "id": "exHUjtXa22DN",
        "colab_type": "code",
        "colab": {}
      },
      "source": [
        "net = alexnet() # Loading AlexNet model\n",
        "\n",
        "# AlexNet has 1000 output neurons, corresponding to the 1000 ImageNet's classes\n",
        "# We need 101 outputs for Caltech-101\n",
        "net.classifier[6] = nn.Linear(4096, NUM_CLASSES) # nn.Linear in pytorch is a fully connected layer\n",
        "                                                 # The convolutional layer is nn.Conv2d\n",
        "\n",
        "# We just changed the last layer of AlexNet with a new fully connected layer with 101 outputs\n",
        "# It is strongly suggested to study torchvision.models.alexnet source code"
      ],
      "execution_count": 0,
      "outputs": []
    },
    {
      "cell_type": "code",
      "metadata": {
        "id": "ScPgrlNynhw7",
        "colab_type": "code",
        "colab": {
          "base_uri": "https://localhost:8080/",
          "height": 503
        },
        "outputId": "e7564d8a-cdc5-4d6f-c5ca-53a78f2a7768"
      },
      "source": [
        "net"
      ],
      "execution_count": 9,
      "outputs": [
        {
          "output_type": "execute_result",
          "data": {
            "text/plain": [
              "AlexNet(\n",
              "  (features): Sequential(\n",
              "    (0): Conv2d(3, 64, kernel_size=(11, 11), stride=(4, 4), padding=(2, 2))\n",
              "    (1): ReLU(inplace=True)\n",
              "    (2): MaxPool2d(kernel_size=3, stride=2, padding=0, dilation=1, ceil_mode=False)\n",
              "    (3): Conv2d(64, 192, kernel_size=(5, 5), stride=(1, 1), padding=(2, 2))\n",
              "    (4): ReLU(inplace=True)\n",
              "    (5): MaxPool2d(kernel_size=3, stride=2, padding=0, dilation=1, ceil_mode=False)\n",
              "    (6): Conv2d(192, 384, kernel_size=(3, 3), stride=(1, 1), padding=(1, 1))\n",
              "    (7): ReLU(inplace=True)\n",
              "    (8): Conv2d(384, 256, kernel_size=(3, 3), stride=(1, 1), padding=(1, 1))\n",
              "    (9): ReLU(inplace=True)\n",
              "    (10): Conv2d(256, 256, kernel_size=(3, 3), stride=(1, 1), padding=(1, 1))\n",
              "    (11): ReLU(inplace=True)\n",
              "    (12): MaxPool2d(kernel_size=3, stride=2, padding=0, dilation=1, ceil_mode=False)\n",
              "  )\n",
              "  (avgpool): AdaptiveAvgPool2d(output_size=(6, 6))\n",
              "  (classifier): Sequential(\n",
              "    (0): Dropout(p=0.5, inplace=False)\n",
              "    (1): Linear(in_features=9216, out_features=4096, bias=True)\n",
              "    (2): ReLU(inplace=True)\n",
              "    (3): Dropout(p=0.5, inplace=False)\n",
              "    (4): Linear(in_features=4096, out_features=4096, bias=True)\n",
              "    (5): ReLU(inplace=True)\n",
              "    (6): Linear(in_features=4096, out_features=102, bias=True)\n",
              "  )\n",
              ")"
            ]
          },
          "metadata": {
            "tags": []
          },
          "execution_count": 9
        }
      ]
    },
    {
      "cell_type": "markdown",
      "metadata": {
        "id": "KEyL3H_R4qCf",
        "colab_type": "text"
      },
      "source": [
        "**Prepare Training**"
      ]
    },
    {
      "cell_type": "code",
      "metadata": {
        "id": "9sjq00G94tSc",
        "colab_type": "code",
        "colab": {}
      },
      "source": [
        "# Define loss function\n",
        "criterion = nn.CrossEntropyLoss() # for classification, we use Cross Entropy\n",
        "\n",
        "# Choose parameters to optimize\n",
        "# To access a different set of parameters, you have to access submodules of AlexNet\n",
        "# (nn.Module objects, like AlexNet, implement the Composite Pattern)\n",
        "# e.g.: parameters of the fully connected layers: net.classifier.parameters()\n",
        "# e.g.: parameters of the convolutional layers: look at alexnet's source code ;) \n",
        "parameters_to_optimize = net.parameters() # In this case we optimize over all the parameters of AlexNet\n",
        "\n",
        "# Define optimizer\n",
        "# An optimizer updates the weights based on loss\n",
        "# We use SGD with momentum\n",
        "optimizer = optim.SGD(parameters_to_optimize, lr=LR, momentum=MOMENTUM, weight_decay=WEIGHT_DECAY)\n",
        "\n",
        "# Define scheduler\n",
        "# A scheduler dynamically changes learning rate\n",
        "# The most common schedule is the step(-down), which multiplies learning rate by gamma every STEP_SIZE epochs\n",
        "scheduler = optim.lr_scheduler.StepLR(optimizer, step_size=STEP_SIZE, gamma=GAMMA)"
      ],
      "execution_count": 0,
      "outputs": []
    },
    {
      "cell_type": "markdown",
      "metadata": {
        "id": "AxYUli9d9uYQ",
        "colab_type": "text"
      },
      "source": [
        "**Train and Validation**"
      ]
    },
    {
      "cell_type": "markdown",
      "metadata": {
        "id": "qq6_YOzP6zVq",
        "colab_type": "text"
      },
      "source": [
        "| Current hyperparameters | Value |\n",
        "| --- | --- |\n",
        "| Initial learning rate | 0.001 |\n",
        "| Decaying step size | 20 epochs |\n",
        "| Decaying factor | 0.1 |\n",
        "| Optimiser | SGD |\n",
        "| Epochs | 30 |\n",
        "\n"
      ]
    },
    {
      "cell_type": "code",
      "metadata": {
        "id": "5c5AuN_RER-y",
        "colab_type": "code",
        "colab": {}
      },
      "source": [
        "from copy import deepcopy\n",
        "\n",
        "loss_hist = []\n",
        "acc_hist = []\n",
        "\n",
        "# By default, everything is loaded to cpu\n",
        "net = net.to(DEVICE) # this will bring the network to GPU if DEVICE is cuda\n",
        "cudnn.benchmark     # Calling this optimizes runtime\n",
        "\n",
        "current_step = 0"
      ],
      "execution_count": 0,
      "outputs": []
    },
    {
      "cell_type": "code",
      "metadata": {
        "id": "ZcoQ5fD49yT_",
        "colab_type": "code",
        "colab": {
          "base_uri": "https://localhost:8080/",
          "height": 1000
        },
        "outputId": "8e656725-5058-41b9-9a13-8a93df2c2850"
      },
      "source": [
        "# Start iterating over the epochs\n",
        "for epoch in range(NUM_EPOCHS):\n",
        "    print('Starting epoch {}/{}, LR = {}'.format(epoch+1, NUM_EPOCHS, scheduler.get_last_lr()))\n",
        "\n",
        "    # Train part\n",
        "    net.train() # Sets module in training mode\n",
        "\n",
        "    # Iterate over the dataset\n",
        "    for images, labels in train_dataloader:\n",
        "        # Bring data over the device of choice\n",
        "        images = images.to(DEVICE)\n",
        "        labels = labels.to(DEVICE)\n",
        "\n",
        "        # PyTorch, by default, accumulates gradients after each backward pass\n",
        "        # We need to manually set the gradients to zero before starting a new iteration\n",
        "        optimizer.zero_grad() # Zero-ing the gradients\n",
        "\n",
        "        # Forward pass to the network\n",
        "        outputs = net(images)\n",
        "\n",
        "        # Compute loss based on output and ground truth\n",
        "        loss = criterion(outputs, labels)\n",
        "\n",
        "        # Log loss\n",
        "        if current_step % LOG_FREQUENCY == 0:\n",
        "            print('Step {}, Loss {}'.format(current_step, loss.item()))\n",
        "\n",
        "        # Compute gradients for each layer and update weights\n",
        "        loss.backward()  # backward pass: computes gradients\n",
        "        optimizer.step() # update weights based on accumulated gradients\n",
        "\n",
        "        current_step += 1\n",
        "\n",
        "    # Step the scheduler\n",
        "    scheduler.step() \n",
        "\n",
        "    # Use the best model for validation\n",
        "    if not loss_hist or loss.item() < min(loss_hist):\n",
        "        best_net = deepcopy(net)\n",
        "\n",
        "    # Record loss after each epoch\n",
        "\n",
        "    # Validation part\n",
        "    best_net.train(False) # Set Network to evaluation mode\n",
        "\n",
        "    running_corrects = 0\n",
        "    with torch.no_grad():\n",
        "        for images, labels in val_dataloader:\n",
        "            images = images.to(DEVICE)\n",
        "            labels = labels.to(DEVICE)\n",
        "\n",
        "            # Forward Pass\n",
        "            outputs = best_net(images)\n",
        "\n",
        "            # Get predictions\n",
        "            _, preds = torch.max(outputs.data, 1)\n",
        "            \n",
        "            # Update Corrects\n",
        "            running_corrects += torch.sum(preds == labels.data).data.item()\n",
        "\n",
        "    # Calculate Accuracy\n",
        "    accuracy = running_corrects / float(len(val_dataset))\n",
        "    print('Accuracy {}\\n'.format(accuracy))\n",
        "\n",
        "    # Record loss and accuracy after each epoch\n",
        "    loss_hist.append(loss.item())\n",
        "    acc_hist.append(accuracy)"
      ],
      "execution_count": 37,
      "outputs": [
        {
          "output_type": "stream",
          "text": [
            "Starting epoch 1/30, LR = [0.001]\n",
            "Step 0, Loss 4.514472484588623\n",
            "Step 10, Loss 4.51784086227417\n",
            "Accuracy 0.09197786998616875\n",
            "\n",
            "Starting epoch 2/30, LR = [0.001]\n",
            "Step 20, Loss 4.451831817626953\n",
            "Accuracy 0.09197786998616875\n",
            "\n",
            "Starting epoch 3/30, LR = [0.001]\n",
            "Step 30, Loss 4.3598456382751465\n",
            "Accuracy 0.09197786998616875\n",
            "\n",
            "Starting epoch 4/30, LR = [0.001]\n",
            "Step 40, Loss 4.310239315032959\n",
            "Accuracy 0.09197786998616875\n",
            "\n",
            "Starting epoch 5/30, LR = [0.001]\n",
            "Step 50, Loss 4.355845928192139\n",
            "Accuracy 0.09301521438450899\n",
            "\n",
            "Starting epoch 6/30, LR = [0.001]\n",
            "Step 60, Loss 4.299665927886963\n",
            "Accuracy 0.09612724757952974\n",
            "\n",
            "Starting epoch 7/30, LR = [0.001]\n",
            "Step 70, Loss 4.188819885253906\n",
            "Accuracy 0.09439834024896265\n",
            "\n",
            "Starting epoch 8/30, LR = [0.001]\n",
            "Step 80, Loss 4.319115161895752\n",
            "Accuracy 0.09647302904564316\n",
            "\n",
            "Starting epoch 9/30, LR = [0.001]\n",
            "Step 90, Loss 4.173344612121582\n",
            "Accuracy 0.09716459197786999\n",
            "\n",
            "Starting epoch 10/30, LR = [0.001]\n",
            "Step 100, Loss 4.158774375915527\n",
            "Accuracy 0.09336099585062241\n",
            "\n",
            "Starting epoch 11/30, LR = [0.001]\n",
            "Step 110, Loss 4.21061372756958\n",
            "Step 120, Loss 4.109436988830566\n",
            "Accuracy 0.10027662517289074\n",
            "\n",
            "Starting epoch 12/30, LR = [0.001]\n",
            "Step 130, Loss 4.190305709838867\n",
            "Accuracy 0.10442600276625173\n",
            "\n",
            "Starting epoch 13/30, LR = [0.001]\n",
            "Step 140, Loss 4.097229480743408\n",
            "Accuracy 0.10131396957123098\n",
            "\n",
            "Starting epoch 14/30, LR = [0.001]\n",
            "Step 150, Loss 4.140021324157715\n",
            "Accuracy 0.10269709543568464\n",
            "\n",
            "Starting epoch 15/30, LR = [0.001]\n",
            "Step 160, Loss 4.128957748413086\n",
            "Accuracy 0.10304287690179806\n",
            "\n",
            "Starting epoch 16/30, LR = [0.001]\n",
            "Step 170, Loss 4.192359924316406\n",
            "Accuracy 0.10546334716459198\n",
            "\n",
            "Starting epoch 17/30, LR = [0.001]\n",
            "Step 180, Loss 4.228342056274414\n",
            "Accuracy 0.10027662517289074\n",
            "\n",
            "Starting epoch 18/30, LR = [0.001]\n",
            "Step 190, Loss 4.150777339935303\n",
            "Accuracy 0.10235131396957123\n",
            "\n",
            "Starting epoch 19/30, LR = [0.001]\n",
            "Step 200, Loss 4.3314409255981445\n",
            "Accuracy 0.0995850622406639\n",
            "\n",
            "Starting epoch 20/30, LR = [0.001]\n",
            "Step 210, Loss 4.241194725036621\n",
            "Accuracy 0.09889349930843706\n",
            "\n",
            "Starting epoch 21/30, LR = [0.0001]\n",
            "Step 220, Loss 3.995678663253784\n",
            "Step 230, Loss 4.144279479980469\n",
            "Accuracy 0.10442600276625173\n",
            "\n",
            "Starting epoch 22/30, LR = [0.0001]\n",
            "Step 240, Loss 4.160940170288086\n",
            "Accuracy 0.0995850622406639\n",
            "\n",
            "Starting epoch 23/30, LR = [0.0001]\n",
            "Step 250, Loss 3.974120616912842\n",
            "Accuracy 0.1459197786998617\n",
            "\n",
            "Starting epoch 24/30, LR = [0.0001]\n",
            "Step 260, Loss 4.107965469360352\n",
            "Accuracy 0.14488243430152145\n",
            "\n",
            "Starting epoch 25/30, LR = [0.0001]\n",
            "Step 270, Loss 4.1475677490234375\n",
            "Accuracy 0.1479944674965422\n",
            "\n",
            "Starting epoch 26/30, LR = [0.0001]\n",
            "Step 280, Loss 4.122002124786377\n",
            "Accuracy 0.14488243430152145\n",
            "\n",
            "Starting epoch 27/30, LR = [0.0001]\n",
            "Step 290, Loss 4.0949273109436035\n",
            "Accuracy 0.1479944674965422\n",
            "\n",
            "Starting epoch 28/30, LR = [0.0001]\n",
            "Step 300, Loss 4.1885881423950195\n",
            "Accuracy 0.15179806362378975\n",
            "\n",
            "Starting epoch 29/30, LR = [0.0001]\n",
            "Step 310, Loss 4.139151573181152\n",
            "Accuracy 0.1479944674965422\n",
            "\n",
            "Starting epoch 30/30, LR = [0.0001]\n",
            "Step 320, Loss 4.134931564331055\n",
            "Accuracy 0.15110650069156292\n",
            "\n"
          ],
          "name": "stdout"
        }
      ]
    },
    {
      "cell_type": "code",
      "metadata": {
        "id": "2XJxa8iQF9FF",
        "colab_type": "code",
        "colab": {}
      },
      "source": [
        "import matplotlib.pyplot as plt"
      ],
      "execution_count": 0,
      "outputs": []
    },
    {
      "cell_type": "code",
      "metadata": {
        "id": "RReDRPiiGgCh",
        "colab_type": "code",
        "colab": {
          "base_uri": "https://localhost:8080/",
          "height": 573
        },
        "outputId": "ba431a3d-8bea-4db5-9427-7fd7822cc33f"
      },
      "source": [
        "plt.plot(loss_hist)\n",
        "plt.title('Loss VS Epochs')\n",
        "plt.xlabel('epoch')\n",
        "plt.ylabel('loss')\n",
        "plt.show()\n",
        "\n",
        "plt.plot(acc_hist)\n",
        "plt.title('Accuracy VS Epochs')\n",
        "plt.xlabel('epoch')\n",
        "plt.ylabel('accuracy')\n",
        "plt.show()"
      ],
      "execution_count": 42,
      "outputs": [
        {
          "output_type": "display_data",
          "data": {
            "image/png": "[encoded data removed]",
            "text/plain": [
              "<Figure size 432x288 with 1 Axes>"
            ]
          },
          "metadata": {
            "tags": [],
            "needs_background": "light"
          }
        },
        {
          "output_type": "display_data",
          "data": {
            "image/png": "[encoded data removed]",
            "text/plain": [
              "<Figure size 432x288 with 1 Axes>"
            ]
          },
          "metadata": {
            "tags": [],
            "needs_background": "light"
          }
        }
      ]
    },
    {
      "cell_type": "markdown",
      "metadata": {
        "id": "UsHFI-GAJd69",
        "colab_type": "text"
      },
      "source": [
        "**Validation**"
      ]
    },
    {
      "cell_type": "code",
      "metadata": {
        "id": "EO3HV5pqJg1o",
        "colab_type": "code",
        "colab": {}
      },
      "source": [
        "# net = net.to(DEVICE) # this will bring the network to GPU if DEVICE is cuda\n",
        "# net.train(False) # Set Network to evaluation mode\n",
        "\n",
        "# running_corrects = 0\n",
        "# for images, labels in tqdm(val_dataloader):\n",
        "#   images = images.to(DEVICE)\n",
        "#   labels = labels.to(DEVICE)\n",
        "\n",
        "#   # Forward Pass\n",
        "#   outputs = net(images)\n",
        "\n",
        "#   # Get predictions\n",
        "#   _, preds = torch.max(outputs.data, 1)\n",
        "\n",
        "#   # Update Corrects\n",
        "#   running_corrects += torch.sum(preds == labels.data).data.item()\n",
        "\n",
        "# # Calculate Accuracy\n",
        "# accuracy = running_corrects / float(len(val_dataset))\n",
        "\n",
        "# print('Validation Accuracy: {}'.format(accuracy))"
      ],
      "execution_count": 0,
      "outputs": []
    },
    {
      "cell_type": "markdown",
      "metadata": {
        "id": "jxekmR745ySe",
        "colab_type": "text"
      },
      "source": [
        "**Test**"
      ]
    },
    {
      "cell_type": "code",
      "metadata": {
        "id": "fSHcUqLB5yWO",
        "colab_type": "code",
        "outputId": "21784194-23b7-44a3-f215-2ac7e23d043f",
        "colab": {
          "base_uri": "https://localhost:8080/",
          "height": 53
        }
      },
      "source": [
        "best_net = best_net.to(DEVICE) # this will bring the network to GPU if DEVICE is cuda\n",
        "best_net.train(False) # Set Network to evaluation mode\n",
        "\n",
        "running_corrects = 0\n",
        "for images, labels in tqdm(test_dataloader):\n",
        "  images = images.to(DEVICE)\n",
        "  labels = labels.to(DEVICE)\n",
        "\n",
        "  # Forward Pass\n",
        "  outputs = best_net(images)\n",
        "\n",
        "  # Get predictions\n",
        "  _, preds = torch.max(outputs.data, 1)\n",
        "\n",
        "  # Update Corrects\n",
        "  running_corrects += torch.sum(preds == labels.data).data.item()\n",
        "\n",
        "# Calculate Accuracy\n",
        "accuracy = running_corrects / float(len(test_dataset))\n",
        "\n",
        "print('Test Accuracy: {}'.format(accuracy))"
      ],
      "execution_count": 40,
      "outputs": [
        {
          "output_type": "stream",
          "text": [
            "100%|██████████| 12/12 [00:12<00:00,  1.01s/it]"
          ],
          "name": "stderr"
        },
        {
          "output_type": "stream",
          "text": [
            "Test Accuracy: 0.15485655029381265\n"
          ],
          "name": "stdout"
        },
        {
          "output_type": "stream",
          "text": [
            "\n"
          ],
          "name": "stderr"
        }
      ]
    },
    {
      "cell_type": "markdown",
      "metadata": {
        "id": "3MOR7X5oH_-j",
        "colab_type": "text"
      },
      "source": [
        "# Experiment with different sets of hyperparameters"
      ]
    },
    {
      "cell_type": "code",
      "metadata": {
        "id": "esbm-z6lH8Dp",
        "colab_type": "code",
        "colab": {}
      },
      "source": [
        ""
      ],
      "execution_count": 0,
      "outputs": []
    }
  ]
}